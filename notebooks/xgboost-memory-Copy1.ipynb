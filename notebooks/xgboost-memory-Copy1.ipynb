{
 "cells": [
  {
   "cell_type": "code",
   "execution_count": null,
   "metadata": {},
   "outputs": [],
   "source": [
    "import gc\n",
    "import os\n",
    "import operator\n",
    "\n",
    "from glob import glob\n",
    "\n",
    "import numpy as np\n",
    "import pandas as pd\n",
    "import xgboost as xgb\n",
    "import matplotlib.pyplot as plt\n",
    "\n",
    "from pandas.core.categorical import Categorical\n",
    "from scipy.sparse import csr_matrix, hstack"
   ]
  },
  {
   "cell_type": "code",
   "execution_count": 1,
   "metadata": {},
   "outputs": [],
   "source": [
    "dtypes = {\n",
    "    'ip': 'uint32',\n",
    "    'app': 'uint16',\n",
    "    'device': 'uint16',\n",
    "    'os': 'uint16',\n",
    "    'channel': 'uint16',\n",
    "    'is_attributed': 'uint8'\n",
    "}\n",
    "\n",
    "# Features used in training\n",
    "categorical_features = ['app', 'device', 'os', 'channel']\n",
    "numerical_features = ['clicks_by_ip']\n",
    "\n",
    "def sparse_dummies(df, column):\n",
    "    \"\"\"Returns sparse OHE matrix for the column of the dataframe\"\"\"\n",
    "    categories = Categorical(df[column])\n",
    "    column_names = np.array([f\"{column}_{str(i)}\" for i in range(len(categories.categories))])\n",
    "    N = len(categories)\n",
    "    row_numbers = np.arange(N, dtype=np.int)\n",
    "    ones = np.ones((N,))\n",
    "    return csr_matrix((ones, (row_numbers, categories.codes))), column_names\n",
    "\n",
    "df_train = pd.read_csv('../data/raw/train.csv', usecols=to_read, dtype=dtypes, parse_dates=to_parse)\n",
    "\n",
    "# Example of numerical feature\n",
    "clicks_by_ip = df_train.groupby(['ip']).size().rename('clicks_by_ip', inplace=True)\n",
    "df_train = df_train.join(clicks_by_ip, on='ip')\n",
    "\n",
    "matrices = []\n",
    "all_column_names = []\n",
    "# creates a matrix per categorical feature\n",
    "for c in categorical_features:\n",
    "    matrix, column_names = sparse_dummies(df_train, c)\n",
    "    matrices.append(matrix)\n",
    "    all_column_names.append(column_names)\n",
    "\n",
    "# appends a matrix for numerical features (one column per feature)\n",
    "matrices.append(csr_matrix(df_train[numerical_features].values, dtype=float))\n",
    "all_column_names.append(df_train[numerical_features].columns.values)\n",
    "\n",
    "train_sparse = hstack(matrices, format=\"csr\")\n",
    "feature_names = np.concatenate(all_column_names)\n",
    "del matrices, all_column_names\n",
    "\n",
    "X = train_sparse\n",
    "y = df_train['is_attributed']\n",
    "\n",
    "del df_train\n",
    "gc.collect()\n",
    "\n",
    "# Create binary training and validation files for XGBoost\n",
    "x1, y1 = X[:train_size], y.iloc[:train_size]\n",
    "dm1 = xgb.DMatrix(x1, y1, feature_names=feature_names)\n",
    "dm1.save_binary('train.bin')\n",
    "del dm1, x1, y1\n",
    "gc.collect()\n",
    "\n",
    "x2, y2 = X[train_size:], y.iloc[train_size:]\n",
    "dm2 = xgb.DMatrix(x2, y2, feature_names=feature_names)\n",
    "dm2.save_binary('validate.bin')\n",
    "del dm2, x2, y2, X, y\n",
    "gc.collect()\n",
    "\n",
    "# XGBoost parameters example\n",
    "params = {\n",
    "    'eta': 0.3,\n",
    "    'tree_method': \"hist\",\n",
    "    'grow_policy': \"lossguide\",\n",
    "    'max_leaves': 1000,  \n",
    "    'max_depth': 0, \n",
    "    'subsample': 0.9, \n",
    "    'alpha':1,\n",
    "    'objective': 'binary:logistic', \n",
    "    'scale_pos_weight':100,\n",
    "    'eval_metric': 'auc', \n",
    "    'nthread':16,\n",
    "    'silent': 1\n",
    "}"
   ]
  },
  {
   "cell_type": "code",
   "execution_count": 2,
   "metadata": {},
   "outputs": [
    {
     "name": "stdout",
     "output_type": "stream",
     "text": [
      "[0]\ttrain-auc:0.971783\tvalid-auc:0.967348\n",
      "Multiple eval metrics have been passed: 'valid-auc' will be used for early stopping.\n",
      "\n",
      "Will train until valid-auc hasn't improved in 10 rounds.\n",
      "[1]\ttrain-auc:0.972359\tvalid-auc:0.968148\n",
      "[2]\ttrain-auc:0.972898\tvalid-auc:0.968262\n",
      "[3]\ttrain-auc:0.973283\tvalid-auc:0.968606\n",
      "[4]\ttrain-auc:0.973542\tvalid-auc:0.968695\n",
      "[5]\ttrain-auc:0.973809\tvalid-auc:0.968882\n",
      "[6]\ttrain-auc:0.97414\tvalid-auc:0.969127\n",
      "[7]\ttrain-auc:0.97441\tvalid-auc:0.969234\n",
      "[8]\ttrain-auc:0.974761\tvalid-auc:0.969416\n",
      "[9]\ttrain-auc:0.975415\tvalid-auc:0.969733\n",
      "[10]\ttrain-auc:0.975863\tvalid-auc:0.969835\n",
      "[11]\ttrain-auc:0.976264\tvalid-auc:0.969859\n",
      "[12]\ttrain-auc:0.976675\tvalid-auc:0.969922\n",
      "[13]\ttrain-auc:0.97705\tvalid-auc:0.969913\n",
      "[14]\ttrain-auc:0.97747\tvalid-auc:0.969975\n",
      "[15]\ttrain-auc:0.977911\tvalid-auc:0.970018\n",
      "[16]\ttrain-auc:0.978283\tvalid-auc:0.970012\n",
      "[17]\ttrain-auc:0.978695\tvalid-auc:0.970022\n",
      "[18]\ttrain-auc:0.979005\tvalid-auc:0.970021\n",
      "[19]\ttrain-auc:0.979259\tvalid-auc:0.969934\n",
      "[20]\ttrain-auc:0.979424\tvalid-auc:0.969935\n",
      "[21]\ttrain-auc:0.979555\tvalid-auc:0.969821\n",
      "[22]\ttrain-auc:0.979706\tvalid-auc:0.969774\n",
      "[23]\ttrain-auc:0.979746\tvalid-auc:0.969652\n",
      "[24]\ttrain-auc:0.979775\tvalid-auc:0.96959\n",
      "[25]\ttrain-auc:0.979881\tvalid-auc:0.969512\n",
      "[26]\ttrain-auc:0.980103\tvalid-auc:0.969618\n",
      "[27]\ttrain-auc:0.980193\tvalid-auc:0.96952\n",
      "Stopping. Best iteration:\n",
      "[17]\ttrain-auc:0.978695\tvalid-auc:0.970022\n",
      "\n"
     ]
    }
   ],
   "source": [
    "# Pointers to binary files for training and validation\n",
    "# They won't be loaded into Python environment but passed directly to XGBoost\n",
    "dmtrain = xgb.DMatrix('train.bin', feature_names=feature_names)\n",
    "dmvalid = xgb.DMatrix('validate.bin', feature_names=feature_names)\n",
    "\n",
    "# Training process\n",
    "watchlist = [(dmtrain, 'train'), (dmvalid, 'valid')]\n",
    "model = xgb.train(params, dmtrain, 50, watchlist, maximize=True, early_stopping_rounds=10, verbose_eval=1)"
   ]
  },
  {
   "cell_type": "code",
   "execution_count": 3,
   "metadata": {},
   "outputs": [
    {
     "name": "stdout",
     "output_type": "stream",
     "text": [
      "          feature    fscore\n",
      "448  clicks_by_ip  0.383526\n",
      "447         os_19  0.024453\n",
      "446         os_13  0.023023\n",
      "445         os_22  0.017625\n",
      "444         os_17  0.014765\n",
      "443         os_18  0.013335\n",
      "442      device_1  0.012870\n",
      "441         os_16  0.010689\n",
      "440         os_25  0.010618\n",
      "439         os_14  0.009867\n"
     ]
    }
   ],
   "source": [
    "# Feature importance as a DataFrame\n",
    "importance = sorted(model.get_fscore().items(), key=operator.itemgetter(1))\n",
    "df = pd.DataFrame(importance, columns=['feature', 'fscore'])\n",
    "df['fscore'] = df['fscore'] / df['fscore'].sum()\n",
    "print(df.sort_values('fscore', ascending=False).head(10))"
   ]
  },
  {
   "cell_type": "code",
   "execution_count": 4,
   "metadata": {},
   "outputs": [
    {
     "data": {
      "image/png": "[encoded data removed]",
      "text/plain": [
       "<Figure size 720x720 with 1 Axes>"
      ]
     },
     "metadata": {},
     "output_type": "display_data"
    }
   ],
   "source": [
    "# Feature importance as a plot\n",
    "fig, ax = plt.subplots(figsize=(10, 10))\n",
    "xgb.plot_importance(model, ax=ax, max_num_features=20)\n",
    "plt.savefig('importance.png', format=\"png\")"
   ]
  },
  {
   "cell_type": "code",
   "execution_count": null,
   "metadata": {},
   "outputs": [],
   "source": []
  }
 ],
 "metadata": {
  "kernelspec": {
   "display_name": "Python 3",
   "language": "python",
   "name": "python3"
  },
  "language_info": {
   "codemirror_mode": {
    "name": "ipython",
    "version": 3
   },
   "file_extension": ".py",
   "mimetype": "text/x-python",
   "name": "python",
   "nbconvert_exporter": "python",
   "pygments_lexer": "ipython3",
   "version": "3.6.4"
  }
 },
 "nbformat": 4,
 "nbformat_minor": 2
}

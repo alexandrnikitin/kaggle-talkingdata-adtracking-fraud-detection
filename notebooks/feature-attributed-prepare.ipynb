{
 "cells": [
  {
   "cell_type": "code",
   "execution_count": 1,
   "metadata": {},
   "outputs": [],
   "source": [
    "import gc\n",
    "import os\n",
    "import pandas as pd\n",
    "from glob import glob\n",
    "from itertools import combinations"
   ]
  },
  {
   "cell_type": "code",
   "execution_count": 13,
   "metadata": {},
   "outputs": [
    {
     "data": {
      "text/plain": [
       "['../data/interim/features/app/features_2017-11-07_1700_1day_attributed2.hdf.compress',\n",
       " '../data/interim/features/app/features_2017-11-08_1700_1day_attributed.hdf.compress',\n",
       " '../data/interim/features/app/features_2017-11-08_1700_1day_attributed2.hdf.compress',\n",
       " '../data/interim/features/app_channel/features_2017-11-07_1700_1day_attributed2.hdf.compress',\n",
       " '../data/interim/features/app_channel/features_2017-11-08_1700_1day_attributed2.hdf.compress',\n",
       " '../data/interim/features/app_device/features_2017-11-07_1700_1day_attributed2.hdf.compress',\n",
       " '../data/interim/features/app_device/features_2017-11-08_1700_1day_attributed2.hdf.compress',\n",
       " '../data/interim/features/app_ip/features_2017-11-07_1700_1day_attributed2.hdf.compress',\n",
       " '../data/interim/features/app_ip/features_2017-11-08_1700_1day_attributed2.hdf.compress',\n",
       " '../data/interim/features/app_os/features_2017-11-07_1700_1day_attributed2.hdf.compress',\n",
       " '../data/interim/features/app_os/features_2017-11-08_1700_1day_attributed2.hdf.compress',\n",
       " '../data/interim/features/channel/features_2017-11-07_1700_1day_attributed2.hdf.compress',\n",
       " '../data/interim/features/channel/features_2017-11-08_1700_1day_attributed2.hdf.compress',\n",
       " '../data/interim/features/channel_ip/features_2017-11-07_1700_1day_attributed2.hdf.compress',\n",
       " '../data/interim/features/device/features_2017-11-07_1700_1day_attributed2.hdf.compress',\n",
       " '../data/interim/features/device/features_2017-11-08_1700_1day_attributed2.hdf.compress',\n",
       " '../data/interim/features/device_channel/features_2017-11-07_1700_1day_attributed2.hdf.compress',\n",
       " '../data/interim/features/device_channel/features_2017-11-08_1700_1day_attributed2.hdf.compress',\n",
       " '../data/interim/features/device_ip/features_2017-11-07_1700_1day_attributed2.hdf.compress',\n",
       " '../data/interim/features/device_ip/features_2017-11-08_1700_1day_attributed2.hdf.compress',\n",
       " '../data/interim/features/device_os/features_2017-11-07_1700_1day_attributed2.hdf.compress',\n",
       " '../data/interim/features/device_os/features_2017-11-08_1700_1day_attributed2.hdf.compress',\n",
       " '../data/interim/features/ip/features_2017-11-07_1700_1day_attributed2.hdf.compress',\n",
       " '../data/interim/features/ip/features_2017-11-08_1700_1day_attributed2.hdf.compress',\n",
       " '../data/interim/features/os/features_2017-11-07_1700_1day_attributed2.hdf.compress',\n",
       " '../data/interim/features/os/features_2017-11-08_1700_1day_attributed2.hdf.compress',\n",
       " '../data/interim/features/os_channel/features_2017-11-07_1700_1day_attributed2.hdf.compress',\n",
       " '../data/interim/features/os_channel/features_2017-11-08_1700_1day_attributed2.hdf.compress',\n",
       " '../data/interim/features/os_ip/features_2017-11-07_1700_1day_attributed2.hdf.compress',\n",
       " '../data/interim/features/os_ip/features_2017-11-08_1700_1day_attributed2.hdf.compress']"
      ]
     },
     "execution_count": 13,
     "metadata": {},
     "output_type": "execute_result"
    }
   ],
   "source": [
    "sorted(glob(f\"../data/interim/features/*/features*.hdf.compress\"))"
   ]
  },
  {
   "cell_type": "code",
   "execution_count": 23,
   "metadata": {},
   "outputs": [
    {
     "data": {
      "text/plain": [
       "['../data/interim/train_2017-11-06_1400.csv',\n",
       " '../data/interim/train_2017-11-06_1500.csv',\n",
       " '../data/interim/train_2017-11-06_1600.csv',\n",
       " '../data/interim/train_2017-11-06_1700.csv',\n",
       " '../data/interim/train_2017-11-06_1800.csv',\n",
       " '../data/interim/train_2017-11-06_1900.csv',\n",
       " '../data/interim/train_2017-11-06_2000.csv',\n",
       " '../data/interim/train_2017-11-06_2100.csv',\n",
       " '../data/interim/train_2017-11-06_2200.csv',\n",
       " '../data/interim/train_2017-11-06_2300.csv',\n",
       " '../data/interim/train_2017-11-07_0000.csv',\n",
       " '../data/interim/train_2017-11-07_0100.csv',\n",
       " '../data/interim/train_2017-11-07_0200.csv',\n",
       " '../data/interim/train_2017-11-07_0300.csv',\n",
       " '../data/interim/train_2017-11-07_0400.csv',\n",
       " '../data/interim/train_2017-11-07_0500.csv',\n",
       " '../data/interim/train_2017-11-07_0600.csv',\n",
       " '../data/interim/train_2017-11-07_0700.csv',\n",
       " '../data/interim/train_2017-11-07_0800.csv',\n",
       " '../data/interim/train_2017-11-07_0900.csv',\n",
       " '../data/interim/train_2017-11-07_1000.csv',\n",
       " '../data/interim/train_2017-11-07_1100.csv',\n",
       " '../data/interim/train_2017-11-07_1200.csv',\n",
       " '../data/interim/train_2017-11-07_1300.csv',\n",
       " '../data/interim/train_2017-11-07_1400.csv',\n",
       " '../data/interim/train_2017-11-07_1500.csv',\n",
       " '../data/interim/train_2017-11-07_1600.csv',\n",
       " '../data/interim/train_2017-11-07_1700.csv',\n",
       " '../data/interim/train_2017-11-07_1800.csv',\n",
       " '../data/interim/train_2017-11-07_1900.csv',\n",
       " '../data/interim/train_2017-11-07_2000.csv',\n",
       " '../data/interim/train_2017-11-07_2100.csv',\n",
       " '../data/interim/train_2017-11-07_2200.csv',\n",
       " '../data/interim/train_2017-11-07_2300.csv',\n",
       " '../data/interim/train_2017-11-08_0000.csv',\n",
       " '../data/interim/train_2017-11-08_0100.csv',\n",
       " '../data/interim/train_2017-11-08_0200.csv',\n",
       " '../data/interim/train_2017-11-08_0300.csv',\n",
       " '../data/interim/train_2017-11-08_0400.csv',\n",
       " '../data/interim/train_2017-11-08_0500.csv',\n",
       " '../data/interim/train_2017-11-08_0600.csv',\n",
       " '../data/interim/train_2017-11-08_0700.csv',\n",
       " '../data/interim/train_2017-11-08_0800.csv',\n",
       " '../data/interim/train_2017-11-08_0900.csv',\n",
       " '../data/interim/train_2017-11-08_1000.csv',\n",
       " '../data/interim/train_2017-11-08_1100.csv',\n",
       " '../data/interim/train_2017-11-08_1200.csv',\n",
       " '../data/interim/train_2017-11-08_1300.csv',\n",
       " '../data/interim/train_2017-11-08_1400.csv',\n",
       " '../data/interim/train_2017-11-08_1500.csv',\n",
       " '../data/interim/train_2017-11-08_1600.csv',\n",
       " '../data/interim/train_2017-11-08_1700.csv',\n",
       " '../data/interim/train_2017-11-08_1800.csv',\n",
       " '../data/interim/train_2017-11-08_1900.csv',\n",
       " '../data/interim/train_2017-11-08_2000.csv',\n",
       " '../data/interim/train_2017-11-08_2100.csv',\n",
       " '../data/interim/train_2017-11-08_2200.csv',\n",
       " '../data/interim/train_2017-11-08_2300.csv',\n",
       " '../data/interim/train_2017-11-09_0000.csv',\n",
       " '../data/interim/train_2017-11-09_0100.csv',\n",
       " '../data/interim/train_2017-11-09_0200.csv',\n",
       " '../data/interim/train_2017-11-09_0300.csv',\n",
       " '../data/interim/train_2017-11-09_0400.csv',\n",
       " '../data/interim/train_2017-11-09_0500.csv',\n",
       " '../data/interim/train_2017-11-09_0600.csv',\n",
       " '../data/interim/train_2017-11-09_0700.csv',\n",
       " '../data/interim/train_2017-11-09_0800.csv',\n",
       " '../data/interim/train_2017-11-09_0900.csv',\n",
       " '../data/interim/train_2017-11-09_1000.csv',\n",
       " '../data/interim/train_2017-11-09_1100.csv',\n",
       " '../data/interim/train_2017-11-09_1200.csv',\n",
       " '../data/interim/train_2017-11-09_1300.csv',\n",
       " '../data/interim/train_2017-11-09_1400.csv',\n",
       " '../data/interim/train_2017-11-09_1500.csv',\n",
       " '../data/interim/train_2017-11-09_1600.csv']"
      ]
     },
     "execution_count": 23,
     "metadata": {},
     "output_type": "execute_result"
    }
   ],
   "source": [
    "sorted(glob(f\"../data/interim/train_2017-11-0*00.csv\"))"
   ]
  },
  {
   "cell_type": "code",
   "execution_count": 2,
   "metadata": {},
   "outputs": [],
   "source": [
    "dtypes = {\n",
    "    'ip': 'uint32',\n",
    "    'app': 'uint16',\n",
    "    'device': 'uint16',\n",
    "    'os': 'uint16',\n",
    "    'channel': 'uint16',\n",
    "    'is_attributed': 'uint8'\n",
    "}\n",
    "to_read = ['ip', 'app', 'device', 'os', 'channel', 'click_time', 'is_attributed']"
   ]
  },
  {
   "cell_type": "code",
   "execution_count": 3,
   "metadata": {},
   "outputs": [],
   "source": [
    "target_entities_init = ['app', 'device', 'os', 'channel', 'ip']\n",
    "target_entities = []\n",
    "\n",
    "for t in combinations(target_entities_init, 1):\n",
    "    target_entities.append(t[0])\n",
    "for t in combinations(target_entities_init, 2):\n",
    "    target_entities.append(list(t))\n",
    "# for t in combinations(target_entities_init, 3):\n",
    "#     target_entities.append(list(t))\n",
    "# for t in combinations(target_entities_init, 4):\n",
    "#     target_entities.append(list(t))\n",
    "\n",
    "target_entities.remove(['channel', 'ip'])"
   ]
  },
  {
   "cell_type": "code",
   "execution_count": 4,
   "metadata": {},
   "outputs": [],
   "source": [
    "train_files = [\n",
    "    '../data/interim/train_2017-11-07_1700.csv',\n",
    "    '../data/interim/train_2017-11-07_1800.csv',\n",
    "    '../data/interim/train_2017-11-07_1900.csv',\n",
    "    '../data/interim/train_2017-11-07_2000.csv',\n",
    "    '../data/interim/train_2017-11-07_2100.csv',\n",
    "    '../data/interim/train_2017-11-07_2200.csv',\n",
    "    '../data/interim/train_2017-11-07_2300.csv',\n",
    "    '../data/interim/train_2017-11-08_0000.csv',\n",
    "    '../data/interim/train_2017-11-08_0100.csv',\n",
    "    '../data/interim/train_2017-11-08_0200.csv',\n",
    "    '../data/interim/train_2017-11-08_0300.csv',\n",
    "    '../data/interim/train_2017-11-08_0400.csv',\n",
    "    '../data/interim/train_2017-11-08_0500.csv',\n",
    "    '../data/interim/train_2017-11-08_0600.csv',\n",
    "    '../data/interim/train_2017-11-08_0700.csv',\n",
    "    '../data/interim/train_2017-11-08_0800.csv',\n",
    "    '../data/interim/train_2017-11-08_0900.csv',\n",
    "    '../data/interim/train_2017-11-08_1000.csv',\n",
    "    '../data/interim/train_2017-11-08_1100.csv',\n",
    "    '../data/interim/train_2017-11-08_1200.csv',\n",
    "    '../data/interim/train_2017-11-08_1300.csv',\n",
    "    '../data/interim/train_2017-11-08_1400.csv',\n",
    "    '../data/interim/train_2017-11-08_1500.csv',\n",
    "    '../data/interim/train_2017-11-08_1600.csv'\n",
    "]"
   ]
  },
  {
   "cell_type": "code",
   "execution_count": 9,
   "metadata": {},
   "outputs": [],
   "source": [
    "validation_files = [\n",
    "    '../data/interim/train_2017-11-09_0400.csv',\n",
    "    '../data/interim/train_2017-11-09_0500.csv',\n",
    "    '../data/interim/train_2017-11-09_0600.csv',\n",
    "]"
   ]
  },
  {
   "cell_type": "code",
   "execution_count": 5,
   "metadata": {},
   "outputs": [],
   "source": [
    "def split(df, target_entity):\n",
    "    if type(target_entity) == str:\n",
    "        df[target_entity] = df.index\n",
    "    else:\n",
    "        df[target_entity[0]], df[target_entity[1]] = df.index.str.split('_', 1).str\n",
    "        df[target_entity[0]] = df[target_entity[0]].astype(dtypes[target_entity[0]])\n",
    "        df[target_entity[1]] = df[target_entity[1]].astype(dtypes[target_entity[1]])\n",
    "    return df"
   ]
  },
  {
   "cell_type": "code",
   "execution_count": 6,
   "metadata": {},
   "outputs": [],
   "source": [
    "def combine_features(train_files, features_prefix, feature_suffix):\n",
    "    for train_file in train_files:\n",
    "        df_train = pd.read_csv(train_file, usecols=to_read, dtype=dtypes)\n",
    "        name, ext = os.path.splitext(os.path.basename(train_file))\n",
    "        for target_entity in target_entities:\n",
    "            target_entity_name = target_entity if type(target_entity) == str else \"_\".join(target_entity)\n",
    "            feature_files = sorted(glob(f\"../data/interim/features/{target_entity_name}/{features_prefix}*{feature_suffix}.hdf.compress\"))\n",
    "            assert len(feature_files) > 0\n",
    "            for feature_file in feature_files:\n",
    "                df_feature = pd.read_hdf(feature_file)\n",
    "                df_feature = split(df_feature, target_entity)\n",
    "                df_train = pd.merge(df_train, df_feature, how='left', left_on=target_entity, right_on=target_entity)\n",
    "                del df_feature\n",
    "                gc.collect()\n",
    "\n",
    "        filename_output = f\"../data/interim/combined/{name}_{feature_suffix}.hdf.compress\"\n",
    "        print(f\"Writing {filename_output}\")\n",
    "        df_train.to_hdf(filename_output, 'train', mode='w', complib='blosc', fletcher32=True, complevel=9)\n",
    "        del df_train\n",
    "        gc.collect()"
   ]
  },
  {
   "cell_type": "code",
   "execution_count": 7,
   "metadata": {},
   "outputs": [
    {
     "name": "stdout",
     "output_type": "stream",
     "text": [
      "Writing ../data/interim/combined/train_2017-11-07_1700_attributed2.hdf.compress\n",
      "Writing ../data/interim/combined/train_2017-11-07_1800_attributed2.hdf.compress\n",
      "Writing ../data/interim/combined/train_2017-11-07_1900_attributed2.hdf.compress\n",
      "Writing ../data/interim/combined/train_2017-11-07_2000_attributed2.hdf.compress\n",
      "Writing ../data/interim/combined/train_2017-11-07_2100_attributed2.hdf.compress\n",
      "Writing ../data/interim/combined/train_2017-11-07_2200_attributed2.hdf.compress\n",
      "Writing ../data/interim/combined/train_2017-11-07_2300_attributed2.hdf.compress\n",
      "Writing ../data/interim/combined/train_2017-11-08_0000_attributed2.hdf.compress\n",
      "Writing ../data/interim/combined/train_2017-11-08_0100_attributed2.hdf.compress\n",
      "Writing ../data/interim/combined/train_2017-11-08_0200_attributed2.hdf.compress\n",
      "Writing ../data/interim/combined/train_2017-11-08_0300_attributed2.hdf.compress\n",
      "Writing ../data/interim/combined/train_2017-11-08_0400_attributed2.hdf.compress\n",
      "Writing ../data/interim/combined/train_2017-11-08_0500_attributed2.hdf.compress\n",
      "Writing ../data/interim/combined/train_2017-11-08_0600_attributed2.hdf.compress\n"
     ]
    },
    {
     "ename": "KeyboardInterrupt",
     "evalue": "",
     "output_type": "error",
     "traceback": [
      "\u001b[0;31m---------------------------------------------------------------------------\u001b[0m",
      "\u001b[0;31mKeyboardInterrupt\u001b[0m                         Traceback (most recent call last)",
      "\u001b[0;32m<ipython-input-7-2e1de5b315f0>\u001b[0m in \u001b[0;36m<module>\u001b[0;34m()\u001b[0m\n\u001b[0;32m----> 1\u001b[0;31m \u001b[0mcombine_features\u001b[0m\u001b[0;34m(\u001b[0m\u001b[0mtrain_files\u001b[0m\u001b[0;34m,\u001b[0m \u001b[0;34m'features_2017-11-07_1700'\u001b[0m\u001b[0;34m,\u001b[0m \u001b[0;34m'attributed2'\u001b[0m\u001b[0;34m)\u001b[0m\u001b[0;34m\u001b[0m\u001b[0m\n\u001b[0m",
      "\u001b[0;32m<ipython-input-6-d5003e04c20a>\u001b[0m in \u001b[0;36mcombine_features\u001b[0;34m(train_files, features_prefix, feature_suffix)\u001b[0m\n\u001b[1;32m     10\u001b[0m                 \u001b[0mdf_feature\u001b[0m \u001b[0;34m=\u001b[0m \u001b[0mpd\u001b[0m\u001b[0;34m.\u001b[0m\u001b[0mread_hdf\u001b[0m\u001b[0;34m(\u001b[0m\u001b[0mfeature_file\u001b[0m\u001b[0;34m)\u001b[0m\u001b[0;34m\u001b[0m\u001b[0m\n\u001b[1;32m     11\u001b[0m                 \u001b[0mdf_feature\u001b[0m \u001b[0;34m=\u001b[0m \u001b[0msplit\u001b[0m\u001b[0;34m(\u001b[0m\u001b[0mdf_feature\u001b[0m\u001b[0;34m,\u001b[0m \u001b[0mtarget_entity\u001b[0m\u001b[0;34m)\u001b[0m\u001b[0;34m\u001b[0m\u001b[0m\n\u001b[0;32m---> 12\u001b[0;31m                 \u001b[0mdf_train\u001b[0m \u001b[0;34m=\u001b[0m \u001b[0mpd\u001b[0m\u001b[0;34m.\u001b[0m\u001b[0mmerge\u001b[0m\u001b[0;34m(\u001b[0m\u001b[0mdf_train\u001b[0m\u001b[0;34m,\u001b[0m \u001b[0mdf_feature\u001b[0m\u001b[0;34m,\u001b[0m \u001b[0mhow\u001b[0m\u001b[0;34m=\u001b[0m\u001b[0;34m'left'\u001b[0m\u001b[0;34m,\u001b[0m \u001b[0mleft_on\u001b[0m\u001b[0;34m=\u001b[0m\u001b[0mtarget_entity\u001b[0m\u001b[0;34m,\u001b[0m \u001b[0mright_on\u001b[0m\u001b[0;34m=\u001b[0m\u001b[0mtarget_entity\u001b[0m\u001b[0;34m)\u001b[0m\u001b[0;34m\u001b[0m\u001b[0m\n\u001b[0m\u001b[1;32m     13\u001b[0m                 \u001b[0;32mdel\u001b[0m \u001b[0mdf_feature\u001b[0m\u001b[0;34m\u001b[0m\u001b[0m\n\u001b[1;32m     14\u001b[0m                 \u001b[0mgc\u001b[0m\u001b[0;34m.\u001b[0m\u001b[0mcollect\u001b[0m\u001b[0;34m(\u001b[0m\u001b[0;34m)\u001b[0m\u001b[0;34m\u001b[0m\u001b[0m\n",
      "\u001b[0;32m/opt/conda/lib/python3.6/site-packages/pandas/core/reshape/merge.py\u001b[0m in \u001b[0;36mmerge\u001b[0;34m(left, right, how, on, left_on, right_on, left_index, right_index, sort, suffixes, copy, indicator, validate)\u001b[0m\n\u001b[1;32m     56\u001b[0m                          \u001b[0mcopy\u001b[0m\u001b[0;34m=\u001b[0m\u001b[0mcopy\u001b[0m\u001b[0;34m,\u001b[0m \u001b[0mindicator\u001b[0m\u001b[0;34m=\u001b[0m\u001b[0mindicator\u001b[0m\u001b[0;34m,\u001b[0m\u001b[0;34m\u001b[0m\u001b[0m\n\u001b[1;32m     57\u001b[0m                          validate=validate)\n\u001b[0;32m---> 58\u001b[0;31m     \u001b[0;32mreturn\u001b[0m \u001b[0mop\u001b[0m\u001b[0;34m.\u001b[0m\u001b[0mget_result\u001b[0m\u001b[0;34m(\u001b[0m\u001b[0;34m)\u001b[0m\u001b[0;34m\u001b[0m\u001b[0m\n\u001b[0m\u001b[1;32m     59\u001b[0m \u001b[0;34m\u001b[0m\u001b[0m\n\u001b[1;32m     60\u001b[0m \u001b[0;34m\u001b[0m\u001b[0m\n",
      "\u001b[0;32m/opt/conda/lib/python3.6/site-packages/pandas/core/reshape/merge.py\u001b[0m in \u001b[0;36mget_result\u001b[0;34m(self)\u001b[0m\n\u001b[1;32m    594\u001b[0m             \u001b[0;34m[\u001b[0m\u001b[0;34m(\u001b[0m\u001b[0mldata\u001b[0m\u001b[0;34m,\u001b[0m \u001b[0mlindexers\u001b[0m\u001b[0;34m)\u001b[0m\u001b[0;34m,\u001b[0m \u001b[0;34m(\u001b[0m\u001b[0mrdata\u001b[0m\u001b[0;34m,\u001b[0m \u001b[0mrindexers\u001b[0m\u001b[0;34m)\u001b[0m\u001b[0;34m]\u001b[0m\u001b[0;34m,\u001b[0m\u001b[0;34m\u001b[0m\u001b[0m\n\u001b[1;32m    595\u001b[0m             \u001b[0maxes\u001b[0m\u001b[0;34m=\u001b[0m\u001b[0;34m[\u001b[0m\u001b[0mllabels\u001b[0m\u001b[0;34m.\u001b[0m\u001b[0mappend\u001b[0m\u001b[0;34m(\u001b[0m\u001b[0mrlabels\u001b[0m\u001b[0;34m)\u001b[0m\u001b[0;34m,\u001b[0m \u001b[0mjoin_index\u001b[0m\u001b[0;34m]\u001b[0m\u001b[0;34m,\u001b[0m\u001b[0;34m\u001b[0m\u001b[0m\n\u001b[0;32m--> 596\u001b[0;31m             concat_axis=0, copy=self.copy)\n\u001b[0m\u001b[1;32m    597\u001b[0m \u001b[0;34m\u001b[0m\u001b[0m\n\u001b[1;32m    598\u001b[0m         \u001b[0mtyp\u001b[0m \u001b[0;34m=\u001b[0m \u001b[0mself\u001b[0m\u001b[0;34m.\u001b[0m\u001b[0mleft\u001b[0m\u001b[0;34m.\u001b[0m\u001b[0m_constructor\u001b[0m\u001b[0;34m\u001b[0m\u001b[0m\n",
      "\u001b[0;32m/opt/conda/lib/python3.6/site-packages/pandas/core/internals.py\u001b[0m in \u001b[0;36mconcatenate_block_managers\u001b[0;34m(mgrs_indexers, axes, concat_axis, copy)\u001b[0m\n\u001b[1;32m   5201\u001b[0m         \u001b[0;32melse\u001b[0m\u001b[0;34m:\u001b[0m\u001b[0;34m\u001b[0m\u001b[0m\n\u001b[1;32m   5202\u001b[0m             b = make_block(\n\u001b[0;32m-> 5203\u001b[0;31m                 \u001b[0mconcatenate_join_units\u001b[0m\u001b[0;34m(\u001b[0m\u001b[0mjoin_units\u001b[0m\u001b[0;34m,\u001b[0m \u001b[0mconcat_axis\u001b[0m\u001b[0;34m,\u001b[0m \u001b[0mcopy\u001b[0m\u001b[0;34m=\u001b[0m\u001b[0mcopy\u001b[0m\u001b[0;34m)\u001b[0m\u001b[0;34m,\u001b[0m\u001b[0;34m\u001b[0m\u001b[0m\n\u001b[0m\u001b[1;32m   5204\u001b[0m                 placement=placement)\n\u001b[1;32m   5205\u001b[0m         \u001b[0mblocks\u001b[0m\u001b[0;34m.\u001b[0m\u001b[0mappend\u001b[0m\u001b[0;34m(\u001b[0m\u001b[0mb\u001b[0m\u001b[0;34m)\u001b[0m\u001b[0;34m\u001b[0m\u001b[0m\n",
      "\u001b[0;32m/opt/conda/lib/python3.6/site-packages/pandas/core/internals.py\u001b[0m in \u001b[0;36mconcatenate_join_units\u001b[0;34m(join_units, concat_axis, copy)\u001b[0m\n\u001b[1;32m   5330\u001b[0m     to_concat = [ju.get_reindexed_values(empty_dtype=empty_dtype,\n\u001b[1;32m   5331\u001b[0m                                          upcasted_na=upcasted_na)\n\u001b[0;32m-> 5332\u001b[0;31m                  for ju in join_units]\n\u001b[0m\u001b[1;32m   5333\u001b[0m \u001b[0;34m\u001b[0m\u001b[0m\n\u001b[1;32m   5334\u001b[0m     \u001b[0;32mif\u001b[0m \u001b[0mlen\u001b[0m\u001b[0;34m(\u001b[0m\u001b[0mto_concat\u001b[0m\u001b[0;34m)\u001b[0m \u001b[0;34m==\u001b[0m \u001b[0;36m1\u001b[0m\u001b[0;34m:\u001b[0m\u001b[0;34m\u001b[0m\u001b[0m\n",
      "\u001b[0;32m/opt/conda/lib/python3.6/site-packages/pandas/core/internals.py\u001b[0m in \u001b[0;36m<listcomp>\u001b[0;34m(.0)\u001b[0m\n\u001b[1;32m   5330\u001b[0m     to_concat = [ju.get_reindexed_values(empty_dtype=empty_dtype,\n\u001b[1;32m   5331\u001b[0m                                          upcasted_na=upcasted_na)\n\u001b[0;32m-> 5332\u001b[0;31m                  for ju in join_units]\n\u001b[0m\u001b[1;32m   5333\u001b[0m \u001b[0;34m\u001b[0m\u001b[0m\n\u001b[1;32m   5334\u001b[0m     \u001b[0;32mif\u001b[0m \u001b[0mlen\u001b[0m\u001b[0;34m(\u001b[0m\u001b[0mto_concat\u001b[0m\u001b[0;34m)\u001b[0m \u001b[0;34m==\u001b[0m \u001b[0;36m1\u001b[0m\u001b[0;34m:\u001b[0m\u001b[0;34m\u001b[0m\u001b[0m\n",
      "\u001b[0;32m/opt/conda/lib/python3.6/site-packages/pandas/core/internals.py\u001b[0m in \u001b[0;36mget_reindexed_values\u001b[0;34m(self, empty_dtype, upcasted_na)\u001b[0m\n\u001b[1;32m   5630\u001b[0m             \u001b[0;32mfor\u001b[0m \u001b[0max\u001b[0m\u001b[0;34m,\u001b[0m \u001b[0mindexer\u001b[0m \u001b[0;32min\u001b[0m \u001b[0mself\u001b[0m\u001b[0;34m.\u001b[0m\u001b[0mindexers\u001b[0m\u001b[0;34m.\u001b[0m\u001b[0mitems\u001b[0m\u001b[0;34m(\u001b[0m\u001b[0;34m)\u001b[0m\u001b[0;34m:\u001b[0m\u001b[0;34m\u001b[0m\u001b[0m\n\u001b[1;32m   5631\u001b[0m                 values = algos.take_nd(values, indexer, axis=ax,\n\u001b[0;32m-> 5632\u001b[0;31m                                        fill_value=fill_value)\n\u001b[0m\u001b[1;32m   5633\u001b[0m \u001b[0;34m\u001b[0m\u001b[0m\n\u001b[1;32m   5634\u001b[0m         \u001b[0;32mreturn\u001b[0m \u001b[0mvalues\u001b[0m\u001b[0;34m\u001b[0m\u001b[0m\n",
      "\u001b[0;32m/opt/conda/lib/python3.6/site-packages/pandas/core/algorithms.py\u001b[0m in \u001b[0;36mtake_nd\u001b[0;34m(arr, indexer, axis, out, fill_value, mask_info, allow_fill)\u001b[0m\n\u001b[1;32m   1381\u001b[0m     func = _get_take_nd_function(arr.ndim, arr.dtype, out.dtype, axis=axis,\n\u001b[1;32m   1382\u001b[0m                                  mask_info=mask_info)\n\u001b[0;32m-> 1383\u001b[0;31m     \u001b[0mfunc\u001b[0m\u001b[0;34m(\u001b[0m\u001b[0marr\u001b[0m\u001b[0;34m,\u001b[0m \u001b[0mindexer\u001b[0m\u001b[0;34m,\u001b[0m \u001b[0mout\u001b[0m\u001b[0;34m,\u001b[0m \u001b[0mfill_value\u001b[0m\u001b[0;34m)\u001b[0m\u001b[0;34m\u001b[0m\u001b[0m\n\u001b[0m\u001b[1;32m   1384\u001b[0m \u001b[0;34m\u001b[0m\u001b[0m\n\u001b[1;32m   1385\u001b[0m     \u001b[0;32mif\u001b[0m \u001b[0mflip_order\u001b[0m\u001b[0;34m:\u001b[0m\u001b[0;34m\u001b[0m\u001b[0m\n",
      "\u001b[0;31mKeyboardInterrupt\u001b[0m: "
     ]
    }
   ],
   "source": [
    "combine_features(train_files, 'features_2017-11-07_1700', 'attributed2')"
   ]
  },
  {
   "cell_type": "code",
   "execution_count": 10,
   "metadata": {},
   "outputs": [
    {
     "name": "stdout",
     "output_type": "stream",
     "text": [
      "Writing ../data/interim/combined/train_2017-11-09_0400_attributed2.hdf.compress\n",
      "Writing ../data/interim/combined/train_2017-11-09_0500_attributed2.hdf.compress\n",
      "Writing ../data/interim/combined/train_2017-11-09_0600_attributed2.hdf.compress\n"
     ]
    }
   ],
   "source": [
    "combine_features(validation_files, 'features_2017-11-08_1700', 'attributed2')"
   ]
  },
  {
   "cell_type": "code",
   "execution_count": 82,
   "metadata": {},
   "outputs": [
    {
     "name": "stdout",
     "output_type": "stream",
     "text": [
      "CPU times: user 8.7 s, sys: 1.32 s, total: 10 s\n",
      "Wall time: 10 s\n"
     ]
    }
   ],
   "source": [
    "%%time\n",
    "df = pd.read_hdf('../data/interim/combined/train_2017-11-07_1700_attributed2.hdf.compress')"
   ]
  },
  {
   "cell_type": "code",
   "execution_count": 32,
   "metadata": {},
   "outputs": [
    {
     "data": {
      "text/plain": [
       "['../data/interim/combined/train_2017-11-07_1700_attributed.hdf.compress',\n",
       " '../data/interim/combined/train_2017-11-07_1800_attributed.hdf.compress',\n",
       " '../data/interim/combined/train_2017-11-07_1900_attributed.hdf.compress',\n",
       " '../data/interim/combined/train_2017-11-07_2000_attributed.hdf.compress',\n",
       " '../data/interim/combined/train_2017-11-07_2100_attributed.hdf.compress',\n",
       " '../data/interim/combined/train_2017-11-07_2200_attributed.hdf.compress',\n",
       " '../data/interim/combined/train_2017-11-07_2300_attributed.hdf.compress',\n",
       " '../data/interim/combined/train_2017-11-08_0000_attributed.hdf.compress',\n",
       " '../data/interim/combined/train_2017-11-08_0100_attributed.hdf.compress',\n",
       " '../data/interim/combined/train_2017-11-08_0200_attributed.hdf.compress',\n",
       " '../data/interim/combined/train_2017-11-08_0300_attributed.hdf.compress',\n",
       " '../data/interim/combined/train_2017-11-08_0400_attributed.hdf.compress',\n",
       " '../data/interim/combined/train_2017-11-08_0500_attributed.hdf.compress',\n",
       " '../data/interim/combined/train_2017-11-08_0600_attributed.hdf.compress',\n",
       " '../data/interim/combined/train_2017-11-08_0700_attributed.hdf.compress',\n",
       " '../data/interim/combined/train_2017-11-08_0800_attributed.hdf.compress',\n",
       " '../data/interim/combined/train_2017-11-08_0900_attributed.hdf.compress',\n",
       " '../data/interim/combined/train_2017-11-08_1000_attributed.hdf.compress',\n",
       " '../data/interim/combined/train_2017-11-08_1100_attributed.hdf.compress',\n",
       " '../data/interim/combined/train_2017-11-08_1200_attributed.hdf.compress',\n",
       " '../data/interim/combined/train_2017-11-08_1300_attributed.hdf.compress',\n",
       " '../data/interim/combined/train_2017-11-08_1400_attributed.hdf.compress',\n",
       " '../data/interim/combined/train_2017-11-08_1500_attributed.hdf.compress',\n",
       " '../data/interim/combined/train_2017-11-08_1600_attributed.hdf.compress']"
      ]
     },
     "execution_count": 32,
     "metadata": {},
     "output_type": "execute_result"
    }
   ],
   "source": [
    "sorted(glob(f\"../data/interim/combined/train_2017-11-0*.hdf.compress\"))"
   ]
  },
  {
   "cell_type": "code",
   "execution_count": 2,
   "metadata": {},
   "outputs": [],
   "source": [
    "train_feature_files = ['../data/interim/combined/train_2017-11-07_1700_attributed.hdf.compress',\n",
    " '../data/interim/combined/train_2017-11-07_1800_attributed.hdf.compress',\n",
    " '../data/interim/combined/train_2017-11-07_1900_attributed.hdf.compress',\n",
    " '../data/interim/combined/train_2017-11-07_2000_attributed.hdf.compress',\n",
    " '../data/interim/combined/train_2017-11-07_2100_attributed.hdf.compress',\n",
    " '../data/interim/combined/train_2017-11-07_2200_attributed.hdf.compress',\n",
    " '../data/interim/combined/train_2017-11-07_2300_attributed.hdf.compress',\n",
    " '../data/interim/combined/train_2017-11-08_0000_attributed.hdf.compress',\n",
    " '../data/interim/combined/train_2017-11-08_0100_attributed.hdf.compress',\n",
    " '../data/interim/combined/train_2017-11-08_0200_attributed.hdf.compress',\n",
    " '../data/interim/combined/train_2017-11-08_0300_attributed.hdf.compress',\n",
    " '../data/interim/combined/train_2017-11-08_0400_attributed.hdf.compress',\n",
    " '../data/interim/combined/train_2017-11-08_0500_attributed.hdf.compress',\n",
    " '../data/interim/combined/train_2017-11-08_0600_attributed.hdf.compress',\n",
    " '../data/interim/combined/train_2017-11-08_0700_attributed.hdf.compress',\n",
    " '../data/interim/combined/train_2017-11-08_0800_attributed.hdf.compress',\n",
    " '../data/interim/combined/train_2017-11-08_0900_attributed.hdf.compress',\n",
    " '../data/interim/combined/train_2017-11-08_1000_attributed.hdf.compress',\n",
    " '../data/interim/combined/train_2017-11-08_1100_attributed.hdf.compress',\n",
    " '../data/interim/combined/train_2017-11-08_1200_attributed.hdf.compress',\n",
    " '../data/interim/combined/train_2017-11-08_1300_attributed.hdf.compress',\n",
    " '../data/interim/combined/train_2017-11-08_1400_attributed.hdf.compress',\n",
    " '../data/interim/combined/train_2017-11-08_1500_attributed.hdf.compress',\n",
    " '../data/interim/combined/train_2017-11-08_1600_attributed.hdf.compress']"
   ]
  },
  {
   "cell_type": "code",
   "execution_count": 3,
   "metadata": {},
   "outputs": [],
   "source": [
    "df_train = pd.concat([pd.read_hdf(f) for f in train_feature_files], ignore_index=True)"
   ]
  },
  {
   "cell_type": "code",
   "execution_count": 4,
   "metadata": {},
   "outputs": [
    {
     "data": {
      "text/plain": [
       "Index(['ip', 'app', 'device', 'os', 'channel', 'click_time', 'is_attributed',\n",
       "       'PERCENT_TRUE(clicks.is_attributed)_app_1day',\n",
       "       'AVG_TIME_BETWEEN(clicks.click_time)_app_1day',\n",
       "       'MODE(clicks.ip)_app_1day', 'MODE(clicks.device)_app_1day',\n",
       "       'MODE(clicks.os)_app_1day', 'MODE(clicks.channel)_app_1day',\n",
       "       'COUNT(clicks)_app_1day',\n",
       "       'AVG_TIME_BETWEEN(clicks.click_time WHERE is_attributed = True)_app_1day',\n",
       "       'MODE(clicks.ip WHERE is_attributed = True)_app_1day',\n",
       "       'MODE(clicks.device WHERE is_attributed = True)_app_1day',\n",
       "       'MODE(clicks.os WHERE is_attributed = True)_app_1day',\n",
       "       'MODE(clicks.channel WHERE is_attributed = True)_app_1day',\n",
       "       'MODE(clicks.HOUR(click_time))_app_1day',\n",
       "       'MODE(clicks.HOUR(click_time) WHERE is_attributed = True)_app_1day',\n",
       "       'COUNT(clicks WHERE is_attributed = True)_app_1day',\n",
       "       'PERCENT_TRUE(clicks.is_attributed)_device_1day',\n",
       "       'AVG_TIME_BETWEEN(clicks.click_time)_device_1day',\n",
       "       'MODE(clicks.ip)_device_1day', 'MODE(clicks.app)_device_1day',\n",
       "       'MODE(clicks.os)_device_1day', 'MODE(clicks.channel)_device_1day',\n",
       "       'COUNT(clicks)_device_1day',\n",
       "       'AVG_TIME_BETWEEN(clicks.click_time WHERE is_attributed = True)_device_1day',\n",
       "       'MODE(clicks.ip WHERE is_attributed = True)_device_1day',\n",
       "       'MODE(clicks.app WHERE is_attributed = True)_device_1day',\n",
       "       'MODE(clicks.os WHERE is_attributed = True)_device_1day',\n",
       "       'MODE(clicks.channel WHERE is_attributed = True)_device_1day',\n",
       "       'MODE(clicks.HOUR(click_time))_device_1day',\n",
       "       'MODE(clicks.HOUR(click_time) WHERE is_attributed = True)_device_1day',\n",
       "       'COUNT(clicks WHERE is_attributed = True)_device_1day',\n",
       "       'PERCENT_TRUE(clicks.is_attributed)_os_1day',\n",
       "       'AVG_TIME_BETWEEN(clicks.click_time)_os_1day',\n",
       "       'MODE(clicks.ip)_os_1day', 'MODE(clicks.app)_os_1day',\n",
       "       'MODE(clicks.device)_os_1day', 'MODE(clicks.channel)_os_1day',\n",
       "       'COUNT(clicks)_os_1day',\n",
       "       'AVG_TIME_BETWEEN(clicks.click_time WHERE is_attributed = True)_os_1day',\n",
       "       'MODE(clicks.ip WHERE is_attributed = True)_os_1day',\n",
       "       'MODE(clicks.app WHERE is_attributed = True)_os_1day',\n",
       "       'MODE(clicks.device WHERE is_attributed = True)_os_1day',\n",
       "       'MODE(clicks.channel WHERE is_attributed = True)_os_1day',\n",
       "       'MODE(clicks.HOUR(click_time))_os_1day',\n",
       "       'MODE(clicks.HOUR(click_time) WHERE is_attributed = True)_os_1day',\n",
       "       'COUNT(clicks WHERE is_attributed = True)_os_1day',\n",
       "       'PERCENT_TRUE(clicks.is_attributed)_channel_1day',\n",
       "       'AVG_TIME_BETWEEN(clicks.click_time)_channel_1day',\n",
       "       'MODE(clicks.ip)_channel_1day', 'MODE(clicks.app)_channel_1day',\n",
       "       'MODE(clicks.device)_channel_1day', 'MODE(clicks.os)_channel_1day',\n",
       "       'COUNT(clicks)_channel_1day',\n",
       "       'AVG_TIME_BETWEEN(clicks.click_time WHERE is_attributed = True)_channel_1day',\n",
       "       'MODE(clicks.ip WHERE is_attributed = True)_channel_1day',\n",
       "       'MODE(clicks.app WHERE is_attributed = True)_channel_1day',\n",
       "       'MODE(clicks.device WHERE is_attributed = True)_channel_1day',\n",
       "       'MODE(clicks.os WHERE is_attributed = True)_channel_1day',\n",
       "       'MODE(clicks.HOUR(click_time))_channel_1day',\n",
       "       'MODE(clicks.HOUR(click_time) WHERE is_attributed = True)_channel_1day',\n",
       "       'COUNT(clicks WHERE is_attributed = True)_channel_1day'],\n",
       "      dtype='object')"
      ]
     },
     "execution_count": 4,
     "metadata": {},
     "output_type": "execute_result"
    }
   ],
   "source": [
    "df_train.columns"
   ]
  },
  {
   "cell_type": "code",
   "execution_count": 5,
   "metadata": {},
   "outputs": [],
   "source": [
    "df_train.to_hdf('../data/processed/train_2017-11-07_1700_08_1600_attributed.hdf.compress', 'train', mode='w', complib='blosc', fletcher32=True)"
   ]
  },
  {
   "cell_type": "code",
   "execution_count": null,
   "metadata": {},
   "outputs": [],
   "source": []
  }
 ],
 "metadata": {
  "kernelspec": {
   "display_name": "Python 3",
   "language": "python",
   "name": "python3"
  },
  "language_info": {
   "codemirror_mode": {
    "name": "ipython",
    "version": 3
   },
   "file_extension": ".py",
   "mimetype": "text/x-python",
   "name": "python",
   "nbconvert_exporter": "python",
   "pygments_lexer": "ipython3",
   "version": "3.6.4"
  }
 },
 "nbformat": 4,
 "nbformat_minor": 2
}

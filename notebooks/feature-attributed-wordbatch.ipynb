{
 "cells": [
  {
   "cell_type": "code",
   "execution_count": 6,
   "metadata": {},
   "outputs": [],
   "source": [
    "import wordbatch\n",
    "from wordbatch.extractors import WordHash\n",
    "from wordbatch.models import FM_FTRL\n",
    "import math\n",
    "import pandas as pd\n",
    "from sklearn.metrics import roc_auc_score\n",
    "import time\n",
    "import numpy as np\n",
    "import gc\n",
    "from contextlib import contextmanager"
   ]
  },
  {
   "cell_type": "code",
   "execution_count": 7,
   "metadata": {},
   "outputs": [],
   "source": [
    "categorical_features = [\n",
    "    'app', 'device', 'os', 'channel',\n",
    "    'MODE(clicks.ip)_app_1day',\n",
    "    'MODE(clicks.device)_app_1day',\n",
    "    'MODE(clicks.os)_app_1day',\n",
    "    'MODE(clicks.channel)_app_1day',\n",
    "    'MODE(clicks.ip WHERE is_attributed = True)_app_1day',\n",
    "    'MODE(clicks.device WHERE is_attributed = True)_app_1day',\n",
    "    'MODE(clicks.os WHERE is_attributed = True)_app_1day',\n",
    "    'MODE(clicks.channel WHERE is_attributed = True)_app_1day',\n",
    "    'MODE(clicks.HOUR(click_time))_app_1day',\n",
    "    'MODE(clicks.HOUR(click_time) WHERE is_attributed = True)_app_1day',\n",
    "    'MODE(clicks.ip)_device_1day',\n",
    "    'MODE(clicks.app)_device_1day',\n",
    "    'MODE(clicks.os)_device_1day',\n",
    "    'MODE(clicks.channel)_device_1day',\n",
    "    'MODE(clicks.ip WHERE is_attributed = True)_channel_1day',\n",
    "    'MODE(clicks.app WHERE is_attributed = True)_channel_1day',\n",
    "    'MODE(clicks.device WHERE is_attributed = True)_channel_1day',\n",
    "    'MODE(clicks.os WHERE is_attributed = True)_channel_1day',\n",
    "    'MODE(clicks.HOUR(click_time))_channel_1day',\n",
    "    'MODE(clicks.HOUR(click_time) WHERE is_attributed = True)_channel_1day',\n",
    "    'MODE(clicks.ip WHERE is_attributed = True)_device_1day',\n",
    "    'MODE(clicks.app WHERE is_attributed = True)_device_1day',\n",
    "    'MODE(clicks.os WHERE is_attributed = True)_device_1day',\n",
    "    'MODE(clicks.channel WHERE is_attributed = True)_device_1day',\n",
    "    'MODE(clicks.HOUR(click_time))_device_1day',\n",
    "    'MODE(clicks.HOUR(click_time) WHERE is_attributed = True)_device_1day',\n",
    "    'MODE(clicks.ip WHERE is_attributed = True)_os_1day',\n",
    "    'MODE(clicks.app WHERE is_attributed = True)_os_1day',\n",
    "    'MODE(clicks.device WHERE is_attributed = True)_os_1day',\n",
    "    'MODE(clicks.channel WHERE is_attributed = True)_os_1day',\n",
    "    'MODE(clicks.HOUR(click_time))_os_1day',\n",
    "    'MODE(clicks.HOUR(click_time) WHERE is_attributed = True)_os_1day',\n",
    "    'MODE(clicks.ip)_os_1day',\n",
    "    'MODE(clicks.app)_os_1day',\n",
    "    'MODE(clicks.device)_os_1day',\n",
    "    'MODE(clicks.channel)_os_1day',\n",
    "    'MODE(clicks.ip)_channel_1day',\n",
    "    'MODE(clicks.app)_channel_1day',\n",
    "    'MODE(clicks.device)_channel_1day',\n",
    "    'MODE(clicks.os)_channel_1day',\n",
    "]"
   ]
  },
  {
   "cell_type": "code",
   "execution_count": 8,
   "metadata": {},
   "outputs": [],
   "source": [
    "train_filenames = [\n",
    " '../data/interim/combined/train_2017-11-07_1700_attributed.hdf.compress',\n",
    " '../data/interim/combined/train_2017-11-07_1800_attributed.hdf.compress',\n",
    " '../data/interim/combined/train_2017-11-07_1900_attributed.hdf.compress',\n",
    " '../data/interim/combined/train_2017-11-07_2000_attributed.hdf.compress',\n",
    " '../data/interim/combined/train_2017-11-07_2100_attributed.hdf.compress',\n",
    " '../data/interim/combined/train_2017-11-07_2200_attributed.hdf.compress',\n",
    " '../data/interim/combined/train_2017-11-07_2300_attributed.hdf.compress',\n",
    " '../data/interim/combined/train_2017-11-08_0000_attributed.hdf.compress',\n",
    " '../data/interim/combined/train_2017-11-08_0100_attributed.hdf.compress',\n",
    " '../data/interim/combined/train_2017-11-08_0200_attributed.hdf.compress',\n",
    " '../data/interim/combined/train_2017-11-08_0300_attributed.hdf.compress',\n",
    " '../data/interim/combined/train_2017-11-08_0400_attributed.hdf.compress',\n",
    " '../data/interim/combined/train_2017-11-08_0500_attributed.hdf.compress',\n",
    " '../data/interim/combined/train_2017-11-08_0600_attributed.hdf.compress',\n",
    " '../data/interim/combined/train_2017-11-08_0700_attributed.hdf.compress',\n",
    " '../data/interim/combined/train_2017-11-08_0800_attributed.hdf.compress',\n",
    " '../data/interim/combined/train_2017-11-08_0900_attributed.hdf.compress',\n",
    " '../data/interim/combined/train_2017-11-08_1000_attributed.hdf.compress',\n",
    " '../data/interim/combined/train_2017-11-08_1100_attributed.hdf.compress',\n",
    " '../data/interim/combined/train_2017-11-08_1200_attributed.hdf.compress',\n",
    " '../data/interim/combined/train_2017-11-08_1300_attributed.hdf.compress',\n",
    " '../data/interim/combined/train_2017-11-08_1400_attributed.hdf.compress',\n",
    " '../data/interim/combined/train_2017-11-08_1500_attributed.hdf.compress',\n",
    " '../data/interim/combined/train_2017-11-08_1600_attributed.hdf.compress']"
   ]
  },
  {
   "cell_type": "code",
   "execution_count": 9,
   "metadata": {},
   "outputs": [],
   "source": [
    "@contextmanager\n",
    "def timer(name):\n",
    "    t0 = time.time()\n",
    "    yield\n",
    "    print(f'[{name}] done in {time.time() - t0:.0f} s')"
   ]
  },
  {
   "cell_type": "code",
   "execution_count": 89,
   "metadata": {},
   "outputs": [],
   "source": [
    "D = 2 ** 25\n",
    "\n",
    "wb = wordbatch.WordBatch(\n",
    "    None, \n",
    "    extractor=(\n",
    "        WordHash, \n",
    "        {\n",
    "            \"ngram_range\": (1, 1), \n",
    "            \"analyzer\": \"word\",\n",
    "            \"lowercase\": False, \n",
    "            \"n_features\": D,\n",
    "            \"norm\": None, \n",
    "            \"binary\": True\n",
    "        }),\n",
    "#     minibatch_size=batchsize // 80,\n",
    "#     method='threading',\n",
    "    procs=24,\n",
    "    freeze=True,\n",
    "    timeout=1800,\n",
    "    verbose=0\n",
    ")\n",
    "\n",
    "clf = FM_FTRL(\n",
    "    alpha=0.05,\n",
    "    beta=0.1,\n",
    "    L1=0.0,\n",
    "    L2=0.0,\n",
    "    D=D,\n",
    "    alpha_fm=0.02,\n",
    "    L2_fm=0.0,\n",
    "    init_fm=0.01,\n",
    "    weight_fm=1.0,\n",
    "    D_fm=8,\n",
    "    e_noise=0.0,\n",
    "    iters=3,\n",
    "    inv_link=\"sigmoid\",\n",
    "    e_clip=1.0,\n",
    "    threads=24,\n",
    "    use_avx=1,\n",
    "    verbose=0\n",
    ")"
   ]
  },
  {
   "cell_type": "code",
   "execution_count": 11,
   "metadata": {},
   "outputs": [],
   "source": [
    "def mkstr(row, columns):\n",
    "    return ' '.join(f\"C{i}{int(v)}\" for i, v in enumerate(row[columns]) if (math.isnan(v) == False))"
   ]
  },
  {
   "cell_type": "code",
   "execution_count": 12,
   "metadata": {},
   "outputs": [],
   "source": [
    "def discretize(df):\n",
    "    return df"
   ]
  },
  {
   "cell_type": "code",
   "execution_count": 13,
   "metadata": {},
   "outputs": [],
   "source": [
    "# np.log2(1 + df_val['PERCENT_TRUE(clicks.is_attributed)_app_1day'].values).astype(int)"
   ]
  },
  {
   "cell_type": "code",
   "execution_count": 14,
   "metadata": {},
   "outputs": [],
   "source": [
    "# ds, bins = pd.qcut(df_val['PERCENT_TRUE(clicks.is_attributed)_app_1day'], 100, labels=False, duplicates='drop', retbins=True)\n",
    "# bins"
   ]
  },
  {
   "cell_type": "code",
   "execution_count": 23,
   "metadata": {},
   "outputs": [],
   "source": [
    "def df2csr2(df):\n",
    "    df = discretize(df)\n",
    "#     for fea in numerical_features: df[fea]= np.log2(1 + df[fea].values).astype(int)\n",
    "    \n",
    "#     df = df.rename(columns=lambda x: x.replace(\" \", \"_\"))\n",
    "#     cols = list(df)\n",
    "\n",
    "    cats = df.apply(lambda row: mkstr(row, categorical_features), axis=1, raw=True)\n",
    "    str_array= (\" AXC\" + df['app'].astype(str)+\"_\"+df['channel'].astype(str) \\\n",
    "        + \" OXC\" + df['os'].astype(str)+\"_\"+df['channel'].astype(str) \\\n",
    "        + \" AXD\" + df['app'].astype(str)+\"_\"+df['device'].astype(str) \\\n",
    "        + \" IXA\" + df['ip'].astype(str)+\"_\"+df['app'].astype(str) \\\n",
    "        + \" AXO\" + df['app'].astype(str)+\"_\"+df['os'].astype(str)\n",
    "      )\n",
    "\n",
    "    return (cats + str_array).values"
   ]
  },
  {
   "cell_type": "code",
   "execution_count": 84,
   "metadata": {},
   "outputs": [],
   "source": [
    "def df2csr3(df):\n",
    "    df.fillna(0)\n",
    "\n",
    "    str_array = (\" AXC\" + df['app'].astype(str)+\"_\"+df['channel'].astype(str) \\\n",
    "        + \" OXC\" + df['os'].astype(str)+\"_\"+df['channel'].astype(str) \\\n",
    "        + \" AXD\" + df['app'].astype(str)+\"_\"+df['device'].astype(str) \\\n",
    "        + \" IXA\" + df['ip'].astype(str)+\"_\"+df['app'].astype(str) \\\n",
    "        + \" AXO\" + df['app'].astype(str)+\"_\"+df['os'].astype(str)\n",
    "      )\n",
    "\n",
    "    for i, c in enumerate(categorical_features):\n",
    "        df[c] = \"C\" + str(i) + df[c].astype(str) + \" \"\n",
    "       \n",
    "    cats = df[categorical_features].sum(axis=1)\n",
    "    \n",
    "    return (cats + str_array).values"
   ]
  },
  {
   "cell_type": "code",
   "execution_count": 85,
   "metadata": {},
   "outputs": [],
   "source": [
    "def process_data(filename):\n",
    "    df = pd.read_hdf(filename)\n",
    "    y = df.pop('is_attributed')\n",
    "    w = np.multiply([1.0 if x == 1 else 0.2 for x in y], 1)\n",
    "    str_array = df2csr3(df)\n",
    "    X = wb.transform(str_array)\n",
    "    del df, str_array\n",
    "    gc.collect()\n",
    "    return X, y, w"
   ]
  },
  {
   "cell_type": "code",
   "execution_count": 90,
   "metadata": {},
   "outputs": [
    {
     "name": "stdout",
     "output_type": "stream",
     "text": [
      "CPU times: user 4min 7s, sys: 1min 28s, total: 5min 36s\n",
      "Wall time: 5min 54s\n"
     ]
    }
   ],
   "source": [
    "%%time\n",
    "X_val, y_val, _ = process_data('../data/interim/combined/train_2017-11-09_0400_attributed.hdf.compress')"
   ]
  },
  {
   "cell_type": "code",
   "execution_count": 86,
   "metadata": {},
   "outputs": [
    {
     "name": "stdout",
     "output_type": "stream",
     "text": [
      "[data] done in 110 s\n",
      "[partial_fit] done in 296 s\n",
      "[data] done in 63 s\n",
      "[partial_fit] done in 167 s\n",
      "[data] done in 45 s\n",
      "[partial_fit] done in 117 s\n",
      "[data] done in 39 s\n",
      "[partial_fit] done in 152 s\n",
      "[data] done in 51 s\n",
      "[partial_fit] done in 253 s\n",
      "Test:\n"
     ]
    },
    {
     "ename": "ValueError",
     "evalue": "Found input variables with inconsistent numbers of samples: [4032691, 1]",
     "output_type": "error",
     "traceback": [
      "\u001b[0;31m---------------------------------------------------------------------------\u001b[0m",
      "\u001b[0;31mValueError\u001b[0m                                Traceback (most recent call last)",
      "\u001b[0;32m<ipython-input-86-d14ee01d45f9>\u001b[0m in \u001b[0;36m<module>\u001b[0;34m()\u001b[0m\n\u001b[1;32m     10\u001b[0m         \u001b[0mprint\u001b[0m\u001b[0;34m(\u001b[0m\u001b[0;34m\"Test:\"\u001b[0m\u001b[0;34m)\u001b[0m\u001b[0;34m\u001b[0m\u001b[0m\n\u001b[1;32m     11\u001b[0m         \u001b[0;32mwith\u001b[0m \u001b[0mtimer\u001b[0m\u001b[0;34m(\u001b[0m\u001b[0;34m\"evaluate_batch test\"\u001b[0m\u001b[0;34m)\u001b[0m\u001b[0;34m:\u001b[0m\u001b[0;34m\u001b[0m\u001b[0m\n\u001b[0;32m---> 12\u001b[0;31m             \u001b[0mprint\u001b[0m\u001b[0;34m(\u001b[0m\u001b[0mi\u001b[0m\u001b[0;34m,\u001b[0m \u001b[0;34m\"ROC AUC:\"\u001b[0m\u001b[0;34m,\u001b[0m \u001b[0mroc_auc_score\u001b[0m\u001b[0;34m(\u001b[0m\u001b[0my_val\u001b[0m\u001b[0;34m,\u001b[0m \u001b[0mclf\u001b[0m\u001b[0;34m.\u001b[0m\u001b[0mpredict\u001b[0m\u001b[0;34m(\u001b[0m\u001b[0mX_val\u001b[0m\u001b[0;34m)\u001b[0m\u001b[0;34m)\u001b[0m\u001b[0;34m)\u001b[0m\u001b[0;34m\u001b[0m\u001b[0m\n\u001b[0m\u001b[1;32m     13\u001b[0m \u001b[0;34m\u001b[0m\u001b[0m\n\u001b[1;32m     14\u001b[0m \u001b[0;34m\u001b[0m\u001b[0m\n",
      "\u001b[0;32m/opt/conda/lib/python3.6/site-packages/sklearn/metrics/ranking.py\u001b[0m in \u001b[0;36mroc_auc_score\u001b[0;34m(y_true, y_score, average, sample_weight)\u001b[0m\n\u001b[1;32m    275\u001b[0m     return _average_binary_score(\n\u001b[1;32m    276\u001b[0m         \u001b[0m_binary_roc_auc_score\u001b[0m\u001b[0;34m,\u001b[0m \u001b[0my_true\u001b[0m\u001b[0;34m,\u001b[0m \u001b[0my_score\u001b[0m\u001b[0;34m,\u001b[0m \u001b[0maverage\u001b[0m\u001b[0;34m,\u001b[0m\u001b[0;34m\u001b[0m\u001b[0m\n\u001b[0;32m--> 277\u001b[0;31m         sample_weight=sample_weight)\n\u001b[0m\u001b[1;32m    278\u001b[0m \u001b[0;34m\u001b[0m\u001b[0m\n\u001b[1;32m    279\u001b[0m \u001b[0;34m\u001b[0m\u001b[0m\n",
      "\u001b[0;32m/opt/conda/lib/python3.6/site-packages/sklearn/metrics/base.py\u001b[0m in \u001b[0;36m_average_binary_score\u001b[0;34m(binary_metric, y_true, y_score, average, sample_weight)\u001b[0m\n\u001b[1;32m     73\u001b[0m \u001b[0;34m\u001b[0m\u001b[0m\n\u001b[1;32m     74\u001b[0m     \u001b[0;32mif\u001b[0m \u001b[0my_type\u001b[0m \u001b[0;34m==\u001b[0m \u001b[0;34m\"binary\"\u001b[0m\u001b[0;34m:\u001b[0m\u001b[0;34m\u001b[0m\u001b[0m\n\u001b[0;32m---> 75\u001b[0;31m         \u001b[0;32mreturn\u001b[0m \u001b[0mbinary_metric\u001b[0m\u001b[0;34m(\u001b[0m\u001b[0my_true\u001b[0m\u001b[0;34m,\u001b[0m \u001b[0my_score\u001b[0m\u001b[0;34m,\u001b[0m \u001b[0msample_weight\u001b[0m\u001b[0;34m=\u001b[0m\u001b[0msample_weight\u001b[0m\u001b[0;34m)\u001b[0m\u001b[0;34m\u001b[0m\u001b[0m\n\u001b[0m\u001b[1;32m     76\u001b[0m \u001b[0;34m\u001b[0m\u001b[0m\n\u001b[1;32m     77\u001b[0m     \u001b[0mcheck_consistent_length\u001b[0m\u001b[0;34m(\u001b[0m\u001b[0my_true\u001b[0m\u001b[0;34m,\u001b[0m \u001b[0my_score\u001b[0m\u001b[0;34m,\u001b[0m \u001b[0msample_weight\u001b[0m\u001b[0;34m)\u001b[0m\u001b[0;34m\u001b[0m\u001b[0m\n",
      "\u001b[0;32m/opt/conda/lib/python3.6/site-packages/sklearn/metrics/ranking.py\u001b[0m in \u001b[0;36m_binary_roc_auc_score\u001b[0;34m(y_true, y_score, sample_weight)\u001b[0m\n\u001b[1;32m    270\u001b[0m \u001b[0;34m\u001b[0m\u001b[0m\n\u001b[1;32m    271\u001b[0m         fpr, tpr, tresholds = roc_curve(y_true, y_score,\n\u001b[0;32m--> 272\u001b[0;31m                                         sample_weight=sample_weight)\n\u001b[0m\u001b[1;32m    273\u001b[0m         \u001b[0;32mreturn\u001b[0m \u001b[0mauc\u001b[0m\u001b[0;34m(\u001b[0m\u001b[0mfpr\u001b[0m\u001b[0;34m,\u001b[0m \u001b[0mtpr\u001b[0m\u001b[0;34m,\u001b[0m \u001b[0mreorder\u001b[0m\u001b[0;34m=\u001b[0m\u001b[0;32mTrue\u001b[0m\u001b[0;34m)\u001b[0m\u001b[0;34m\u001b[0m\u001b[0m\n\u001b[1;32m    274\u001b[0m \u001b[0;34m\u001b[0m\u001b[0m\n",
      "\u001b[0;32m/opt/conda/lib/python3.6/site-packages/sklearn/metrics/ranking.py\u001b[0m in \u001b[0;36mroc_curve\u001b[0;34m(y_true, y_score, pos_label, sample_weight, drop_intermediate)\u001b[0m\n\u001b[1;32m    532\u001b[0m     \"\"\"\n\u001b[1;32m    533\u001b[0m     fps, tps, thresholds = _binary_clf_curve(\n\u001b[0;32m--> 534\u001b[0;31m         y_true, y_score, pos_label=pos_label, sample_weight=sample_weight)\n\u001b[0m\u001b[1;32m    535\u001b[0m \u001b[0;34m\u001b[0m\u001b[0m\n\u001b[1;32m    536\u001b[0m     \u001b[0;31m# Attempt to drop thresholds corresponding to points in between and\u001b[0m\u001b[0;34m\u001b[0m\u001b[0;34m\u001b[0m\u001b[0m\n",
      "\u001b[0;32m/opt/conda/lib/python3.6/site-packages/sklearn/metrics/ranking.py\u001b[0m in \u001b[0;36m_binary_clf_curve\u001b[0;34m(y_true, y_score, pos_label, sample_weight)\u001b[0m\n\u001b[1;32m    318\u001b[0m         \u001b[0;32mraise\u001b[0m \u001b[0mValueError\u001b[0m\u001b[0;34m(\u001b[0m\u001b[0;34m\"{0} format is not supported\"\u001b[0m\u001b[0;34m.\u001b[0m\u001b[0mformat\u001b[0m\u001b[0;34m(\u001b[0m\u001b[0my_type\u001b[0m\u001b[0;34m)\u001b[0m\u001b[0;34m)\u001b[0m\u001b[0;34m\u001b[0m\u001b[0m\n\u001b[1;32m    319\u001b[0m \u001b[0;34m\u001b[0m\u001b[0m\n\u001b[0;32m--> 320\u001b[0;31m     \u001b[0mcheck_consistent_length\u001b[0m\u001b[0;34m(\u001b[0m\u001b[0my_true\u001b[0m\u001b[0;34m,\u001b[0m \u001b[0my_score\u001b[0m\u001b[0;34m,\u001b[0m \u001b[0msample_weight\u001b[0m\u001b[0;34m)\u001b[0m\u001b[0;34m\u001b[0m\u001b[0m\n\u001b[0m\u001b[1;32m    321\u001b[0m     \u001b[0my_true\u001b[0m \u001b[0;34m=\u001b[0m \u001b[0mcolumn_or_1d\u001b[0m\u001b[0;34m(\u001b[0m\u001b[0my_true\u001b[0m\u001b[0;34m)\u001b[0m\u001b[0;34m\u001b[0m\u001b[0m\n\u001b[1;32m    322\u001b[0m     \u001b[0my_score\u001b[0m \u001b[0;34m=\u001b[0m \u001b[0mcolumn_or_1d\u001b[0m\u001b[0;34m(\u001b[0m\u001b[0my_score\u001b[0m\u001b[0;34m)\u001b[0m\u001b[0;34m\u001b[0m\u001b[0m\n",
      "\u001b[0;32m/opt/conda/lib/python3.6/site-packages/sklearn/utils/validation.py\u001b[0m in \u001b[0;36mcheck_consistent_length\u001b[0;34m(*arrays)\u001b[0m\n\u001b[1;32m    202\u001b[0m     \u001b[0;32mif\u001b[0m \u001b[0mlen\u001b[0m\u001b[0;34m(\u001b[0m\u001b[0muniques\u001b[0m\u001b[0;34m)\u001b[0m \u001b[0;34m>\u001b[0m \u001b[0;36m1\u001b[0m\u001b[0;34m:\u001b[0m\u001b[0;34m\u001b[0m\u001b[0m\n\u001b[1;32m    203\u001b[0m         raise ValueError(\"Found input variables with inconsistent numbers of\"\n\u001b[0;32m--> 204\u001b[0;31m                          \" samples: %r\" % [int(l) for l in lengths])\n\u001b[0m\u001b[1;32m    205\u001b[0m \u001b[0;34m\u001b[0m\u001b[0m\n\u001b[1;32m    206\u001b[0m \u001b[0;34m\u001b[0m\u001b[0m\n",
      "\u001b[0;31mValueError\u001b[0m: Found input variables with inconsistent numbers of samples: [4032691, 1]"
     ]
    }
   ],
   "source": [
    "i = 0\n",
    "for train_filename in train_filenames[:5]:\n",
    "    with timer(\"data\"):\n",
    "        X_train, y_train, w_train = process_data(train_filename)\n",
    "    with timer(\"partial_fit\"):\n",
    "        clf.partial_fit(X_train, y_train, sample_weight=w_train)\n",
    "\n",
    "    i = i + 1\n",
    "    if i % 5 == 0:\n",
    "        print(\"Test:\")\n",
    "        with timer(\"evaluate_batch test\"):\n",
    "            print(i, \"ROC AUC:\", roc_auc_score(y_val, clf.predict(X_val)))\n",
    "\n",
    "\n",
    "    del X_train, y_train, w_train\n",
    "    gc.collect()"
   ]
  },
  {
   "cell_type": "code",
   "execution_count": 88,
   "metadata": {},
   "outputs": [
    {
     "name": "stdout",
     "output_type": "stream",
     "text": [
      "5 ROC AUC: 0.9118884846888228\n"
     ]
    }
   ],
   "source": [
    "print(i, \"ROC AUC:\", roc_auc_score(y_val, clf.predict(X_val)))"
   ]
  },
  {
   "cell_type": "code",
   "execution_count": null,
   "metadata": {},
   "outputs": [],
   "source": []
  }
 ],
 "metadata": {
  "kernelspec": {
   "display_name": "Python 3",
   "language": "python",
   "name": "python3"
  },
  "language_info": {
   "codemirror_mode": {
    "name": "ipython",
    "version": 3
   },
   "file_extension": ".py",
   "mimetype": "text/x-python",
   "name": "python",
   "nbconvert_exporter": "python",
   "pygments_lexer": "ipython3",
   "version": "3.6.4"
  }
 },
 "nbformat": 4,
 "nbformat_minor": 2
}

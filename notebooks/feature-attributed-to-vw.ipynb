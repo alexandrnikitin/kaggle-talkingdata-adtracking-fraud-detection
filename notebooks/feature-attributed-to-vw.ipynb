{
 "cells": [
  {
   "cell_type": "code",
   "execution_count": 1,
   "metadata": {},
   "outputs": [],
   "source": [
    "import math\n",
    "import time\n",
    "import gc\n",
    "import os\n",
    "\n",
    "import numpy as np\n",
    "import pandas as pd\n",
    "\n",
    "from glob import glob\n",
    "from itertools import combinations\n",
    "from pathlib import Path"
   ]
  },
  {
   "cell_type": "code",
   "execution_count": 2,
   "metadata": {},
   "outputs": [],
   "source": [
    "dtypes = {\n",
    "    'ip': 'uint32',\n",
    "    'app': 'uint16',\n",
    "    'device': 'uint16',\n",
    "    'os': 'uint16',\n",
    "    'channel': 'uint16',\n",
    "    'is_attributed': 'uint8',\n",
    "    'click_id': 'uint32',\n",
    "    'hour': 'uint8',\n",
    "}"
   ]
  },
  {
   "cell_type": "code",
   "execution_count": 3,
   "metadata": {},
   "outputs": [],
   "source": [
    "feature_include = tuple([\n",
    "#      'COUNT(clicks)_',\n",
    "#      'COUNT(clicks WHERE is_attributed = True)_',\n",
    "    'PERCENT_TRUE(clicks.is_attributed)_',\n",
    "     'AVG_TIME_BETWEEN(clicks.click_time)_',\n",
    "     'AVG_TIME_BETWEEN(clicks.click_time WHERE is_attributed = True)_',\n",
    "\n",
    "#      'SKEW(clicks.hour.COUNT(clicks))_',\n",
    "     'SKEW(clicks.hour.PERCENT_TRUE(clicks.is_attributed))_',\n",
    "     'SKEW(clicks.hour.AVG_TIME_BETWEEN(clicks.click_time))_',\n",
    "#      'STD(clicks.hour.COUNT(clicks))_app_7days',\n",
    "     'STD(clicks.hour.PERCENT_TRUE(clicks.is_attributed))_',\n",
    "     'STD(clicks.hour.AVG_TIME_BETWEEN(clicks.click_time))_',\n",
    "#      'MEDIAN(clicks.hour.COUNT(clicks))_app_7days',\n",
    "     'MEDIAN(clicks.hour.PERCENT_TRUE(clicks.is_attributed))_',\n",
    "     'MEDIAN(clicks.hour.AVG_TIME_BETWEEN(clicks.click_time))_',\n",
    "])"
   ]
  },
  {
   "cell_type": "code",
   "execution_count": 4,
   "metadata": {},
   "outputs": [],
   "source": [
    "target_entities_init = ['app', 'device', 'os', 'channel', 'ip', 'hour']\n",
    "target_entities = []\n",
    "\n",
    "for t in combinations(target_entities_init, 1):\n",
    "#     if 'device' in t: continue\n",
    "    target_entities.append(t[0])\n",
    "for t in combinations(target_entities_init, 2):\n",
    "#     if 'ip' in t: continue\n",
    "    target_entities.append(list(t))\n",
    "for t in combinations(target_entities_init, 3):\n",
    "#     if 'ip' in t: continue\n",
    "    target_entities.append(list(t))\n",
    "# for t in combinations(target_entities_init, 4):\n",
    "#     target_entities.append(list(t))\n",
    "\n",
    "target_entities.remove('device')\n",
    "target_entities.remove(['app', 'ip'])\n",
    "target_entities.remove(['os', 'ip'])\n",
    "target_entities.remove(['channel', 'ip'])\n",
    "target_entities.remove(['app', 'os', 'ip'])\n",
    "target_entities.remove(['app', 'device', 'ip'])\n",
    "target_entities.remove(['app', 'channel', 'ip'])\n",
    "target_entities.remove(['app', 'ip', 'hour'])\n",
    "target_entities.remove(['device', 'os', 'ip'])\n",
    "target_entities.remove(['device', 'channel', 'ip'])\n",
    "target_entities.remove(['device', 'ip', 'hour'])\n",
    "target_entities.remove(['os', 'channel', 'ip'])\n",
    "target_entities.remove(['os', 'ip', 'hour'])\n",
    "target_entities.remove(['channel', 'ip', 'hour'])\n",
    "\n",
    "# target_entities = ['app']"
   ]
  },
  {
   "cell_type": "code",
   "execution_count": 5,
   "metadata": {},
   "outputs": [],
   "source": [
    "def remove(df, columns):\n",
    "    if type(columns) is list: columns = tuple(columns)\n",
    "    to_drop = [c for c in df.columns if not c.startswith(columns)]\n",
    "    if len(to_drop) > 0: df.drop(columns=to_drop, inplace=True)\n",
    "    for c in df.columns:\n",
    "        df[c] = df[c].astype(np.float32)\n",
    "    return df\n",
    "\n",
    "def split(df, target_entity):\n",
    "    if type(target_entity) == str:\n",
    "        df[target_entity] = df.index\n",
    "    elif len(target_entity) == 2:\n",
    "        df[target_entity[0]], df[target_entity[1]] = df.index.str.split('_').str\n",
    "        df[target_entity[0]] = df[target_entity[0]].astype(dtypes[target_entity[0]])\n",
    "        df[target_entity[1]] = df[target_entity[1]].astype(dtypes[target_entity[1]])\n",
    "    elif len(target_entity) == 3:\n",
    "        df[target_entity[0]], df[target_entity[1]], df[target_entity[2]] = df.index.str.split('_').str\n",
    "        df[target_entity[0]] = df[target_entity[0]].astype(dtypes[target_entity[0]])\n",
    "        df[target_entity[1]] = df[target_entity[1]].astype(dtypes[target_entity[1]])\n",
    "        df[target_entity[2]] = df[target_entity[2]].astype(dtypes[target_entity[2]])\n",
    "    return df\n",
    "\n",
    "def combine_features(df, features_prefix, feature_suffix):\n",
    "    for target_entity in target_entities:\n",
    "        target_entity_name = target_entity if type(target_entity) == str else \"_\".join(target_entity)\n",
    "        feature_files = sorted(glob(f\"../data/interim/features/{target_entity_name}/{features_prefix}*{feature_suffix}.hdf.compress\"))\n",
    "        assert len(feature_files) > 0\n",
    "        for feature_file in feature_files:\n",
    "            df_feature = pd.read_hdf(feature_file)\n",
    "            df_feature = remove(df_feature, feature_include)\n",
    "            df_feature = split(df_feature, target_entity)\n",
    "            df = pd.merge(df, df_feature, how='left', left_on=target_entity, right_on=target_entity)\n",
    "            del df_feature\n",
    "            gc.collect()\n",
    "    return df"
   ]
  },
  {
   "cell_type": "code",
   "execution_count": 6,
   "metadata": {},
   "outputs": [],
   "source": [
    "def merge(input_file, output_file, start_day, start_hour, end_day, end_hour, feature_prefix, feature_suffix):\n",
    "    print(f\"Creating output file {output_file}\")\n",
    "    if Path(output_file).exists(): os.remove(output_file)\n",
    "    train_summary = pd.read_csv('../data/interim/day_hour_train.csv')\n",
    "    start_row = train_summary[(train_summary['day'] == start_day) & (train_summary['hour'] == start_hour)].index[0]\n",
    "    stop_row = train_summary[(train_summary['day'] == end_day) & (train_summary['hour'] == end_hour)].index[0]\n",
    "    for i in range(start_row, stop_row + 1):\n",
    "        row = train_summary.iloc[i].to_dict()\n",
    "        df_train = pd.read_hdf(input_file, start=row['start'], stop=row['end'])\n",
    "        df_train['hour'] = df_train['click_time'].dt.hour\n",
    "        df_train = combine_features(df_train, feature_prefix, feature_suffix)\n",
    "        df_train.to_hdf(output_file, 'train', format='table', mode='a', append=True, complib='blosc', fletcher32=True, complevel=9)\n",
    "    gc.collect()"
   ]
  },
  {
   "cell_type": "code",
   "execution_count": 7,
   "metadata": {},
   "outputs": [
    {
     "name": "stdout",
     "output_type": "stream",
     "text": [
      "Creating output file ../data/cache/train_vw_2017-11-08.hdf.compress\n",
      "Creating output file ../data/cache/validate_vw_2017-11-09.hdf.compress\n"
     ]
    },
    {
     "data": {
      "text/plain": [
       "48"
      ]
     },
     "execution_count": 7,
     "metadata": {},
     "output_type": "execute_result"
    }
   ],
   "source": [
    "force = True\n",
    "cache_train = '../data/cache/train_vw_2017-11-08.hdf.compress'\n",
    "cache_val = '../data/cache/validate_vw_2017-11-09.hdf.compress'\n",
    "\n",
    "if not Path(cache_train).exists() or force:\n",
    "    merge('../data/raw/train.hdf.compress', cache_train, 7, 16, 8, 16, 'features_2017-11-07_1700', 'attributed')\n",
    "\n",
    "if not Path(cache_val).exists() or force:\n",
    "    merge('../data/raw/train.hdf.compress', cache_val, 9, 4, 9, 6, 'features_2017-11-08_1700', 'attributed')\n",
    "\n",
    "gc.collect()"
   ]
  },
  {
   "cell_type": "code",
   "execution_count": 15,
   "metadata": {},
   "outputs": [],
   "source": [
    "def construct_line(row, header):\n",
    "    ignore = ['is_attributed', 'attributed_time', 'click_time']\n",
    "    categorical = ['ip', 'app', 'device', 'os', 'channel', 'hour']\n",
    "    numerical = []\n",
    "    categorical_prefixes = tuple(['MODE', 'DAY', 'YEAR', 'MONTH', 'WEEKDAY', 'HOUR', 'MINUTE', 'SECOND'])\n",
    "    numerical_prefixes = tuple(['SUM', 'STD', 'MAX', 'SKEW', 'MIN', 'MEAN', 'MEDIAN', 'COUNT', 'NUM_UNIQUE', 'PERCENT_TRUE', 'AVG_TIME_BETWEEN'])\n",
    "\n",
    "    label = 2 * int(row['is_attributed']) - 1\n",
    "\n",
    "    str_vw = f\"{label}\"\n",
    "    for k, v in row.items():\n",
    "        if k in ignore:\n",
    "            continue\n",
    "\n",
    "        if k in categorical:\n",
    "            str_vw += f\" |{header[k]} {v}\"\n",
    "        elif k in numerical:\n",
    "            if math.isnan(v) or math.isclose(v, 0.0, abs_tol=0.00001): continue\n",
    "            str_vw += f\" |{header[k]} {header[k]}:{v}\"\n",
    "        else:\n",
    "            if k.startswith(categorical_prefixes):\n",
    "                str_vw += f\" |{header[k]} {v}\"\n",
    "            elif k.startswith(numerical_prefixes):\n",
    "                if math.isnan(v) or math.isclose(v, 0.0, abs_tol=0.00001): continue\n",
    "                str_vw += f\" |{header[k]} {header[k]}:{v}\"\n",
    "            else:\n",
    "                str_vw += f\" |{header[k]} {v}\"\n",
    "\n",
    "    str_vw += '\\n'\n",
    "    return str_vw"
   ]
  },
  {
   "cell_type": "code",
   "execution_count": 13,
   "metadata": {},
   "outputs": [],
   "source": [
    "import pickle\n",
    "\n",
    "df = pd.read_hdf(cache_train, stop=1)\n",
    "header = {}\n",
    "for i, c in enumerate(df.columns):\n",
    "#     if i == ord('|'):\n",
    "#         header[c] = chr(255)\n",
    "#     elif i == ord(' '):\n",
    "#         header[c] = chr(254)\n",
    "#     elif i == ord('\\n'):\n",
    "#         header[c] = chr(253)\n",
    "#     elif i== ord(':'):\n",
    "#         header[c] = chr(252)\n",
    "#     else:\n",
    "#         header[c] = chr(i)\n",
    "    header[c] = f\"n{i}\"\n",
    "\n",
    "pickle.dump(header, open(\"header.p\", \"wb\"))\n",
    "header = pickle.load(open(\"header.p\", \"rb\"))"
   ]
  },
  {
   "cell_type": "code",
   "execution_count": 16,
   "metadata": {},
   "outputs": [],
   "source": [
    "def convert(input_file, output_file):\n",
    "    with open(output_file, mode='w', encoding='utf-8') as output_file:\n",
    "        for chunk in pd.read_hdf(cache_train, chunksize=100000):\n",
    "            for index, row in chunk.iterrows():\n",
    "                output_file.write(construct_line(row, header))"
   ]
  },
  {
   "cell_type": "code",
   "execution_count": null,
   "metadata": {},
   "outputs": [],
   "source": [
    "convert(cache_train, '../data/interim/vw/train_2017-11-07_1700_08_1600.vw')"
   ]
  },
  {
   "cell_type": "code",
   "execution_count": null,
   "metadata": {},
   "outputs": [],
   "source": [
    "convert(cache_val, '../data/interim/vw/validate_2017-11-09_0400_09_0600.vw')"
   ]
  },
  {
   "cell_type": "code",
   "execution_count": null,
   "metadata": {},
   "outputs": [],
   "source": []
  }
 ],
 "metadata": {
  "kernelspec": {
   "display_name": "Python 3",
   "language": "python",
   "name": "python3"
  }
 },
 "nbformat": 4,
 "nbformat_minor": 2
}

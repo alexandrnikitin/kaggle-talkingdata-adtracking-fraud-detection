{
 "cells": [
  {
   "cell_type": "code",
   "execution_count": 1,
   "metadata": {},
   "outputs": [],
   "source": [
    "import math\n",
    "import time\n",
    "import gc\n",
    "import os\n",
    "\n",
    "import numpy as np\n",
    "import pandas as pd\n",
    "\n",
    "from glob import glob\n",
    "from itertools import combinations\n",
    "from pathlib import Path"
   ]
  },
  {
   "cell_type": "code",
   "execution_count": 2,
   "metadata": {},
   "outputs": [],
   "source": [
    "dtypes = {\n",
    "    'ip': 'uint32',\n",
    "    'app': 'uint16',\n",
    "    'device': 'uint16',\n",
    "    'os': 'uint16',\n",
    "    'channel': 'uint16',\n",
    "    'is_attributed': 'uint8',\n",
    "    'click_id': 'uint32',\n",
    "    'hour': 'uint8',\n",
    "}"
   ]
  },
  {
   "cell_type": "code",
   "execution_count": 3,
   "metadata": {},
   "outputs": [],
   "source": [
    "feature_include = tuple([\n",
    "     'COUNT(clicks)_',\n",
    "     'COUNT(clicks WHERE is_attributed = True)_',\n",
    "    'PERCENT_TRUE(clicks.is_attributed)_',\n",
    "     'AVG_TIME_BETWEEN(clicks.click_time)_',\n",
    "     'AVG_TIME_BETWEEN(clicks.click_time WHERE is_attributed = True)_',\n",
    "\n",
    "     'SKEW(clicks.hour.COUNT(clicks))_',\n",
    "     'SKEW(clicks.hour.PERCENT_TRUE(clicks.is_attributed))_',\n",
    "     'SKEW(clicks.hour.AVG_TIME_BETWEEN(clicks.click_time))_',\n",
    "     'STD(clicks.hour.COUNT(clicks))_app_7days',\n",
    "     'STD(clicks.hour.PERCENT_TRUE(clicks.is_attributed))_',\n",
    "     'STD(clicks.hour.AVG_TIME_BETWEEN(clicks.click_time))_',\n",
    "     'MEDIAN(clicks.hour.COUNT(clicks))_app_7days',\n",
    "     'MEDIAN(clicks.hour.PERCENT_TRUE(clicks.is_attributed))_',\n",
    "     'MEDIAN(clicks.hour.AVG_TIME_BETWEEN(clicks.click_time))_',\n",
    "])"
   ]
  },
  {
   "cell_type": "code",
   "execution_count": 4,
   "metadata": {},
   "outputs": [],
   "source": [
    "target_entities_init = ['app', 'device', 'os', 'channel', 'ip', 'hour']\n",
    "target_entities = []\n",
    "\n",
    "for t in combinations(target_entities_init, 1):\n",
    "#     if 'device' in t: continue\n",
    "    target_entities.append(t[0])\n",
    "for t in combinations(target_entities_init, 2):\n",
    "#     if 'ip' in t: continue\n",
    "    target_entities.append(list(t))\n",
    "for t in combinations(target_entities_init, 3):\n",
    "#     if 'ip' in t: continue\n",
    "    target_entities.append(list(t))\n",
    "# for t in combinations(target_entities_init, 4):\n",
    "#     target_entities.append(list(t))\n",
    "\n",
    "target_entities.remove('device')\n",
    "target_entities.remove(['app', 'ip'])\n",
    "target_entities.remove(['os', 'ip'])\n",
    "target_entities.remove(['channel', 'ip'])\n",
    "target_entities.remove(['app', 'os', 'ip'])\n",
    "target_entities.remove(['app', 'device', 'ip'])\n",
    "target_entities.remove(['app', 'channel', 'ip'])\n",
    "target_entities.remove(['app', 'ip', 'hour'])\n",
    "target_entities.remove(['device', 'os', 'ip'])\n",
    "target_entities.remove(['device', 'channel', 'ip'])\n",
    "target_entities.remove(['device', 'ip', 'hour'])\n",
    "target_entities.remove(['os', 'channel', 'ip'])\n",
    "target_entities.remove(['os', 'ip', 'hour'])\n",
    "target_entities.remove(['channel', 'ip', 'hour'])"
   ]
  },
  {
   "cell_type": "code",
   "execution_count": 5,
   "metadata": {},
   "outputs": [],
   "source": [
    "def remove(df, columns):\n",
    "    if type(columns) is list: columns = tuple(columns)\n",
    "    to_drop = [c for c in df.columns if not c.startswith(columns)]\n",
    "    if len(to_drop) > 0: df.drop(columns=to_drop, inplace=True)\n",
    "    for c in df.columns:\n",
    "        df[c] = df[c].astype(np.float32)\n",
    "    return df\n",
    "\n",
    "def split(df, target_entity):\n",
    "    if type(target_entity) == str:\n",
    "        df[target_entity] = df.index\n",
    "    elif len(target_entity) == 2:\n",
    "        df[target_entity[0]], df[target_entity[1]] = df.index.str.split('_').str\n",
    "        df[target_entity[0]] = df[target_entity[0]].astype(dtypes[target_entity[0]])\n",
    "        df[target_entity[1]] = df[target_entity[1]].astype(dtypes[target_entity[1]])\n",
    "    elif len(target_entity) == 3:\n",
    "        df[target_entity[0]], df[target_entity[1]], df[target_entity[2]] = df.index.str.split('_').str\n",
    "        df[target_entity[0]] = df[target_entity[0]].astype(dtypes[target_entity[0]])\n",
    "        df[target_entity[1]] = df[target_entity[1]].astype(dtypes[target_entity[1]])\n",
    "        df[target_entity[2]] = df[target_entity[2]].astype(dtypes[target_entity[2]])\n",
    "    return df\n",
    "\n",
    "def combine_features(df, features_prefix, feature_suffix):\n",
    "    for target_entity in target_entities:\n",
    "        target_entity_name = target_entity if type(target_entity) == str else \"_\".join(target_entity)\n",
    "        feature_files = sorted(glob(f\"../data/interim/features/{target_entity_name}/{features_prefix}*{feature_suffix}.hdf.compress\"))\n",
    "        assert len(feature_files) > 0\n",
    "        for feature_file in feature_files:\n",
    "            df_feature = pd.read_hdf(feature_file)\n",
    "            df_feature = remove(df_feature, feature_include)\n",
    "            df_feature = split(df_feature, target_entity)\n",
    "            df = pd.merge(df, df_feature, how='left', left_on=target_entity, right_on=target_entity)\n",
    "            del df_feature\n",
    "            gc.collect()\n",
    "    return df"
   ]
  },
  {
   "cell_type": "code",
   "execution_count": null,
   "metadata": {},
   "outputs": [
    {
     "name": "stdout",
     "output_type": "stream",
     "text": [
      "Train cache doesn't exist, creating\n"
     ]
    }
   ],
   "source": [
    "force = True\n",
    "cache_train = '../data/cache/train_vw_2017-11-08.hdf.compress'\n",
    "cache_val = '../data/cache/validate_vw_2017-11-09.hdf.compress'\n",
    "feature_suffix = 'attributed6'\n",
    "train_feature_prefix = 'features_2017-11-07_1700'\n",
    "valid_feature_prefix = 'features_2017-11-08_1700'\n",
    "\n",
    "if not Path(cache_train).exists() or force:\n",
    "    print(\"Train cache doesn't exist, creating\")\n",
    "    if Path(cache_train).exists(): os.remove(cache_train)\n",
    "\n",
    "    train_summary = pd.read_csv('../data/interim/day_hour_train.csv')\n",
    "    start_row = train_summary[(train_summary['day'] == 7) & (train_summary['hour'] == 16)].index[0]\n",
    "    stop_row = train_summary[(train_summary['day'] == 8) & (train_summary['hour'] == 16)].index[0]\n",
    "    for i in range(start_row, stop_row + 1):\n",
    "        row = train_summary.iloc[i].to_dict()\n",
    "        df_train = pd.read_hdf('../data/raw/train.hdf.compress', start=row['start'], stop=row['end'])\n",
    "        df_train['hour'] = df_train['click_time'].dt.hour\n",
    "        df_train = combine_features(df_train, train_feature_prefix, feature_suffix)\n",
    "        df_train.to_hdf(cache_train, 'train', format='table', mode='a', append=True, complib='blosc', fletcher32=True, complevel=9)\n",
    "    gc.collect()\n",
    "\n",
    "if not Path(cache_val).exists() or force:\n",
    "    print(\"Validation cache doesn't exist, creating\")\n",
    "    train_summary = pd.read_csv('../data/interim/day_hour_train.csv')\n",
    "    start_row = train_summary[(train_summary['day'] == 9) & (train_summary['hour'] == 4)]['start'].values[0]\n",
    "    stop_row = train_summary[(train_summary['day'] == 9) & (train_summary['hour'] == 6)]['end'].values[0]\n",
    "    df_val = pd.read_hdf('../data/raw/train.hdf.compress', start=start_row, stop=stop_row)\n",
    "    df_val['hour'] = df_val['click_time'].dt.hour\n",
    "    df_val = combine_features(df_val, valid_feature_prefix, feature_suffix)\n",
    "    df_val.to_hdf(cache_val, 'train', format='table', mode='a', append=True, complib='blosc', fletcher32=True, complevel=9)\n",
    "\n",
    "gc.collect()"
   ]
  },
  {
   "cell_type": "code",
   "execution_count": null,
   "metadata": {},
   "outputs": [],
   "source": []
  }
 ],
 "metadata": {
  "kernelspec": {
   "display_name": "Python 3",
   "language": "python",
   "name": "python3"
  },
  "language_info": {
   "codemirror_mode": {
    "name": "ipython",
    "version": 3
   },
   "file_extension": ".py",
   "mimetype": "text/x-python",
   "name": "python",
   "nbconvert_exporter": "python",
   "pygments_lexer": "ipython3",
   "version": "3.6.4"
  }
 },
 "nbformat": 4,
 "nbformat_minor": 2
}

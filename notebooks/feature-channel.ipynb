{
 "cells": [
  {
   "cell_type": "code",
   "execution_count": 7,
   "metadata": {},
   "outputs": [],
   "source": [
    "import os\n",
    "import gc\n",
    "\n",
    "import numpy as np\n",
    "import pandas as pd\n",
    "import featuretools as ft\n",
    "\n",
    "from datetime import datetime\n",
    "from glob import glob\n",
    "\n",
    "from dask import bag\n",
    "from dask.diagnostics import ProgressBar\n",
    "from featuretools.primitives import *"
   ]
  },
  {
   "cell_type": "code",
   "execution_count": 3,
   "metadata": {
    "scrolled": true
   },
   "outputs": [
    {
     "data": {
      "text/plain": [
       "['../data/interim/train_2017-11-08_0000.csv',\n",
       " '../data/interim/train_2017-11-08_0100.csv',\n",
       " '../data/interim/train_2017-11-08_0200.csv',\n",
       " '../data/interim/train_2017-11-08_0300.csv',\n",
       " '../data/interim/train_2017-11-08_0400.csv',\n",
       " '../data/interim/train_2017-11-08_0500.csv',\n",
       " '../data/interim/train_2017-11-08_0600.csv',\n",
       " '../data/interim/train_2017-11-08_0700.csv',\n",
       " '../data/interim/train_2017-11-08_0800.csv',\n",
       " '../data/interim/train_2017-11-08_0900.csv',\n",
       " '../data/interim/train_2017-11-08_1000.csv',\n",
       " '../data/interim/train_2017-11-08_1100.csv',\n",
       " '../data/interim/train_2017-11-08_1200.csv',\n",
       " '../data/interim/train_2017-11-08_1300.csv',\n",
       " '../data/interim/train_2017-11-08_1400.csv',\n",
       " '../data/interim/train_2017-11-08_1500.csv',\n",
       " '../data/interim/train_2017-11-08_1600.csv',\n",
       " '../data/interim/train_2017-11-08_1700.csv',\n",
       " '../data/interim/train_2017-11-08_1800.csv',\n",
       " '../data/interim/train_2017-11-08_1900.csv',\n",
       " '../data/interim/train_2017-11-08_2000.csv',\n",
       " '../data/interim/train_2017-11-08_2100.csv',\n",
       " '../data/interim/train_2017-11-08_2200.csv',\n",
       " '../data/interim/train_2017-11-08_2300.csv']"
      ]
     },
     "execution_count": 3,
     "metadata": {},
     "output_type": "execute_result"
    }
   ],
   "source": [
    "sorted(glob('../data/interim/train_2017-11-08*00.csv'))"
   ]
  },
  {
   "cell_type": "code",
   "execution_count": 2,
   "metadata": {},
   "outputs": [],
   "source": [
    "dtypes = {\n",
    "    'ip': 'uint32',\n",
    "    'app': 'uint16',\n",
    "    'device': 'uint16',\n",
    "    'os': 'uint16',\n",
    "    'channel': 'uint16',\n",
    "    'is_attributed': 'uint8'\n",
    "}\n",
    "to_read = ['ip', 'app', 'device', 'os', 'channel', 'click_time', 'is_attributed']\n",
    "to_parse = ['click_time']"
   ]
  },
  {
   "cell_type": "code",
   "execution_count": 3,
   "metadata": {},
   "outputs": [],
   "source": [
    "df = pd.read_csv('../data/raw/train_sample.csv', usecols=to_read, dtype=dtypes, parse_dates=to_parse)\n",
    "df['id'] = df.index"
   ]
  },
  {
   "cell_type": "code",
   "execution_count": 17,
   "metadata": {},
   "outputs": [],
   "source": [
    "df_downloads = df[df['is_attributed'] == 1][['id', 'click_time']].copy()"
   ]
  },
  {
   "cell_type": "code",
   "execution_count": 18,
   "metadata": {},
   "outputs": [
    {
     "data": {
      "text/html": [
       "<div>\n",
       "<style scoped>\n",
       "    .dataframe tbody tr th:only-of-type {\n",
       "        vertical-align: middle;\n",
       "    }\n",
       "\n",
       "    .dataframe tbody tr th {\n",
       "        vertical-align: top;\n",
       "    }\n",
       "\n",
       "    .dataframe thead th {\n",
       "        text-align: right;\n",
       "    }\n",
       "</style>\n",
       "<table border=\"1\" class=\"dataframe\">\n",
       "  <thead>\n",
       "    <tr style=\"text-align: right;\">\n",
       "      <th></th>\n",
       "      <th>id</th>\n",
       "      <th>click_time</th>\n",
       "    </tr>\n",
       "  </thead>\n",
       "  <tbody>\n",
       "    <tr>\n",
       "      <th>284</th>\n",
       "      <td>284</td>\n",
       "      <td>2017-11-08 02:22:13</td>\n",
       "    </tr>\n",
       "    <tr>\n",
       "      <th>481</th>\n",
       "      <td>481</td>\n",
       "      <td>2017-11-08 06:10:05</td>\n",
       "    </tr>\n",
       "    <tr>\n",
       "      <th>1208</th>\n",
       "      <td>1208</td>\n",
       "      <td>2017-11-07 09:54:22</td>\n",
       "    </tr>\n",
       "    <tr>\n",
       "      <th>1341</th>\n",
       "      <td>1341</td>\n",
       "      <td>2017-11-09 10:58:46</td>\n",
       "    </tr>\n",
       "    <tr>\n",
       "      <th>1412</th>\n",
       "      <td>1412</td>\n",
       "      <td>2017-11-07 22:19:03</td>\n",
       "    </tr>\n",
       "  </tbody>\n",
       "</table>\n",
       "</div>"
      ],
      "text/plain": [
       "        id          click_time\n",
       "284    284 2017-11-08 02:22:13\n",
       "481    481 2017-11-08 06:10:05\n",
       "1208  1208 2017-11-07 09:54:22\n",
       "1341  1341 2017-11-09 10:58:46\n",
       "1412  1412 2017-11-07 22:19:03"
      ]
     },
     "execution_count": 18,
     "metadata": {},
     "output_type": "execute_result"
    }
   ],
   "source": [
    "df_downloads.head()"
   ]
  },
  {
   "cell_type": "code",
   "execution_count": 4,
   "metadata": {},
   "outputs": [],
   "source": [
    "es = ft.EntitySet(id='clicks')\n",
    "es = es.entity_from_dataframe(\n",
    "    entity_id='clicks',\n",
    "    dataframe=df,\n",
    "    index='id',\n",
    "    time_index='click_time',\n",
    "    variable_types={\n",
    "        'app': ft.variable_types.Categorical,\n",
    "        'device': ft.variable_types.Categorical,\n",
    "        'os': ft.variable_types.Categorical,\n",
    "        'channel': ft.variable_types.Categorical,\n",
    "        'is_attributed': ft.variable_types.Boolean,\n",
    "    }\n",
    ")\n",
    "es = es.normalize_entity(base_entity_id='clicks', new_entity_id='ip', index='ip', make_time_index=False)\n",
    "es = es.normalize_entity(base_entity_id='clicks', new_entity_id='app', index='app', make_time_index=False)\n",
    "es = es.normalize_entity(base_entity_id='clicks', new_entity_id='device', index='device', make_time_index=False)\n",
    "es = es.normalize_entity(base_entity_id='clicks', new_entity_id='channel', index='channel', make_time_index=False)\n",
    "es = es.normalize_entity(base_entity_id='clicks', new_entity_id='os', index='os', make_time_index=False)\n",
    "\n",
    "# es = es.entity_from_dataframe(\n",
    "#     entity_id='download',\n",
    "#     dataframe=df_downloads,\n",
    "#     index='id',\n",
    "#     time_index='click_time'\n",
    "# )\n",
    "\n",
    "# new_relationship = ft.Relationship(es['download']['id'], es['clicks']['id'])\n",
    "# es = es.add_relationship(new_relationship)\n",
    "\n",
    "es.add_last_time_indexes()\n",
    "es['clicks']['is_attributed'].interesting_values = [True]"
   ]
  },
  {
   "cell_type": "code",
   "execution_count": 13,
   "metadata": {
    "scrolled": true
   },
   "outputs": [],
   "source": [
    "def create_features(entityset, target_entity, cutoff_time, training_window):\n",
    "    feature_matrix, feature_defs = ft.dfs(\n",
    "        entityset=entityset,\n",
    "        target_entity=target_entity,\n",
    "        cutoff_time=cutoff_time,\n",
    "        training_window=training_window,\n",
    "        agg_primitives=[PercentTrue],\n",
    "        max_depth=3,\n",
    "#         features_only=True\n",
    "    )\n",
    "    return feature_matrix"
   ]
  },
  {
   "cell_type": "code",
   "execution_count": 16,
   "metadata": {},
   "outputs": [
    {
     "name": "stdout",
     "output_type": "stream",
     "text": [
      "Writing ../data/interim/features/channel/train_2017-11-07_1600_channel_1day_attributed_features.csv\n"
     ]
    }
   ],
   "source": [
    "target_entities = ['ip', 'app', 'device', 'os', 'channel']\n",
    "target_entities = ['channel']\n",
    "training_windows = ['1 day']\n",
    "cutoff_time=datetime.datetime(2017, 11, 7, 16, 0)\n",
    "\n",
    "for target_entity in target_entities:\n",
    "    features_dir = f\"../data/interim/features/{target_entity}\"\n",
    "    if not os.path.exists(features_dir): os.makedirs(features_dir)\n",
    "    for training_window in training_windows:\n",
    "        training_window=ft.Timedelta(training_window)\n",
    "        feature_matrix = create_features(es, target_entity=target_entity, cutoff_time=cutoff_time, training_window=training_window)\n",
    "        tw_suffix = training_window.get_name().replace(' ', '').lower()\n",
    "        feature_matrix.columns = [str(col) + f\"_{target_entity}_{tw_suffix}\" for col in feature_matrix.columns]\n",
    "        output_file = f\"{features_dir}/train_2017-11-07_1600_{target_entity}_{tw_suffix}_attributed_features.csv\"\n",
    "        print(f\"Writing {output_file}\")\n",
    "        feature_matrix.to_csv(output_file)\n",
    "        del feature_matrix\n",
    "        gc.collect()"
   ]
  }
 ],
 "metadata": {
  "kernelspec": {
   "display_name": "Python 3",
   "language": "python",
   "name": "python3"
  },
  "language_info": {
   "codemirror_mode": {
    "name": "ipython",
    "version": 3
   },
   "file_extension": ".py",
   "mimetype": "text/x-python",
   "name": "python",
   "nbconvert_exporter": "python",
   "pygments_lexer": "ipython3",
   "version": "3.6.4"
  }
 },
 "nbformat": 4,
 "nbformat_minor": 2
}

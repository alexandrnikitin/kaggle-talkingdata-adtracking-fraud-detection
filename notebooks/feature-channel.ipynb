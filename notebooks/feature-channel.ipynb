{
 "cells": [
  {
   "cell_type": "code",
   "execution_count": 1,
   "metadata": {},
   "outputs": [],
   "source": [
    "import os\n",
    "import gc\n",
    "\n",
    "import numpy as np\n",
    "import pandas as pd\n",
    "import featuretools as ft\n",
    "\n",
    "from glob import glob\n",
    "\n",
    "from dask import bag\n",
    "from dask.diagnostics import ProgressBar\n",
    "from featuretools.primitives import *"
   ]
  },
  {
   "cell_type": "code",
   "execution_count": 2,
   "metadata": {},
   "outputs": [],
   "source": [
    "dtypes = {\n",
    "    'ip': 'uint32',\n",
    "    'app': 'uint16',\n",
    "    'device': 'uint16',\n",
    "    'os': 'uint16',\n",
    "    'channel': 'uint16',\n",
    "    'is_attributed': 'uint8'\n",
    "}\n",
    "to_read = ['app', 'device', 'os', 'channel', 'click_time', 'is_attributed']\n",
    "to_parse = ['click_time']"
   ]
  },
  {
   "cell_type": "code",
   "execution_count": 3,
   "metadata": {},
   "outputs": [],
   "source": [
    "pbar = ProgressBar()\n",
    "pbar.register()"
   ]
  },
  {
   "cell_type": "code",
   "execution_count": 4,
   "metadata": {},
   "outputs": [],
   "source": [
    "def createEntitySet(filename):\n",
    "    df = pd.read_csv(filename, usecols=to_read, dtype=dtypes, parse_dates=to_parse)\n",
    "    df['id'] = range(len(df))\n",
    "    \n",
    "    es = ft.EntitySet(id='clicks')\n",
    "    es = es.entity_from_dataframe(\n",
    "        entity_id='clicks',\n",
    "        dataframe=df,\n",
    "        index='id',\n",
    "        time_index='click_time',\n",
    "        \n",
    "        variable_types={\n",
    "            'app': ft.variable_types.Categorical,\n",
    "            'device': ft.variable_types.Categorical,\n",
    "            'os': ft.variable_types.Categorical,\n",
    "            'channel': ft.variable_types.Categorical,\n",
    "            'is_attributed': ft.variable_types.Boolean,\n",
    "        }\n",
    "    )\n",
    "\n",
    "    es = es.normalize_entity(base_entity_id='clicks', new_entity_id='channels', index='channel', make_time_index=False)\n",
    "    es.add_last_time_indexes()\n",
    "    return es\n",
    "\n",
    "\n",
    "def calc_feature_matrix(es, entity_id, cutoff_time, training_window):\n",
    "    feature_matrix, _ = ft.dfs(\n",
    "        entityset=es,\n",
    "        target_entity=entity_id,\n",
    "        cutoff_time=cutoff_time,\n",
    "        training_window=training_window,\n",
    "        max_depth=2\n",
    "    )\n",
    "\n",
    "    return feature_matrix\n",
    "\n",
    "def createFeatures(filename, entity_sets):\n",
    "    df_train = pd.read_csv(filename, usecols=['click_time'], parse_dates=to_parse)    \n",
    "    cutoff_time = df_train['click_time'].min()\n",
    "    training_window = ft.Timedelta(\"1 hours\")\n",
    "    b = bag.from_sequence(entity_sets)\n",
    "    feature_matrices = b.map(calc_feature_matrix, entity_id='channels', cutoff_time=cutoff_time, training_window=training_window)\n",
    "    out = feature_matrices.compute()\n",
    "    feature_matrix = pd.concat(out)\n",
    "    name, ext = os.path.splitext(filename)\n",
    "    output_file = f\"{name}_channel_features{ext}\"\n",
    "    feature_matrix.to_csv(output_file)\n",
    "    del df_train\n",
    "    del feature_matrix\n",
    "    del feature_matrices\n",
    "    del b"
   ]
  },
  {
   "cell_type": "code",
   "execution_count": 5,
   "metadata": {},
   "outputs": [
    {
     "name": "stdout",
     "output_type": "stream",
     "text": [
      "[########################################] | 100% Completed |  3min  2.0s\n"
     ]
    },
    {
     "data": {
      "text/plain": [
       "8317"
      ]
     },
     "execution_count": 5,
     "metadata": {},
     "output_type": "execute_result"
    }
   ],
   "source": [
    "input_path = '../data/interim/partitioned/channel'\n",
    "filenames = glob(f\"{input_path}/train_*.csv\")\n",
    "b = bag.from_sequence(filenames)\n",
    "entity_sets = b.map(createEntitySet).compute()\n",
    "gc.collect()"
   ]
  },
  {
   "cell_type": "code",
   "execution_count": null,
   "metadata": {},
   "outputs": [
    {
     "name": "stdout",
     "output_type": "stream",
     "text": [
      "Processing: ../data/interim/train_2017-11-08_0000.csv\n",
      "[########################################] | 100% Completed |  1min 55.4s\n",
      "Processing: ../data/interim/train_2017-11-08_0100.csv\n",
      "[########################################] | 100% Completed |  1min 58.1s\n",
      "Processing: ../data/interim/train_2017-11-08_0200.csv\n",
      "[########################################] | 100% Completed |  1min 56.6s\n",
      "Processing: ../data/interim/train_2017-11-08_0300.csv\n",
      "[########################################] | 100% Completed |  2min 12.0s\n",
      "Processing: ../data/interim/train_2017-11-08_0400.csv\n",
      "[########################################] | 100% Completed |  2min  1.0s\n",
      "Processing: ../data/interim/train_2017-11-08_0500.csv\n",
      "[########################################] | 100% Completed |  2min  0.5s\n",
      "Processing: ../data/interim/train_2017-11-08_0600.csv\n",
      "[########################################] | 100% Completed |  2min  5.3s\n",
      "Processing: ../data/interim/train_2017-11-08_0700.csv\n",
      "[########################################] | 100% Completed |  2min 10.2s\n",
      "Processing: ../data/interim/train_2017-11-08_0800.csv\n",
      "[########################################] | 100% Completed |  1min 57.0s\n",
      "Processing: ../data/interim/train_2017-11-08_0900.csv\n",
      "[########################################] | 100% Completed |  2min  1.4s\n",
      "Processing: ../data/interim/train_2017-11-08_1000.csv\n",
      "[########################################] | 100% Completed |  2min 14.4s\n",
      "Processing: ../data/interim/train_2017-11-08_1100.csv\n",
      "[########################################] | 100% Completed |  1min 56.4s\n",
      "Processing: ../data/interim/train_2017-11-08_1200.csv\n",
      "[########################################] | 100% Completed |  1min 43.1s\n",
      "Processing: ../data/interim/train_2017-11-08_1300.csv\n",
      "[########################################] | 100% Completed |  1min 38.7s\n",
      "Processing: ../data/interim/train_2017-11-08_1400.csv\n",
      "[########################################] | 100% Completed |  1min 51.9s\n",
      "Processing: ../data/interim/train_2017-11-08_1500.csv\n",
      "[########################################] | 100% Completed |  1min 51.8s\n",
      "Processing: ../data/interim/train_2017-11-08_1600.csv\n",
      "[########################################] | 100% Completed |  1min 34.6s\n",
      "Processing: ../data/interim/train_2017-11-08_1700.csv\n",
      "[########################################] | 100% Completed |  2min  8.4s\n",
      "Processing: ../data/interim/train_2017-11-08_1800.csv\n",
      "[########################################] | 100% Completed |  1min 59.0s\n",
      "Processing: ../data/interim/train_2017-11-08_1900.csv\n",
      "[########################################] | 100% Completed |  2min 25.9s\n",
      "Processing: ../data/interim/train_2017-11-08_2000.csv\n",
      "[########################################] | 100% Completed |  2min  9.8s\n",
      "Processing: ../data/interim/train_2017-11-08_2100.csv\n",
      "[########################################] | 100% Completed |  2min 19.5s\n",
      "Processing: ../data/interim/train_2017-11-08_2200.csv\n",
      "[########################################] | 100% Completed |  2min 28.6s\n",
      "Processing: ../data/interim/train_2017-11-08_2300.csv\n",
      "[######                                  ] | 17% Completed | 51.2s"
     ]
    }
   ],
   "source": [
    "filenames_train = sorted(glob('../data/interim/train_2017-11-08_*00.csv'))\n",
    "for filename in filenames_train:\n",
    "    print(f\"Processing: {filename}\")\n",
    "    createFeatures(filename, entity_sets)\n",
    "    gc.collect()"
   ]
  },
  {
   "cell_type": "code",
   "execution_count": null,
   "metadata": {},
   "outputs": [],
   "source": []
  }
 ],
 "metadata": {
  "kernelspec": {
   "display_name": "Python 3",
   "language": "python",
   "name": "python3"
  },
  "language_info": {
   "codemirror_mode": {
    "name": "ipython",
    "version": 3
   },
   "file_extension": ".py",
   "mimetype": "text/x-python",
   "name": "python",
   "nbconvert_exporter": "python",
   "pygments_lexer": "ipython3",
   "version": "3.6.4"
  }
 },
 "nbformat": 4,
 "nbformat_minor": 2
}

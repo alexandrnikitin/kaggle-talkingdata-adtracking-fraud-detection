{
 "cells": [
  {
   "cell_type": "code",
   "execution_count": 1,
   "metadata": {},
   "outputs": [],
   "source": [
    "import gc\n",
    "import os\n",
    "import operator\n",
    "\n",
    "from glob import glob\n",
    "\n",
    "import numpy as np\n",
    "import pandas as pd"
   ]
  },
  {
   "cell_type": "code",
   "execution_count": 2,
   "metadata": {},
   "outputs": [],
   "source": [
    "train_summary = pd.read_csv('../data/interim/day_hour_train.csv')\n",
    "train_start_row = train_summary[(train_summary['day'] == 7) & (train_summary['hour'] == 17)]['start'].values[0]\n",
    "train_stop_row = train_summary[(train_summary['day'] == 8) & (train_summary['hour'] == 16)]['end'].values[0]\n",
    "val_start_row = train_summary[(train_summary['day'] == 9) & (train_summary['hour'] == 4)]['start'].values[0]\n",
    "val_stop_row = train_summary[(train_summary['day'] == 9) & (train_summary['hour'] == 6)]['end'].values[0]"
   ]
  },
  {
   "cell_type": "code",
   "execution_count": 6,
   "metadata": {},
   "outputs": [],
   "source": [
    "def downsample(start, stop, n, prefix):\n",
    "    df_train = pd.read_hdf('../data/raw/train.hdf.compress', start=train_start_row, stop=train_stop_row)\n",
    "    df_train_pos = df_train[(df_train['is_attributed'] == 1)]\n",
    "    df_train_neg = df_train[(df_train['is_attributed'] == 0)]\n",
    "    print(\"Total positives : \",df_train_pos.shape[0])\n",
    "    print(\"Total Negatives : \", df_train_neg.shape[0])\n",
    "    print(\"Base percentage of positives : \", 100*df_train_pos.shape[0]/df_train_neg.shape[0])\n",
    "    for i in range(n):\n",
    "        df_train_neg_sample = df_train_neg.sample(n=1500000, random_state=i)\n",
    "        df = pd.concat([df_train_pos, df_train_neg_sample]).sort_values('click_time')\n",
    "        filename = f\"../data/interim/downsampled/{prefix}_{i}.hdf.compress\"\n",
    "        print(f\"Writing {filename}\")\n",
    "        df.to_hdf(filename, 'train', mode='w', complib='blosc', fletcher32=True, complevel=9)"
   ]
  },
  {
   "cell_type": "code",
   "execution_count": 7,
   "metadata": {},
   "outputs": [
    {
     "name": "stdout",
     "output_type": "stream",
     "text": [
      "Total positives :  151887\n",
      "Total Negatives :  62349848\n",
      "Base percentage of positives :  0.24360444310946835\n",
      "Writing ../data/interim/downsampled/train_2017-11-07_1700_08_1600_0.hdf.compress\n",
      "Writing ../data/interim/downsampled/train_2017-11-07_1700_08_1600_1.hdf.compress\n",
      "Writing ../data/interim/downsampled/train_2017-11-07_1700_08_1600_2.hdf.compress\n",
      "Writing ../data/interim/downsampled/train_2017-11-07_1700_08_1600_3.hdf.compress\n",
      "Writing ../data/interim/downsampled/train_2017-11-07_1700_08_1600_4.hdf.compress\n",
      "Writing ../data/interim/downsampled/train_2017-11-07_1700_08_1600_5.hdf.compress\n",
      "Writing ../data/interim/downsampled/train_2017-11-07_1700_08_1600_6.hdf.compress\n",
      "Writing ../data/interim/downsampled/train_2017-11-07_1700_08_1600_7.hdf.compress\n",
      "Writing ../data/interim/downsampled/train_2017-11-07_1700_08_1600_8.hdf.compress\n",
      "Writing ../data/interim/downsampled/train_2017-11-07_1700_08_1600_9.hdf.compress\n"
     ]
    }
   ],
   "source": [
    "downsample(train_start_row, train_stop_row, 10, 'train_2017-11-07_1700_08_1600')"
   ]
  },
  {
   "cell_type": "code",
   "execution_count": 8,
   "metadata": {},
   "outputs": [
    {
     "name": "stdout",
     "output_type": "stream",
     "text": [
      "Total positives :  151887\n",
      "Total Negatives :  62349848\n",
      "Base percentage of positives :  0.24360444310946835\n",
      "Writing ../data/interim/downsampled/train_2017-11-09_0400_09_0600_0.hdf.compress\n",
      "Writing ../data/interim/downsampled/train_2017-11-09_0400_09_0600_1.hdf.compress\n",
      "Writing ../data/interim/downsampled/train_2017-11-09_0400_09_0600_2.hdf.compress\n",
      "Writing ../data/interim/downsampled/train_2017-11-09_0400_09_0600_3.hdf.compress\n",
      "Writing ../data/interim/downsampled/train_2017-11-09_0400_09_0600_4.hdf.compress\n",
      "Writing ../data/interim/downsampled/train_2017-11-09_0400_09_0600_5.hdf.compress\n",
      "Writing ../data/interim/downsampled/train_2017-11-09_0400_09_0600_6.hdf.compress\n",
      "Writing ../data/interim/downsampled/train_2017-11-09_0400_09_0600_7.hdf.compress\n",
      "Writing ../data/interim/downsampled/train_2017-11-09_0400_09_0600_8.hdf.compress\n",
      "Writing ../data/interim/downsampled/train_2017-11-09_0400_09_0600_9.hdf.compress\n"
     ]
    }
   ],
   "source": [
    "downsample(val_start_row, val_stop_row, 10, 'train_2017-11-09_0400_09_0600')"
   ]
  },
  {
   "cell_type": "code",
   "execution_count": null,
   "metadata": {},
   "outputs": [],
   "source": []
  }
 ],
 "metadata": {
  "kernelspec": {
   "display_name": "Python 3",
   "language": "python",
   "name": "python3"
  },
  "language_info": {
   "codemirror_mode": {
    "name": "ipython",
    "version": 3
   },
   "file_extension": ".py",
   "mimetype": "text/x-python",
   "name": "python",
   "nbconvert_exporter": "python",
   "pygments_lexer": "ipython3",
   "version": "3.6.4"
  }
 },
 "nbformat": 4,
 "nbformat_minor": 2
}

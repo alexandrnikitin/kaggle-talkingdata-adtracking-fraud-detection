{
 "cells": [
  {
   "cell_type": "code",
   "execution_count": 1,
   "metadata": {},
   "outputs": [],
   "source": [
    "import gc\n",
    "import os\n",
    "\n",
    "import pandas as pd\n",
    "\n",
    "from glob import glob"
   ]
  },
  {
   "cell_type": "code",
   "execution_count": 7,
   "metadata": {},
   "outputs": [
    {
     "data": {
      "text/plain": [
       "['../data/interim/features/app/features_2017-11-07_1700_1day_attributed.csv',\n",
       " '../data/interim/features/channel/features_2017-11-07_1700_1day_attributed.csv',\n",
       " '../data/interim/features/device/features_2017-11-07_1700_1day_attributed.csv',\n",
       " '../data/interim/features/os/features_2017-11-07_1700_1day_attributed.csv']"
      ]
     },
     "execution_count": 7,
     "metadata": {},
     "output_type": "execute_result"
    }
   ],
   "source": [
    "sorted(glob(f\"../data/interim/features/*/features_2017-11-07_1700_*.csv\"))"
   ]
  },
  {
   "cell_type": "code",
   "execution_count": 17,
   "metadata": {},
   "outputs": [
    {
     "data": {
      "text/plain": [
       "['../data/interim/downsampled/train_2017-11-07_1700_08_1600_0.csv.gz',\n",
       " '../data/interim/downsampled/train_2017-11-07_1700_08_1600_1.csv.gz',\n",
       " '../data/interim/downsampled/train_2017-11-07_1700_08_1600_2.csv.gz',\n",
       " '../data/interim/downsampled/train_2017-11-07_1700_08_1600_3.csv.gz',\n",
       " '../data/interim/downsampled/train_2017-11-07_1700_08_1600_4.csv.gz',\n",
       " '../data/interim/downsampled/train_2017-11-07_1700_08_1600_5.csv.gz',\n",
       " '../data/interim/downsampled/train_2017-11-07_1700_08_1600_6.csv.gz',\n",
       " '../data/interim/downsampled/train_2017-11-07_1700_08_1600_7.csv.gz',\n",
       " '../data/interim/downsampled/train_2017-11-07_1700_08_1600_8.csv.gz',\n",
       " '../data/interim/downsampled/train_2017-11-07_1700_08_1600_9.csv.gz']"
      ]
     },
     "execution_count": 17,
     "metadata": {},
     "output_type": "execute_result"
    }
   ],
   "source": [
    "sorted(glob(f\"../data/interim/downsampled/*\"))"
   ]
  },
  {
   "cell_type": "code",
   "execution_count": 2,
   "metadata": {},
   "outputs": [],
   "source": [
    "dtypes = {\n",
    "    'ip': 'uint32',\n",
    "    'app': 'uint16',\n",
    "    'device': 'uint16',\n",
    "    'os': 'uint16',\n",
    "    'channel': 'uint16',\n",
    "    'is_attributed': 'uint8'\n",
    "}\n",
    "to_read = ['app', 'device', 'os', 'channel', 'is_attributed']\n",
    "\n",
    "target_entities = ['app', 'device', 'os', 'channel']"
   ]
  },
  {
   "cell_type": "code",
   "execution_count": 5,
   "metadata": {},
   "outputs": [],
   "source": [
    "train_files = ['../data/interim/downsampled/train_2017-11-07_1700_08_1600_0.csv.gz',\n",
    " '../data/interim/downsampled/train_2017-11-07_1700_08_1600_1.csv.gz',\n",
    " '../data/interim/downsampled/train_2017-11-07_1700_08_1600_2.csv.gz',\n",
    " '../data/interim/downsampled/train_2017-11-07_1700_08_1600_3.csv.gz',\n",
    " '../data/interim/downsampled/train_2017-11-07_1700_08_1600_4.csv.gz',\n",
    " '../data/interim/downsampled/train_2017-11-07_1700_08_1600_5.csv.gz',\n",
    " '../data/interim/downsampled/train_2017-11-07_1700_08_1600_6.csv.gz',\n",
    " '../data/interim/downsampled/train_2017-11-07_1700_08_1600_7.csv.gz',\n",
    " '../data/interim/downsampled/train_2017-11-07_1700_08_1600_8.csv.gz',\n",
    " '../data/interim/downsampled/train_2017-11-07_1700_08_1600_9.csv.gz']"
   ]
  },
  {
   "cell_type": "code",
   "execution_count": 6,
   "metadata": {},
   "outputs": [
    {
     "name": "stdout",
     "output_type": "stream",
     "text": [
      "Writing ../data/interim/combined/train_2017-11-07_1700_08_1600_0_attributed.csv.gz\n",
      "Writing ../data/interim/combined/train_2017-11-07_1700_08_1600_1_attributed.csv.gz\n",
      "Writing ../data/interim/combined/train_2017-11-07_1700_08_1600_2_attributed.csv.gz\n",
      "Writing ../data/interim/combined/train_2017-11-07_1700_08_1600_3_attributed.csv.gz\n",
      "Writing ../data/interim/combined/train_2017-11-07_1700_08_1600_4_attributed.csv.gz\n",
      "Writing ../data/interim/combined/train_2017-11-07_1700_08_1600_5_attributed.csv.gz\n",
      "Writing ../data/interim/combined/train_2017-11-07_1700_08_1600_6_attributed.csv.gz\n",
      "Writing ../data/interim/combined/train_2017-11-07_1700_08_1600_7_attributed.csv.gz\n",
      "Writing ../data/interim/combined/train_2017-11-07_1700_08_1600_8_attributed.csv.gz\n",
      "Writing ../data/interim/combined/train_2017-11-07_1700_08_1600_9_attributed.csv.gz\n"
     ]
    }
   ],
   "source": [
    "for train_file in train_files:\n",
    "    df_train = pd.read_csv(train_file, usecols=to_read, dtype=dtypes, compression='gzip')\n",
    "    name, ext = os.path.splitext(os.path.basename(train_file))\n",
    "    name, ext = os.path.splitext(name)\n",
    "    for target_entity in target_entities:\n",
    "        feature_files = sorted(glob(f\"../data/interim/features/{target_entity}/features_2017-11-07_1700_*attributed.csv\"))\n",
    "        for feature_file in feature_files:\n",
    "            df_feature = pd.read_csv(feature_file, index_col=target_entity)\n",
    "            df_train = df_train.join(df_feature, on=target_entity)\n",
    "            del df_feature\n",
    "            \n",
    "    print(f\"Writing ../data/interim/combined/{name}_attributed{ext}.gz\")\n",
    "    df_train.to_csv(f\"../data/interim/combined/{name}_attributed{ext}.gz\", index=False, compression='gzip')\n",
    "    del df_train\n",
    "    gc.collect()"
   ]
  },
  {
   "cell_type": "code",
   "execution_count": 1,
   "metadata": {},
   "outputs": [
    {
     "ename": "NameError",
     "evalue": "name 'pd' is not defined",
     "output_type": "error",
     "traceback": [
      "\u001b[0;31m---------------------------------------------------------------------------\u001b[0m",
      "\u001b[0;31mNameError\u001b[0m                                 Traceback (most recent call last)",
      "\u001b[0;32m<ipython-input-1-617f728c4d53>\u001b[0m in \u001b[0;36m<module>\u001b[0;34m()\u001b[0m\n\u001b[0;32m----> 1\u001b[0;31m \u001b[0mdf\u001b[0m \u001b[0;34m=\u001b[0m \u001b[0mpd\u001b[0m\u001b[0;34m.\u001b[0m\u001b[0mread_csv\u001b[0m\u001b[0;34m(\u001b[0m\u001b[0;34m'../data/interim/combined/train_2017-11-07_1700_08_1600_0_attributed.csv.gz'\u001b[0m\u001b[0;34m,\u001b[0m \u001b[0mnrows\u001b[0m\u001b[0;34m=\u001b[0m\u001b[0;36m10\u001b[0m\u001b[0;34m)\u001b[0m\u001b[0;34m\u001b[0m\u001b[0m\n\u001b[0m\u001b[1;32m      2\u001b[0m \u001b[0mdf\u001b[0m\u001b[0;34m.\u001b[0m\u001b[0mhead\u001b[0m\u001b[0;34m(\u001b[0m\u001b[0;34m)\u001b[0m\u001b[0;34m\u001b[0m\u001b[0m\n",
      "\u001b[0;31mNameError\u001b[0m: name 'pd' is not defined"
     ]
    }
   ],
   "source": [
    "df = pd.read_csv('../data/interim/combined/train_2017-11-07_1700_08_1600_0_attributed.csv.gz', nrows=10)\n",
    "df.head()"
   ]
  },
  {
   "cell_type": "code",
   "execution_count": 9,
   "metadata": {},
   "outputs": [
    {
     "data": {
      "text/plain": [
       "['../data/interim/combined/train_2017-11-07_1700.csv',\n",
       " '../data/interim/combined/train_2017-11-07_1800.csv',\n",
       " '../data/interim/combined/train_2017-11-07_1900.csv',\n",
       " '../data/interim/combined/train_2017-11-07_2000.csv',\n",
       " '../data/interim/combined/train_2017-11-07_2100.csv',\n",
       " '../data/interim/combined/train_2017-11-07_2200.csv',\n",
       " '../data/interim/combined/train_2017-11-07_2300.csv',\n",
       " '../data/interim/combined/train_2017-11-08_0000.csv',\n",
       " '../data/interim/combined/train_2017-11-08_0100.csv',\n",
       " '../data/interim/combined/train_2017-11-08_0200.csv',\n",
       " '../data/interim/combined/train_2017-11-08_0300.csv',\n",
       " '../data/interim/combined/train_2017-11-08_0400.csv',\n",
       " '../data/interim/combined/train_2017-11-08_0500.csv',\n",
       " '../data/interim/combined/train_2017-11-08_0600.csv',\n",
       " '../data/interim/combined/train_2017-11-08_0700.csv',\n",
       " '../data/interim/combined/train_2017-11-08_0800.csv',\n",
       " '../data/interim/combined/train_2017-11-08_0900.csv',\n",
       " '../data/interim/combined/train_2017-11-08_1000.csv',\n",
       " '../data/interim/combined/train_2017-11-08_1100.csv',\n",
       " '../data/interim/combined/train_2017-11-08_1200.csv',\n",
       " '../data/interim/combined/train_2017-11-08_1300.csv',\n",
       " '../data/interim/combined/train_2017-11-08_1400.csv',\n",
       " '../data/interim/combined/train_2017-11-08_1500.csv',\n",
       " '../data/interim/combined/train_2017-11-08_1600.csv',\n",
       " '../data/interim/combined/train_2017-11-09_0400.csv',\n",
       " '../data/interim/combined/train_2017-11-09_0500.csv',\n",
       " '../data/interim/combined/train_2017-11-09_0600.csv']"
      ]
     },
     "execution_count": 9,
     "metadata": {},
     "output_type": "execute_result"
    }
   ],
   "source": [
    "sorted(glob(f\"../data/interim/combined/train_2017-11-*00.csv\"))"
   ]
  },
  {
   "cell_type": "code",
   "execution_count": 10,
   "metadata": {},
   "outputs": [],
   "source": [
    "train_feature_files = [\n",
    "    '../data/interim/combined/train_2017-11-07_1700.csv',\n",
    "    '../data/interim/combined/train_2017-11-07_1800.csv',\n",
    "    '../data/interim/combined/train_2017-11-07_1900.csv',\n",
    "    '../data/interim/combined/train_2017-11-07_2000.csv',\n",
    "    '../data/interim/combined/train_2017-11-07_2100.csv',\n",
    "    '../data/interim/combined/train_2017-11-07_2200.csv',\n",
    "    '../data/interim/combined/train_2017-11-07_2300.csv',\n",
    "    '../data/interim/combined/train_2017-11-08_0000.csv',\n",
    "    '../data/interim/combined/train_2017-11-08_0100.csv',\n",
    "    '../data/interim/combined/train_2017-11-08_0200.csv',\n",
    "    '../data/interim/combined/train_2017-11-08_0300.csv',\n",
    "    '../data/interim/combined/train_2017-11-08_0400.csv',\n",
    "    '../data/interim/combined/train_2017-11-08_0500.csv',\n",
    "    '../data/interim/combined/train_2017-11-08_0600.csv',\n",
    "    '../data/interim/combined/train_2017-11-08_0700.csv',\n",
    "    '../data/interim/combined/train_2017-11-08_0800.csv',\n",
    "    '../data/interim/combined/train_2017-11-08_0900.csv',\n",
    "    '../data/interim/combined/train_2017-11-08_1000.csv',\n",
    "    '../data/interim/combined/train_2017-11-08_1100.csv',\n",
    "    '../data/interim/combined/train_2017-11-08_1200.csv',\n",
    "    '../data/interim/combined/train_2017-11-08_1300.csv',\n",
    "    '../data/interim/combined/train_2017-11-08_1400.csv',\n",
    "    '../data/interim/combined/train_2017-11-08_1500.csv',\n",
    "    '../data/interim/combined/train_2017-11-08_1600.csv'\n",
    "]"
   ]
  },
  {
   "cell_type": "code",
   "execution_count": 11,
   "metadata": {},
   "outputs": [],
   "source": [
    "df_train = pd.concat([pd.read_csv(f, dtype=dtypes) for f in train_feature_files], ignore_index=True)"
   ]
  },
  {
   "cell_type": "code",
   "execution_count": 12,
   "metadata": {},
   "outputs": [
    {
     "data": {
      "text/plain": [
       "Index(['app', 'device', 'os', 'channel', 'is_attributed',\n",
       "       'PERCENT_TRUE(clicks.is_attributed)_app_1day',\n",
       "       'TIME_SINCE_LAST(clicks.click_time)_app_1day',\n",
       "       'AVG_TIME_BETWEEN(clicks.click_time)_app_1day',\n",
       "       'MODE(clicks.ip)_app_1day', 'MODE(clicks.device)_app_1day',\n",
       "       'MODE(clicks.os)_app_1day', 'MODE(clicks.channel)_app_1day',\n",
       "       'COUNT(clicks)_app_1day',\n",
       "       'TIME_SINCE_LAST(clicks.click_time WHERE is_attributed = True)_app_1day',\n",
       "       'AVG_TIME_BETWEEN(clicks.click_time WHERE is_attributed = True)_app_1day',\n",
       "       'MODE(clicks.ip WHERE is_attributed = True)_app_1day',\n",
       "       'MODE(clicks.device WHERE is_attributed = True)_app_1day',\n",
       "       'MODE(clicks.os WHERE is_attributed = True)_app_1day',\n",
       "       'MODE(clicks.channel WHERE is_attributed = True)_app_1day',\n",
       "       'MODE(clicks.HOUR(click_time))_app_1day',\n",
       "       'MODE(clicks.HOUR(click_time) WHERE is_attributed = True)_app_1day',\n",
       "       'COUNT(clicks WHERE is_attributed = True)_app_1day',\n",
       "       'PERCENT_TRUE(clicks.is_attributed)_device_1day',\n",
       "       'TIME_SINCE_LAST(clicks.click_time)_device_1day',\n",
       "       'AVG_TIME_BETWEEN(clicks.click_time)_device_1day',\n",
       "       'MODE(clicks.ip)_device_1day', 'MODE(clicks.app)_device_1day',\n",
       "       'MODE(clicks.os)_device_1day', 'MODE(clicks.channel)_device_1day',\n",
       "       'COUNT(clicks)_device_1day',\n",
       "       'TIME_SINCE_LAST(clicks.click_time WHERE is_attributed = True)_device_1day',\n",
       "       'AVG_TIME_BETWEEN(clicks.click_time WHERE is_attributed = True)_device_1day',\n",
       "       'MODE(clicks.ip WHERE is_attributed = True)_device_1day',\n",
       "       'MODE(clicks.app WHERE is_attributed = True)_device_1day',\n",
       "       'MODE(clicks.os WHERE is_attributed = True)_device_1day',\n",
       "       'MODE(clicks.channel WHERE is_attributed = True)_device_1day',\n",
       "       'MODE(clicks.HOUR(click_time))_device_1day',\n",
       "       'MODE(clicks.HOUR(click_time) WHERE is_attributed = True)_device_1day',\n",
       "       'COUNT(clicks WHERE is_attributed = True)_device_1day',\n",
       "       'PERCENT_TRUE(clicks.is_attributed)_os_1day',\n",
       "       'TIME_SINCE_LAST(clicks.click_time)_os_1day',\n",
       "       'AVG_TIME_BETWEEN(clicks.click_time)_os_1day',\n",
       "       'MODE(clicks.ip)_os_1day', 'MODE(clicks.app)_os_1day',\n",
       "       'MODE(clicks.device)_os_1day', 'MODE(clicks.channel)_os_1day',\n",
       "       'COUNT(clicks)_os_1day',\n",
       "       'TIME_SINCE_LAST(clicks.click_time WHERE is_attributed = True)_os_1day',\n",
       "       'AVG_TIME_BETWEEN(clicks.click_time WHERE is_attributed = True)_os_1day',\n",
       "       'MODE(clicks.ip WHERE is_attributed = True)_os_1day',\n",
       "       'MODE(clicks.app WHERE is_attributed = True)_os_1day',\n",
       "       'MODE(clicks.device WHERE is_attributed = True)_os_1day',\n",
       "       'MODE(clicks.channel WHERE is_attributed = True)_os_1day',\n",
       "       'MODE(clicks.HOUR(click_time))_os_1day',\n",
       "       'MODE(clicks.HOUR(click_time) WHERE is_attributed = True)_os_1day',\n",
       "       'COUNT(clicks WHERE is_attributed = True)_os_1day',\n",
       "       'PERCENT_TRUE(clicks.is_attributed)_channel_1day',\n",
       "       'TIME_SINCE_LAST(clicks.click_time)_channel_1day',\n",
       "       'AVG_TIME_BETWEEN(clicks.click_time)_channel_1day',\n",
       "       'MODE(clicks.ip)_channel_1day', 'MODE(clicks.app)_channel_1day',\n",
       "       'MODE(clicks.device)_channel_1day', 'MODE(clicks.os)_channel_1day',\n",
       "       'COUNT(clicks)_channel_1day',\n",
       "       'TIME_SINCE_LAST(clicks.click_time WHERE is_attributed = True)_channel_1day',\n",
       "       'AVG_TIME_BETWEEN(clicks.click_time WHERE is_attributed = True)_channel_1day',\n",
       "       'MODE(clicks.ip WHERE is_attributed = True)_channel_1day',\n",
       "       'MODE(clicks.app WHERE is_attributed = True)_channel_1day',\n",
       "       'MODE(clicks.device WHERE is_attributed = True)_channel_1day',\n",
       "       'MODE(clicks.os WHERE is_attributed = True)_channel_1day',\n",
       "       'MODE(clicks.HOUR(click_time))_channel_1day',\n",
       "       'MODE(clicks.HOUR(click_time) WHERE is_attributed = True)_channel_1day',\n",
       "       'COUNT(clicks WHERE is_attributed = True)_channel_1day'],\n",
       "      dtype='object')"
      ]
     },
     "execution_count": 12,
     "metadata": {},
     "output_type": "execute_result"
    }
   ],
   "source": [
    "df_train.columns"
   ]
  },
  {
   "cell_type": "code",
   "execution_count": 13,
   "metadata": {},
   "outputs": [],
   "source": [
    "df_train.to_csv('../data/processed/train_2017-11-08_1600.csv', index=False)"
   ]
  },
  {
   "cell_type": "code",
   "execution_count": null,
   "metadata": {},
   "outputs": [],
   "source": []
  }
 ],
 "metadata": {
  "kernelspec": {
   "display_name": "Python 3",
   "language": "python",
   "name": "python3"
  },
  "language_info": {
   "codemirror_mode": {
    "name": "ipython",
    "version": 3
   },
   "file_extension": ".py",
   "mimetype": "text/x-python",
   "name": "python",
   "nbconvert_exporter": "python",
   "pygments_lexer": "ipython3",
   "version": "3.6.4"
  }
 },
 "nbformat": 4,
 "nbformat_minor": 2
}

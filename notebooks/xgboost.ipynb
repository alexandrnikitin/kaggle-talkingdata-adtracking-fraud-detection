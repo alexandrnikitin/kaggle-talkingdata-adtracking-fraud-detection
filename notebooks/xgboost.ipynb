{
 "cells": [
  {
   "cell_type": "code",
   "execution_count": 13,
   "metadata": {},
   "outputs": [],
   "source": [
    "import gc\n",
    "import os\n",
    "import operator\n",
    "\n",
    "from glob import glob\n",
    "\n",
    "import numpy as np\n",
    "import pandas as pd\n",
    "import matplotlib.pyplot as plt\n",
    "import xgboost as xgb\n",
    "import xgbfir\n",
    "\n",
    "from pandas.core.categorical import Categorical\n",
    "from scipy.sparse import csr_matrix, hstack"
   ]
  },
  {
   "cell_type": "code",
   "execution_count": 18,
   "metadata": {},
   "outputs": [],
   "source": [
    "dtypes = {\n",
    "    'ip': 'uint32',\n",
    "    'app': 'uint16',\n",
    "    'device': 'uint16',\n",
    "    'os': 'uint16',\n",
    "    'channel': 'uint16',\n",
    "    'is_attributed': 'uint8'\n",
    "}\n",
    "\n",
    "# Features used in training\n",
    "categorical_features = ['app', 'device', 'os', 'channel']\n",
    "numerical_features = [\n",
    "    'PERCENT_TRUE(clicks.is_attributed)_app_1day',\n",
    "    'PERCENT_TRUE(clicks.is_attributed)_app_1hour',\n",
    "    'PERCENT_TRUE(clicks.is_attributed)_app_3hours',\n",
    "    'PERCENT_TRUE(clicks.is_attributed)_device_1day',\n",
    "    'PERCENT_TRUE(clicks.is_attributed)_device_1hour',\n",
    "    'PERCENT_TRUE(clicks.is_attributed)_device_3hours',\n",
    "    'PERCENT_TRUE(clicks.is_attributed)_os_1day',\n",
    "    'PERCENT_TRUE(clicks.is_attributed)_os_1hour',\n",
    "    'PERCENT_TRUE(clicks.is_attributed)_os_3hours',\n",
    "    'PERCENT_TRUE(clicks.is_attributed)_channel_1day',\n",
    "    'PERCENT_TRUE(clicks.is_attributed)_channel_1hour',\n",
    "    'PERCENT_TRUE(clicks.is_attributed)_channel_3hours'\n",
    "]\n",
    "\n",
    "train_files = [\n",
    "    '../data/interim/combined/train_2017-11-08_0000.csv',\n",
    "    '../data/interim/combined/train_2017-11-08_0100.csv',\n",
    "    '../data/interim/combined/train_2017-11-08_0200.csv',\n",
    "    '../data/interim/combined/train_2017-11-08_0300.csv',\n",
    "    '../data/interim/combined/train_2017-11-08_0400.csv'\n",
    "]\n",
    "\n",
    "validation_files = ['../data/interim/combined/train_2017-11-09_0400.csv']"
   ]
  },
  {
   "cell_type": "code",
   "execution_count": 15,
   "metadata": {},
   "outputs": [],
   "source": [
    "def sparse_dummies(df, column):\n",
    "    \"\"\"Returns sparse OHE matrix for the column of the dataframe\"\"\"\n",
    "    categories = Categorical(df[column])\n",
    "    column_names = np.array([f\"{column}_{str(i)}\" for i in range(len(categories.categories))])\n",
    "    N = len(categories)\n",
    "    row_numbers = np.arange(N, dtype=np.int)\n",
    "    ones = np.ones((N,))\n",
    "    return csr_matrix((ones, (row_numbers, categories.codes))), column_names"
   ]
  },
  {
   "cell_type": "code",
   "execution_count": 16,
   "metadata": {},
   "outputs": [],
   "source": [
    "df_train = pd.concat([pd.read_csv(f, dtype=dtypes) for f in train_files], ignore_index=True)\n",
    "train_size = len(df_train)\n",
    "print(f\"train_size: {train_size}\")\n",
    "l_ = [df_train]\n",
    "for f in validation_files:\n",
    "    l_.append(pd.read_csv(f, dtype=dtypes))\n",
    "\n",
    "df_train = pd.concat(l_, ignore_index=True)"
   ]
  },
  {
   "cell_type": "code",
   "execution_count": 17,
   "metadata": {},
   "outputs": [
    {
     "data": {
      "text/plain": [
       "Index(['app', 'device', 'os', 'channel', 'is_attributed',\n",
       "       'PERCENT_TRUE(clicks.is_attributed)_app_1day',\n",
       "       'PERCENT_TRUE(clicks.is_attributed)_app_1hour',\n",
       "       'PERCENT_TRUE(clicks.is_attributed)_app_3hours',\n",
       "       'PERCENT_TRUE(clicks.is_attributed)_device_1day',\n",
       "       'PERCENT_TRUE(clicks.is_attributed)_device_1hour',\n",
       "       'PERCENT_TRUE(clicks.is_attributed)_device_3hours',\n",
       "       'PERCENT_TRUE(clicks.is_attributed)_os_1day',\n",
       "       'PERCENT_TRUE(clicks.is_attributed)_os_1hour',\n",
       "       'PERCENT_TRUE(clicks.is_attributed)_os_3hours',\n",
       "       'PERCENT_TRUE(clicks.is_attributed)_channel_1day',\n",
       "       'PERCENT_TRUE(clicks.is_attributed)_channel_1hour',\n",
       "       'PERCENT_TRUE(clicks.is_attributed)_channel_3hours'],\n",
       "      dtype='object')"
      ]
     },
     "execution_count": 17,
     "metadata": {},
     "output_type": "execute_result"
    }
   ],
   "source": [
    "df_train.columns"
   ]
  },
  {
   "cell_type": "code",
   "execution_count": 20,
   "metadata": {},
   "outputs": [
    {
     "data": {
      "text/plain": [
       "4239"
      ]
     },
     "execution_count": 20,
     "metadata": {},
     "output_type": "execute_result"
    }
   ],
   "source": [
    "matrices = []\n",
    "all_column_names = []\n",
    "# creates a matrix per categorical feature\n",
    "for c in categorical_features:\n",
    "    matrix, column_names = sparse_dummies(df_train, c)\n",
    "    matrices.append(matrix)\n",
    "    all_column_names.append(column_names)\n",
    "\n",
    "# appends a matrix for numerical features (one column per feature)\n",
    "matrices.append(csr_matrix(df_train[numerical_features].values, dtype=float))\n",
    "all_column_names.append(df_train[numerical_features].columns.values)\n",
    "\n",
    "train_sparse = hstack(matrices, format=\"csr\")\n",
    "feature_names = np.concatenate(all_column_names)\n",
    "del matrices, all_column_names\n",
    "\n",
    "X = train_sparse\n",
    "y = df_train['is_attributed']\n",
    "\n",
    "# del df_train\n",
    "gc.collect()"
   ]
  },
  {
   "cell_type": "code",
   "execution_count": 21,
   "metadata": {},
   "outputs": [
    {
     "data": {
      "text/plain": [
       "41"
      ]
     },
     "execution_count": 21,
     "metadata": {},
     "output_type": "execute_result"
    }
   ],
   "source": [
    "# Create binary training and validation files for XGBoost\n",
    "x1, y1 = X[:train_size], y.iloc[:train_size]\n",
    "dm1 = xgb.DMatrix(x1, y1, feature_names=feature_names)\n",
    "dm1.save_binary('../data/cache/train.bin')\n",
    "del dm1, x1, y1\n",
    "gc.collect()\n",
    "\n",
    "x2, y2 = X[train_size:], y.iloc[train_size:]\n",
    "dm2 = xgb.DMatrix(x2, y2, feature_names=feature_names)\n",
    "dm2.save_binary('../data/cache/validate.bin')\n",
    "del dm2, x2, y2, X, y\n",
    "gc.collect()"
   ]
  },
  {
   "cell_type": "code",
   "execution_count": 29,
   "metadata": {},
   "outputs": [],
   "source": [
    "# XGBoost parameters example\n",
    "params = {\n",
    "    'eta': 0.3,\n",
    "    'tree_method': \"hist\",\n",
    "    'grow_policy': \"lossguide\",\n",
    "    'max_leaves': 10000,  \n",
    "    'max_depth': 0, \n",
    "    'subsample': 0.5, \n",
    "    'alpha':4,\n",
    "    'objective': 'binary:logistic', \n",
    "    'scale_pos_weight':50,\n",
    "    'eval_metric': 'auc', \n",
    "    'nthread':24,\n",
    "    'silent': 1\n",
    "}"
   ]
  },
  {
   "cell_type": "code",
   "execution_count": 30,
   "metadata": {},
   "outputs": [
    {
     "name": "stdout",
     "output_type": "stream",
     "text": [
      "[0]\ttrain-auc:0.961547\tvalid-auc:0.921128\n",
      "Multiple eval metrics have been passed: 'valid-auc' will be used for early stopping.\n",
      "\n",
      "Will train until valid-auc hasn't improved in 10 rounds.\n",
      "[1]\ttrain-auc:0.967024\tvalid-auc:0.954346\n",
      "[2]\ttrain-auc:0.970853\tvalid-auc:0.95834\n",
      "[3]\ttrain-auc:0.972587\tvalid-auc:0.960584\n",
      "[4]\ttrain-auc:0.974253\tvalid-auc:0.961088\n",
      "[5]\ttrain-auc:0.9761\tvalid-auc:0.96356\n",
      "[6]\ttrain-auc:0.977211\tvalid-auc:0.963922\n",
      "[7]\ttrain-auc:0.977835\tvalid-auc:0.963662\n",
      "[8]\ttrain-auc:0.9783\tvalid-auc:0.96514\n",
      "[9]\ttrain-auc:0.978531\tvalid-auc:0.966684\n",
      "[10]\ttrain-auc:0.978749\tvalid-auc:0.966784\n",
      "[11]\ttrain-auc:0.978924\tvalid-auc:0.96643\n",
      "[12]\ttrain-auc:0.978972\tvalid-auc:0.966232\n",
      "[13]\ttrain-auc:0.979077\tvalid-auc:0.96634\n",
      "[14]\ttrain-auc:0.979155\tvalid-auc:0.965779\n",
      "[15]\ttrain-auc:0.979264\tvalid-auc:0.965372\n",
      "[16]\ttrain-auc:0.979307\tvalid-auc:0.96489\n",
      "[17]\ttrain-auc:0.979343\tvalid-auc:0.963953\n",
      "[18]\ttrain-auc:0.979337\tvalid-auc:0.963469\n",
      "[19]\ttrain-auc:0.979318\tvalid-auc:0.963227\n",
      "[20]\ttrain-auc:0.979358\tvalid-auc:0.962502\n",
      "Stopping. Best iteration:\n",
      "[10]\ttrain-auc:0.978749\tvalid-auc:0.966784\n",
      "\n"
     ]
    }
   ],
   "source": [
    "# Pointers to binary files for training and validation\n",
    "# They won't be loaded into Python environment but passed directly to XGBoost\n",
    "dmtrain = xgb.DMatrix('../data/cache/train.bin', feature_names=feature_names)\n",
    "dmvalid = xgb.DMatrix('../data/cache/validate.bin', feature_names=feature_names)\n",
    "\n",
    "# Training process\n",
    "watchlist = [(dmtrain, 'train'), (dmvalid, 'valid')]\n",
    "model = xgb.train(params, dmtrain, 50, watchlist, maximize=True, early_stopping_rounds=10, verbose_eval=1)"
   ]
  },
  {
   "cell_type": "code",
   "execution_count": 31,
   "metadata": {},
   "outputs": [
    {
     "name": "stdout",
     "output_type": "stream",
     "text": [
      "                                               feature    fscore\n",
      "619         PERCENT_TRUE(clicks.is_attributed)_os_1day  0.071439\n",
      "618        PERCENT_TRUE(clicks.is_attributed)_app_1day  0.069937\n",
      "617   PERCENT_TRUE(clicks.is_attributed)_channel_1hour  0.054579\n",
      "616        PERCENT_TRUE(clicks.is_attributed)_os_1hour  0.053061\n",
      "615       PERCENT_TRUE(clicks.is_attributed)_app_1hour  0.048720\n",
      "614    PERCENT_TRUE(clicks.is_attributed)_channel_1day  0.045341\n",
      "613       PERCENT_TRUE(clicks.is_attributed)_os_3hours  0.044394\n",
      "612  PERCENT_TRUE(clicks.is_attributed)_channel_3hours  0.037295\n",
      "611                                              os_19  0.028350\n",
      "610                                              os_13  0.028285\n"
     ]
    }
   ],
   "source": [
    "# Feature importance as a DataFrame\n",
    "importance = sorted(model.get_fscore().items(), key=operator.itemgetter(1))\n",
    "df = pd.DataFrame(importance, columns=['feature', 'fscore'])\n",
    "df['fscore'] = df['fscore'] / df['fscore'].sum()\n",
    "print(df.sort_values('fscore', ascending=False).head(10))"
   ]
  },
  {
   "cell_type": "code",
   "execution_count": 28,
   "metadata": {},
   "outputs": [
    {
     "data": {
      "image/png": "[encoded data removed]",
      "text/plain": [
       "<Figure size 720x720 with 1 Axes>"
      ]
     },
     "metadata": {},
     "output_type": "display_data"
    }
   ],
   "source": [
    "# Feature importance as a plot\n",
    "fig, ax = plt.subplots(figsize=(10, 10))\n",
    "xgb.plot_importance(model, ax=ax, max_num_features=20)\n",
    "plt.savefig('importance.png', format=\"png\")"
   ]
  },
  {
   "cell_type": "code",
   "execution_count": null,
   "metadata": {},
   "outputs": [],
   "source": [
    "xgbfir.saveXgbFI(model)"
   ]
  },
  {
   "cell_type": "code",
   "execution_count": null,
   "metadata": {},
   "outputs": [],
   "source": []
  }
 ],
 "metadata": {
  "kernelspec": {
   "display_name": "Python 3",
   "language": "python",
   "name": "python3"
  },
  "language_info": {
   "codemirror_mode": {
    "name": "ipython",
    "version": 3
   },
   "file_extension": ".py",
   "mimetype": "text/x-python",
   "name": "python",
   "nbconvert_exporter": "python",
   "pygments_lexer": "ipython3",
   "version": "3.6.4"
  }
 },
 "nbformat": 4,
 "nbformat_minor": 2
}

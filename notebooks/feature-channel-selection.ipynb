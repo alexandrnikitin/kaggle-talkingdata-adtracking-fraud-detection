{
 "cells": [
  {
   "cell_type": "code",
   "execution_count": 6,
   "metadata": {},
   "outputs": [],
   "source": [
    "import os\n",
    "\n",
    "import numpy as np\n",
    "import pandas as pd\n",
    "import xgboost as xgb\n",
    "\n",
    "from glob import glob"
   ]
  },
  {
   "cell_type": "code",
   "execution_count": 2,
   "metadata": {},
   "outputs": [],
   "source": [
    "dtypes = {\n",
    "    'ip': 'uint32',\n",
    "    'app': 'uint16',\n",
    "    'device': 'uint16',\n",
    "    'os': 'uint16',\n",
    "    'channel': 'uint16',\n",
    "    'is_attributed': 'uint8'\n",
    "}\n",
    "to_parse = ['click_time']"
   ]
  },
  {
   "cell_type": "code",
   "execution_count": 24,
   "metadata": {},
   "outputs": [
    {
     "data": {
      "text/plain": [
       "['../data/interim/train_2017-11-06_1400_channel_features.csv',\n",
       " '../data/interim/train_2017-11-06_1500_channel_features.csv',\n",
       " '../data/interim/train_2017-11-06_1600_channel_features.csv',\n",
       " '../data/interim/train_2017-11-06_1700_channel_features.csv',\n",
       " '../data/interim/train_2017-11-06_1800_channel_features.csv',\n",
       " '../data/interim/train_2017-11-06_1900_channel_features.csv',\n",
       " '../data/interim/train_2017-11-06_2000_channel_features.csv',\n",
       " '../data/interim/train_2017-11-06_2100_channel_features.csv',\n",
       " '../data/interim/train_2017-11-06_2200_channel_features.csv',\n",
       " '../data/interim/train_2017-11-06_2300_channel_features.csv',\n",
       " '../data/interim/train_2017-11-07_0000_channel_features.csv',\n",
       " '../data/interim/train_2017-11-07_0100_channel_features.csv',\n",
       " '../data/interim/train_2017-11-07_0200_channel_features.csv',\n",
       " '../data/interim/train_2017-11-07_0300_channel_features.csv',\n",
       " '../data/interim/train_2017-11-07_0400_channel_features.csv',\n",
       " '../data/interim/train_2017-11-07_0500_channel_features.csv',\n",
       " '../data/interim/train_2017-11-07_0600_channel_features.csv',\n",
       " '../data/interim/train_2017-11-07_0700_channel_features.csv',\n",
       " '../data/interim/train_2017-11-07_0800_channel_features.csv',\n",
       " '../data/interim/train_2017-11-07_0900_channel_features.csv',\n",
       " '../data/interim/train_2017-11-07_1000_channel_features.csv',\n",
       " '../data/interim/train_2017-11-07_1100_channel_features.csv',\n",
       " '../data/interim/train_2017-11-07_1200_channel_features.csv',\n",
       " '../data/interim/train_2017-11-07_1300_channel_features.csv',\n",
       " '../data/interim/train_2017-11-07_1400_channel_features.csv',\n",
       " '../data/interim/train_2017-11-07_1500_channel_features.csv',\n",
       " '../data/interim/train_2017-11-07_1600_channel_features.csv',\n",
       " '../data/interim/train_2017-11-07_1700_channel_features.csv',\n",
       " '../data/interim/train_2017-11-07_1800_channel_features.csv',\n",
       " '../data/interim/train_2017-11-07_1900_channel_features.csv',\n",
       " '../data/interim/train_2017-11-07_2000_channel_features.csv',\n",
       " '../data/interim/train_2017-11-07_2100_channel_features.csv',\n",
       " '../data/interim/train_2017-11-07_2200_channel_features.csv',\n",
       " '../data/interim/train_2017-11-07_2300_channel_features.csv',\n",
       " '../data/interim/train_2017-11-08_0000_channel_features.csv',\n",
       " '../data/interim/train_2017-11-08_0000_features.csv',\n",
       " '../data/interim/train_2017-11-08_0100_channel_features.csv',\n",
       " '../data/interim/train_2017-11-08_0100_features.csv',\n",
       " '../data/interim/train_2017-11-08_0200_channel_features.csv',\n",
       " '../data/interim/train_2017-11-08_0200_features.csv',\n",
       " '../data/interim/train_2017-11-08_0300_channel_features.csv',\n",
       " '../data/interim/train_2017-11-08_0300_features.csv',\n",
       " '../data/interim/train_2017-11-08_0400_channel_features.csv',\n",
       " '../data/interim/train_2017-11-08_0400_features.csv',\n",
       " '../data/interim/train_2017-11-08_0500_channel_features.csv',\n",
       " '../data/interim/train_2017-11-08_0600_channel_features.csv',\n",
       " '../data/interim/train_2017-11-08_0700_channel_features.csv',\n",
       " '../data/interim/train_2017-11-08_0800_channel_features.csv',\n",
       " '../data/interim/train_2017-11-08_0900_channel_features.csv',\n",
       " '../data/interim/train_2017-11-08_1000_channel_features.csv',\n",
       " '../data/interim/train_2017-11-08_1100_channel_features.csv',\n",
       " '../data/interim/train_2017-11-08_1200_channel_features.csv',\n",
       " '../data/interim/train_2017-11-08_1300_channel_features.csv',\n",
       " '../data/interim/train_2017-11-08_1400_channel_features.csv',\n",
       " '../data/interim/train_2017-11-08_1500_channel_features.csv',\n",
       " '../data/interim/train_2017-11-08_1600_channel_features.csv',\n",
       " '../data/interim/train_2017-11-08_1700_channel_features.csv',\n",
       " '../data/interim/train_2017-11-08_1800_channel_features.csv',\n",
       " '../data/interim/train_2017-11-08_1900_channel_features.csv',\n",
       " '../data/interim/train_2017-11-08_2000_channel_features.csv',\n",
       " '../data/interim/train_2017-11-08_2100_channel_features.csv']"
      ]
     },
     "execution_count": 24,
     "metadata": {},
     "output_type": "execute_result"
    }
   ],
   "source": [
    "sorted(glob('../data/interim/train_2017-*_features.csv'))"
   ]
  },
  {
   "cell_type": "code",
   "execution_count": 26,
   "metadata": {},
   "outputs": [],
   "source": [
    "df_train = pd.read_csv('../data/interim/train_2017-11-08_0300_features.csv', dtype=dtypes)"
   ]
  },
  {
   "cell_type": "code",
   "execution_count": 27,
   "metadata": {},
   "outputs": [
    {
     "data": {
      "text/plain": [
       "Index(['app', 'device', 'os', 'channel', 'is_attributed', 'COUNT(clicks)',\n",
       "       'PERCENT_TRUE(clicks.is_attributed)', 'NUM_UNIQUE(clicks.app)',\n",
       "       'NUM_UNIQUE(clicks.device)', 'NUM_UNIQUE(clicks.os)',\n",
       "       'MODE(clicks.app)', 'MODE(clicks.device)', 'MODE(clicks.os)'],\n",
       "      dtype='object')"
      ]
     },
     "execution_count": 27,
     "metadata": {},
     "output_type": "execute_result"
    }
   ],
   "source": [
    "df_train.columns"
   ]
  },
  {
   "cell_type": "code",
   "execution_count": 28,
   "metadata": {},
   "outputs": [],
   "source": [
    "X = df_train.copy()\n",
    "y = X.pop('is_attributed')"
   ]
  },
  {
   "cell_type": "code",
   "execution_count": 29,
   "metadata": {},
   "outputs": [
    {
     "data": {
      "text/plain": [
       "XGBClassifier(base_score=0.5, booster='gbtree', colsample_bylevel=1,\n",
       "       colsample_bytree=1, gamma=0, learning_rate=0.1, max_delta_step=0,\n",
       "       max_depth=3, min_child_weight=1, missing=None, n_estimators=100,\n",
       "       n_jobs=20, nthread=None, objective='binary:logistic',\n",
       "       random_state=0, reg_alpha=1, reg_lambda=1, scale_pos_weight=10,\n",
       "       seed=None, silent=True, subsample=1)"
      ]
     },
     "execution_count": 29,
     "metadata": {},
     "output_type": "execute_result"
    }
   ],
   "source": [
    "clf_xgBoost = xgb.XGBClassifier(\n",
    "    scale_pos_weight=10,\n",
    "    reg_alpha=1,\n",
    "    n_jobs=20, \n",
    "    objective = 'binary:logistic'\n",
    ")\n",
    "\n",
    "clf_xgBoost.fit(X, y)"
   ]
  },
  {
   "cell_type": "code",
   "execution_count": 30,
   "metadata": {},
   "outputs": [],
   "source": [
    "from sklearn import preprocessing\n",
    "\n",
    "importance_dict = {}\n",
    "for import_type in ['gain', 'cover']:\n",
    "    importance_dict['xgBoost-'+import_type] = clf_xgBoost.get_booster().get_score(importance_type=import_type)\n",
    "    \n",
    "importance_df = pd.DataFrame(importance_dict).fillna(0)\n",
    "importance_df = pd.DataFrame(\n",
    "    preprocessing.MinMaxScaler().fit_transform(importance_df),\n",
    "    columns=importance_df.columns,\n",
    "    index=importance_df.index\n",
    ")\n",
    "\n",
    "importance_df['mean'] = importance_df.mean(axis=1)"
   ]
  },
  {
   "cell_type": "code",
   "execution_count": 31,
   "metadata": {},
   "outputs": [
    {
     "data": {
      "text/plain": [
       "<matplotlib.axes._subplots.AxesSubplot at 0x7f883c2678d0>"
      ]
     },
     "execution_count": 31,
     "metadata": {},
     "output_type": "execute_result"
    },
    {
     "data": {
      "image/png": "[encoded data removed]",
      "text/plain": [
       "<Figure size 1440x504 with 1 Axes>"
      ]
     },
     "metadata": {},
     "output_type": "display_data"
    }
   ],
   "source": [
    "importance_df.sort_values('mean').plot(kind='bar', figsize=(20, 7))"
   ]
  },
  {
   "cell_type": "code",
   "execution_count": null,
   "metadata": {},
   "outputs": [],
   "source": []
  }
 ],
 "metadata": {
  "kernelspec": {
   "display_name": "Python 3",
   "language": "python",
   "name": "python3"
  },
  "language_info": {
   "codemirror_mode": {
    "name": "ipython",
    "version": 3
   },
   "file_extension": ".py",
   "mimetype": "text/x-python",
   "name": "python",
   "nbconvert_exporter": "python",
   "pygments_lexer": "ipython3",
   "version": "3.6.4"
  }
 },
 "nbformat": 4,
 "nbformat_minor": 2
}

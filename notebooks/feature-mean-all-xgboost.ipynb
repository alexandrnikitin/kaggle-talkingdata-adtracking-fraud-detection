{
 "cells": [
  {
   "cell_type": "code",
   "execution_count": 4,
   "metadata": {},
   "outputs": [],
   "source": [
    "import os\n",
    "\n",
    "import numpy as np\n",
    "import pandas as pd\n",
    "import featuretools as ft\n",
    "\n",
    "from glob import glob\n",
    "\n",
    "from dask import bag\n",
    "from dask.diagnostics import ProgressBar\n",
    "from featuretools.primitives import *"
   ]
  },
  {
   "cell_type": "code",
   "execution_count": 5,
   "metadata": {},
   "outputs": [],
   "source": [
    "dtypes = {\n",
    "    'ip': 'uint32',\n",
    "    'app': 'uint16',\n",
    "    'device': 'uint16',\n",
    "    'os': 'uint16',\n",
    "    'channel': 'uint16',\n",
    "    'is_attributed': 'uint8'\n",
    "}\n",
    "to_read = ['app', 'device', 'os', 'channel', 'is_attributed', 'click_time']\n",
    "to_parse = ['click_time']"
   ]
  },
  {
   "cell_type": "code",
   "execution_count": 6,
   "metadata": {},
   "outputs": [],
   "source": [
    "pbar = ProgressBar()\n",
    "pbar.register()"
   ]
  },
  {
   "cell_type": "code",
   "execution_count": 7,
   "metadata": {},
   "outputs": [],
   "source": [
    "input_path = '../data/interim/partitioned/channel'\n",
    "filenames = glob(f\"{input_path}/train_*.csv\")"
   ]
  },
  {
   "cell_type": "code",
   "execution_count": 9,
   "metadata": {},
   "outputs": [],
   "source": [
    "def createEntitySet(filename):\n",
    "    df = pd.read_csv(filename, usecols=to_read, dtype=dtypes, parse_dates=to_parse)\n",
    "    df['id'] = range(len(df))\n",
    "    \n",
    "    es = ft.EntitySet(id='clicks')\n",
    "    es = es.entity_from_dataframe(\n",
    "        entity_id='clicks',\n",
    "        dataframe=df,\n",
    "        index='id',\n",
    "        time_index='click_time',\n",
    "        \n",
    "        variable_types={\n",
    "            'app': ft.variable_types.Categorical,\n",
    "            'device': ft.variable_types.Categorical,\n",
    "            'os': ft.variable_types.Categorical,\n",
    "            'channel': ft.variable_types.Categorical,\n",
    "            'is_attributed': ft.variable_types.Boolean,\n",
    "        }\n",
    "    )\n",
    "\n",
    "    es = es.normalize_entity(base_entity_id='clicks', new_entity_id='channels', index='channel', make_time_index=False)\n",
    "    es.add_last_time_indexes()\n",
    "    return es\n",
    "\n",
    "\n",
    "def calc_feature_matrix(es, entity_id, cutoff_time):\n",
    "    feature_matrix, _ = ft.dfs(\n",
    "        entityset=es,\n",
    "        target_entity=entity_id,\n",
    "        cutoff_time=cutoff_time,\n",
    "        training_window=ft.Timedelta(\"1 hours\"),\n",
    "        max_depth=1\n",
    "    )\n",
    "\n",
    "    return feature_matrix\n",
    "\n",
    "def createFeatures(filename, entity_sets):\n",
    "    df_train = pd.read_csv(filename, usecols=to_read, dtype=dtypes, parse_dates=to_parse)    \n",
    "    cutoff_time = df_train['click_time'].min()\n",
    "    feature_matrices = entity_sets.map(calc_feature_matrix, entity_id='channels', cutoff_time=cutoff_time)\n",
    "    out = feature_matrices.compute()\n",
    "    feature_matrix = pd.concat(out)\n",
    "    df_train_features = df_train.join(feature_matrix, on='channel')\n",
    "    name, ext = os.path.splitext(filename)\n",
    "    output_file = f\"{name}_channel_features{ext}\"\n",
    "    df_train_features.to_csv(output_file, index=False)"
   ]
  },
  {
   "cell_type": "code",
   "execution_count": 10,
   "metadata": {},
   "outputs": [],
   "source": [
    "b = bag.from_sequence(filenames)\n",
    "entity_sets = b.map(createEntitySet)"
   ]
  },
  {
   "cell_type": "code",
   "execution_count": 13,
   "metadata": {},
   "outputs": [],
   "source": [
    "filenames_train = glob('../data/interim/train_2017-*00.csv')\n",
    "b_train = bag.from_sequence(filenames_train)\n",
    "features_train = b_train.map(createFeatures, entity_sets)\n",
    "features_train.compute()"
   ]
  },
  {
   "cell_type": "code",
   "execution_count": 55,
   "metadata": {},
   "outputs": [
    {
     "data": {
      "text/plain": [
       "['../data/interim/train_2017-11-08_0200.csv',\n",
       " '../data/interim/train_2017-11-07_0900.csv',\n",
       " '../data/interim/train_2017-11-07_2200.csv',\n",
       " '../data/interim/train_2017-11-07_1200.csv',\n",
       " '../data/interim/train_2017-11-08_2100.csv',\n",
       " '../data/interim/train_2017-11-08_1000.csv',\n",
       " '../data/interim/train_2017-11-06_2100.csv',\n",
       " '../data/interim/train_2017-11-06_1700.csv',\n",
       " '../data/interim/train_2017-11-09_0300.csv',\n",
       " '../data/interim/train_2017-11-07_1100.csv',\n",
       " '../data/interim/train_2017-11-07_2000.csv',\n",
       " '../data/interim/train_2017-11-08_0700.csv',\n",
       " '../data/interim/train_2017-11-08_0400.csv',\n",
       " '../data/interim/train_2017-11-09_0600.csv',\n",
       " '../data/interim/train_2017-11-08_0100.csv',\n",
       " '../data/interim/train_2017-11-07_1600.csv',\n",
       " '../data/interim/train_2017-11-09_0900.csv',\n",
       " '../data/interim/train_2017-11-07_1700.csv',\n",
       " '../data/interim/train_2017-11-09_0500.csv',\n",
       " '../data/interim/train_2017-11-08_2000.csv',\n",
       " '../data/interim/train_2017-11-07_0700.csv',\n",
       " '../data/interim/train_2017-11-08_1500.csv',\n",
       " '../data/interim/train_2017-11-09_1300.csv',\n",
       " '../data/interim/train_2017-11-08_0300.csv',\n",
       " '../data/interim/train_2017-11-08_1800.csv',\n",
       " '../data/interim/train_2017-11-07_0500.csv',\n",
       " '../data/interim/train_2017-11-07_1900.csv',\n",
       " '../data/interim/train_2017-11-07_1400.csv',\n",
       " '../data/interim/train_2017-11-07_2100.csv',\n",
       " '../data/interim/train_2017-11-09_1000.csv',\n",
       " '../data/interim/train_2017-11-08_1200.csv',\n",
       " '../data/interim/train_2017-11-06_2200.csv',\n",
       " '../data/interim/train_2017-11-09_1400.csv',\n",
       " '../data/interim/train_2017-11-07_0400.csv',\n",
       " '../data/interim/train_2017-11-07_0600.csv',\n",
       " '../data/interim/train_2017-11-08_1600.csv',\n",
       " '../data/interim/train_2017-11-09_1100.csv',\n",
       " '../data/interim/train_2017-11-06_1900.csv',\n",
       " '../data/interim/train_2017-11-09_0800.csv',\n",
       " '../data/interim/train_2017-11-08_1700.csv',\n",
       " '../data/interim/train_2017-11-06_2300.csv',\n",
       " '../data/interim/train_2017-11-09_0400.csv',\n",
       " '../data/interim/train_2017-11-09_0100.csv',\n",
       " '../data/interim/train_2017-11-09_0200.csv',\n",
       " '../data/interim/train_2017-11-06_1600.csv',\n",
       " '../data/interim/train_2017-11-08_2300.csv',\n",
       " '../data/interim/train_2017-11-07_0800.csv',\n",
       " '../data/interim/train_2017-11-09_1200.csv',\n",
       " '../data/interim/train_2017-11-07_1300.csv',\n",
       " '../data/interim/train_2017-11-08_0600.csv',\n",
       " '../data/interim/train_2017-11-07_1500.csv',\n",
       " '../data/interim/train_2017-11-06_1400.csv',\n",
       " '../data/interim/train_2017-11-08_2200.csv',\n",
       " '../data/interim/train_2017-11-09_0700.csv',\n",
       " '../data/interim/train_2017-11-06_1500.csv',\n",
       " '../data/interim/train_2017-11-08_1400.csv',\n",
       " '../data/interim/train_2017-11-07_0300.csv',\n",
       " '../data/interim/train_2017-11-07_0100.csv',\n",
       " '../data/interim/train_2017-11-09_0000.csv',\n",
       " '../data/interim/train_2017-11-08_0800.csv',\n",
       " '../data/interim/train_2017-11-08_0500.csv',\n",
       " '../data/interim/train_2017-11-08_0900.csv',\n",
       " '../data/interim/train_2017-11-07_2300.csv',\n",
       " '../data/interim/train_2017-11-08_0000.csv',\n",
       " '../data/interim/train_2017-11-08_1100.csv',\n",
       " '../data/interim/train_2017-11-06_1800.csv',\n",
       " '../data/interim/train_2017-11-09_1600.csv',\n",
       " '../data/interim/train_2017-11-07_0200.csv',\n",
       " '../data/interim/train_2017-11-07_0000.csv',\n",
       " '../data/interim/train_2017-11-08_1900.csv',\n",
       " '../data/interim/train_2017-11-07_1000.csv',\n",
       " '../data/interim/train_2017-11-07_1800.csv',\n",
       " '../data/interim/train_2017-11-09_1500.csv',\n",
       " '../data/interim/train_2017-11-08_1300.csv',\n",
       " '../data/interim/train_2017-11-06_2000.csv']"
      ]
     },
     "execution_count": 55,
     "metadata": {},
     "output_type": "execute_result"
    }
   ],
   "source": [
    "glob('../data/interim/train_2017-*_features.csv')"
   ]
  },
  {
   "cell_type": "code",
   "execution_count": 14,
   "metadata": {},
   "outputs": [],
   "source": [
    "import xgboost as xgb"
   ]
  },
  {
   "cell_type": "code",
   "execution_count": 15,
   "metadata": {},
   "outputs": [
    {
     "data": {
      "text/plain": [
       "XGBClassifier(base_score=0.5, booster='gbtree', colsample_bylevel=0.7,\n",
       "       colsample_bytree=0.7, gamma=0, learning_rate=0.1, max_delta_step=0,\n",
       "       max_depth=4, min_child_weight=0, missing=None, n_estimators=100,\n",
       "       n_jobs=4, nthread=None, objective='binary:logistic', random_state=0,\n",
       "       reg_alpha=4, reg_lambda=1, scale_pos_weight=9, seed=None,\n",
       "       silent=True, subsample=0.8)"
      ]
     },
     "execution_count": 15,
     "metadata": {},
     "output_type": "execute_result"
    }
   ],
   "source": [
    "clf_xgBoost = xgb.XGBClassifier(\n",
    "    max_depth = 4,\n",
    "    subsample = 0.8,\n",
    "    colsample_bytree = 0.7,\n",
    "    colsample_bylevel = 0.7,\n",
    "    scale_pos_weight = 9,\n",
    "    min_child_weight = 0,\n",
    "    reg_alpha = 4,\n",
    "    n_jobs = 4, \n",
    "    objective = 'binary:logistic'\n",
    ")\n",
    "# Fit the models\n",
    "clf_xgBoost.fit(X, y)"
   ]
  },
  {
   "cell_type": "code",
   "execution_count": 16,
   "metadata": {},
   "outputs": [
    {
     "data": {
      "text/plain": [
       "<matplotlib.axes._subplots.AxesSubplot at 0x7fa314887400>"
      ]
     },
     "execution_count": 16,
     "metadata": {},
     "output_type": "execute_result"
    }
   ],
   "source": [
    "from sklearn import preprocessing\n",
    "\n",
    "importance_dict = {}\n",
    "for import_type in ['weight', 'gain', 'cover']:\n",
    "    importance_dict['xgBoost-'+import_type] = clf_xgBoost.get_booster().get_score(importance_type=import_type)\n",
    "    \n",
    "importance_df = pd.DataFrame(importance_dict).fillna(0)\n",
    "importance_df = pd.DataFrame(\n",
    "    preprocessing.MinMaxScaler().fit_transform(importance_df),\n",
    "    columns=importance_df.columns,\n",
    "    index=importance_df.index\n",
    ")\n",
    "\n",
    "importance_df['mean'] = importance_df.mean(axis=1)"
   ]
  },
  {
   "cell_type": "code",
   "execution_count": 17,
   "metadata": {},
   "outputs": [
    {
     "data": {
      "text/plain": [
       "<matplotlib.axes._subplots.AxesSubplot at 0x7fa3208d5eb8>"
      ]
     },
     "execution_count": 17,
     "metadata": {},
     "output_type": "execute_result"
    },
    {
     "data": {
      "image/png": "[encoded data removed]",
      "text/plain": [
       "<Figure size 1440x504 with 1 Axes>"
      ]
     },
     "metadata": {},
     "output_type": "display_data"
    }
   ],
   "source": [
    "importance_df.sort_values('mean').plot(kind='bar', figsize=(20, 7))"
   ]
  }
 ],
 "metadata": {
  "kernelspec": {
   "display_name": "Python 3",
   "language": "python",
   "name": "python3"
  },
  "language_info": {
   "codemirror_mode": {
    "name": "ipython",
    "version": 3
   },
   "file_extension": ".py",
   "mimetype": "text/x-python",
   "name": "python",
   "nbconvert_exporter": "python",
   "pygments_lexer": "ipython3",
   "version": "3.6.4"
  }
 },
 "nbformat": 4,
 "nbformat_minor": 2
}

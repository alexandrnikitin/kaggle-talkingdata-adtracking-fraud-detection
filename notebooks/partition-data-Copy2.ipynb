{
 "cells": [
  {
   "cell_type": "code",
   "execution_count": 1,
   "metadata": {},
   "outputs": [],
   "source": [
    "import os\n",
    "import gc\n",
    "from glob import glob\n",
    "from itertools import combinations\n",
    "import pandas as pd\n",
    "import dask\n",
    "import dask.dataframe as dd"
   ]
  },
  {
   "cell_type": "code",
   "execution_count": 2,
   "metadata": {},
   "outputs": [],
   "source": [
    "input_file = \"../data/raw/train.hdf.table.compress\"\n",
    "output_dir = \"../data/interim/partitioned2\"\n",
    "\n",
    "dtypes = {\n",
    "    'ip': 'uint32',\n",
    "    'app': 'uint16',\n",
    "    'device': 'uint16',\n",
    "    'os': 'uint16',\n",
    "    'channel': 'uint16',\n",
    "    'is_attributed': 'uint8'\n",
    "}\n",
    "\n",
    "def add_group_column2(df, column, t, npartitions):\n",
    "    df[column] = df[t[0]].astype(str) + \"_\" + df[t[1]].astype(str)\n",
    "    df['npartition'] = df[column].apply(hash) % npartitions\n",
    "    return df\n",
    "\n",
    "def add_group_column3(df, column, t, npartitions):\n",
    "    df[column] = df[t[0]].astype(str) + \"_\" + df[t[1]].astype(str) + \"_\" + df[t[2]].astype(str)\n",
    "    df['npartition'] = df[column].apply(hash) % npartitions\n",
    "    return df\n",
    "\n",
    "def partition_by(df, column, npartitions):\n",
    "    print(f\"Processing {column}\")\n",
    "    directory = f\"{output_dir}/{column}\"\n",
    "    to_write=list(df)\n",
    "    if not os.path.exists(directory):\n",
    "        os.makedirs(directory)\n",
    "    df['npartition'] = df[column] % npartitions\n",
    "    df.groupby('npartition').apply(lambda x: x[to_write].to_hdf(f\"{directory}/train_{x.name}.hdf.compress\", 'train', mode='w', complib='blosc', fletcher32=True))\n",
    "    del df['npartition']\n",
    "    gc.collect()\n",
    "\n",
    "def partition_by2(filename, t, npartitions):\n",
    "    column = f\"{t[0]}_{t[1]}\"\n",
    "    print(f\"Processing {column}\")\n",
    "    directory = f\"{output_dir}/{column}\"\n",
    "    if not os.path.exists(directory): os.makedirs(directory)\n",
    "\n",
    "    df = dd.read_hdf(filename, 'train')\n",
    "    to_write=list(df.columns)\n",
    "    to_write.append(column)\n",
    "    \n",
    "    df = df.map_partitions(add_group_column2, column, t, npartitions)\n",
    "    df = df.groupby('npartition')\n",
    "    df = df.apply(lambda x: x[to_write].to_hdf(f\"{directory}/train_{x.name}.hdf.compress\", 'train', mode='w', complib='blosc', fletcher32=True))\n",
    "    df = df.compute()\n",
    "    del df\n",
    "    gc.collect()\n",
    "\n",
    "def partition_by3(df, t, npartitions):\n",
    "    column = f\"{t[0]}_{t[1]}_{t[2]}\"\n",
    "    print(f\"Processing {column}\")\n",
    "    directory = f\"{output_dir}/{column}\"\n",
    "    if not os.path.exists(directory): os.makedirs(directory)\n",
    "    df = dd.read_hdf(filename, 'train')\n",
    "    to_write=list(df.columns)\n",
    "    to_write.append(column)\n",
    "    \n",
    "    df = df.map_partitions(add_group_column3, column, t, npartitions)\n",
    "    df = df.groupby('npartition')\n",
    "    df = df.apply(lambda x: x[to_write].to_hdf(f\"{directory}/train_{x.name}.hdf.compress\", 'train', mode='w', complib='blosc', fletcher32=True))\n",
    "    df = df.compute()\n",
    "    del df\n",
    "    gc.collect()\n"
   ]
  },
  {
   "cell_type": "code",
   "execution_count": null,
   "metadata": {},
   "outputs": [
    {
     "name": "stdout",
     "output_type": "stream",
     "text": [
      "Processing ip_channel\n"
     ]
    },
    {
     "name": "stderr",
     "output_type": "stream",
     "text": [
      "/opt/conda/lib/python3.6/site-packages/ipykernel_launcher.py:46: UserWarning: `meta` is not specified, inferred from partial data. Please provide `meta` if the result is unexpected.\n",
      "  Before: .apply(func)\n",
      "  After:  .apply(func, meta={'x': 'f8', 'y': 'f8'}) for dataframe result\n",
      "  or:     .apply(func, meta=('x', 'f8'))            for series result\n"
     ]
    }
   ],
   "source": [
    "npartitions = 64\n",
    "target_entities = ['ip', 'channel', 'app', 'device', 'os']\n",
    "\n",
    "# for t in combinations(target_entities, 1):\n",
    "#     partition_by(df, t[0], npartitions)\n",
    "\n",
    "for t in combinations(target_entities, 2):\n",
    "    partition_by2(input_file, t, npartitions)\n",
    "\n",
    "for t in combinations(target_entities, 3):\n",
    "    partition_by3(input_file, t, npartitions)"
   ]
  },
  {
   "cell_type": "code",
   "execution_count": null,
   "metadata": {},
   "outputs": [],
   "source": []
  }
 ],
 "metadata": {
  "kernelspec": {
   "display_name": "Python 3",
   "language": "python",
   "name": "python3"
  },
  "language_info": {
   "codemirror_mode": {
    "name": "ipython",
    "version": 3
   },
   "file_extension": ".py",
   "mimetype": "text/x-python",
   "name": "python",
   "nbconvert_exporter": "python",
   "pygments_lexer": "ipython3",
   "version": "3.6.4"
  }
 },
 "nbformat": 4,
 "nbformat_minor": 2
}

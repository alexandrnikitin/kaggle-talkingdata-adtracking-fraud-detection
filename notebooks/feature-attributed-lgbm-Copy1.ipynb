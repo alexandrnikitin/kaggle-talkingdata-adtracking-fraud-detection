{
 "cells": [
  {
   "cell_type": "code",
   "execution_count": 1,
   "metadata": {},
   "outputs": [],
   "source": [
    "import math\n",
    "import time\n",
    "import gc\n",
    "\n",
    "import numpy as np\n",
    "import pandas as pd\n",
    "import lightgbm as lgb\n",
    "\n",
    "from contextlib import contextmanager\n",
    "from glob import glob\n",
    "from itertools import combinations\n",
    "from pathlib import Path\n",
    "\n",
    "from sklearn.metrics import roc_auc_score"
   ]
  },
  {
   "cell_type": "code",
   "execution_count": 2,
   "metadata": {},
   "outputs": [],
   "source": [
    "dtypes = {\n",
    "    'ip': 'uint32',\n",
    "    'app': 'uint16',\n",
    "    'device': 'uint16',\n",
    "    'os': 'uint16',\n",
    "    'channel': 'uint16',\n",
    "    'is_attributed': 'uint8'\n",
    "}"
   ]
  },
  {
   "cell_type": "code",
   "execution_count": 3,
   "metadata": {},
   "outputs": [],
   "source": [
    "predictors = [\n",
    "    'PERCENT_TRUE(clicks.is_attributed)_app_1day',\n",
    "    'PERCENT_TRUE(clicks.is_attributed)_device_1day',\n",
    "    'PERCENT_TRUE(clicks.is_attributed)_os_1day',\n",
    "    'PERCENT_TRUE(clicks.is_attributed)_channel_1day',\n",
    "    'PERCENT_TRUE(clicks.is_attributed)_ip_1day',\n",
    "    'PERCENT_TRUE(clicks.is_attributed)_app_device_1day',\n",
    "    'PERCENT_TRUE(clicks.is_attributed)_app_os_1day',\n",
    "    'PERCENT_TRUE(clicks.is_attributed)_app_channel_1day',\n",
    "    'PERCENT_TRUE(clicks.is_attributed)_app_ip_1day',\n",
    "    'PERCENT_TRUE(clicks.is_attributed)_device_os_1day',\n",
    "    'PERCENT_TRUE(clicks.is_attributed)_device_channel_1day',\n",
    "    'PERCENT_TRUE(clicks.is_attributed)_device_ip_1day',\n",
    "    'PERCENT_TRUE(clicks.is_attributed)_os_channel_1day',\n",
    "    'PERCENT_TRUE(clicks.is_attributed)_os_ip_1day',\n",
    "    \n",
    "    'AVG_TIME_BETWEEN(clicks.click_time WHERE is_attributed = True)_app_1day',\n",
    "    'AVG_TIME_BETWEEN(clicks.click_time WHERE is_attributed = True)_device_1day',\n",
    "    'AVG_TIME_BETWEEN(clicks.click_time WHERE is_attributed = True)_os_1day',\n",
    "    'AVG_TIME_BETWEEN(clicks.click_time WHERE is_attributed = True)_channel_1day',\n",
    "    'AVG_TIME_BETWEEN(clicks.click_time WHERE is_attributed = True)_ip_1day',\n",
    "    'AVG_TIME_BETWEEN(clicks.click_time WHERE is_attributed = True)_app_device_1day',\n",
    "    'AVG_TIME_BETWEEN(clicks.click_time WHERE is_attributed = True)_app_os_1day',\n",
    "    'AVG_TIME_BETWEEN(clicks.click_time WHERE is_attributed = True)_app_channel_1day',\n",
    "    'AVG_TIME_BETWEEN(clicks.click_time WHERE is_attributed = True)_app_ip_1day',\n",
    "    'AVG_TIME_BETWEEN(clicks.click_time WHERE is_attributed = True)_device_os_1day',\n",
    "    'AVG_TIME_BETWEEN(clicks.click_time WHERE is_attributed = True)_device_channel_1day',\n",
    "    'AVG_TIME_BETWEEN(clicks.click_time WHERE is_attributed = True)_device_ip_1day',\n",
    "    'AVG_TIME_BETWEEN(clicks.click_time WHERE is_attributed = True)_os_channel_1day',\n",
    "    'AVG_TIME_BETWEEN(clicks.click_time WHERE is_attributed = True)_os_ip_1day',\n",
    "\n",
    "]"
   ]
  },
  {
   "cell_type": "code",
   "execution_count": 4,
   "metadata": {},
   "outputs": [],
   "source": [
    "target_entities_init = ['app', 'device', 'os', 'channel', 'ip']\n",
    "target_entities = []\n",
    "\n",
    "for t in combinations(target_entities_init, 1):\n",
    "    target_entities.append(t[0])\n",
    "for t in combinations(target_entities_init, 2):\n",
    "    target_entities.append(list(t))\n",
    "# for t in combinations(target_entities_init, 3):\n",
    "#     target_entities.append(list(t))\n",
    "# for t in combinations(target_entities_init, 4):\n",
    "#     target_entities.append(list(t))\n",
    "\n",
    "target_entities.remove(['channel', 'ip'])"
   ]
  },
  {
   "cell_type": "code",
   "execution_count": 5,
   "metadata": {},
   "outputs": [],
   "source": [
    "def remove(df, columns):\n",
    "    to_drop = [c for c in df.columns if not c in predictors]\n",
    "    df.drop(columns=to_drop, inplace=True)\n",
    "    for c in df.columns:\n",
    "        df[c] = df[c].astype(np.float32)\n",
    "    return df\n",
    "\n",
    "def split(df, target_entity):\n",
    "    if type(target_entity) == str:\n",
    "        df[target_entity] = df.index\n",
    "    else:\n",
    "        df[target_entity[0]], df[target_entity[1]] = df.index.str.split('_', 1).str\n",
    "        df[target_entity[0]] = df[target_entity[0]].astype(dtypes[target_entity[0]])\n",
    "        df[target_entity[1]] = df[target_entity[1]].astype(dtypes[target_entity[1]])\n",
    "    return df\n",
    "\n",
    "def combine_features(df, features_prefix, feature_suffix):\n",
    "    for target_entity in target_entities:\n",
    "        target_entity_name = target_entity if type(target_entity) == str else \"_\".join(target_entity)\n",
    "        feature_files = sorted(glob(f\"../data/interim/features/{target_entity_name}/{features_prefix}*{feature_suffix}.hdf.compress\"))\n",
    "        assert len(feature_files) > 0\n",
    "        for feature_file in feature_files:\n",
    "            df_feature = pd.read_hdf(feature_file)\n",
    "            df_feature = remove(df_feature, predictors)\n",
    "            df_feature = split(df_feature, target_entity)\n",
    "            df = pd.merge(df, df_feature, how='left', left_on=target_entity, right_on=target_entity)\n",
    "            del df_feature\n",
    "            gc.collect()\n",
    "    return df"
   ]
  },
  {
   "cell_type": "code",
   "execution_count": null,
   "metadata": {},
   "outputs": [
    {
     "name": "stdout",
     "output_type": "stream",
     "text": [
      "Train cache doesn't exist, creating\n"
     ]
    }
   ],
   "source": [
    "force = False\n",
    "cache_train = '../data/cache/train_lgbm_2017-11-09.hdf.compress'\n",
    "if not Path(cache_train).exists() or force:\n",
    "    print(\"Train cache doesn't exist, creating\")\n",
    "    train_summary = pd.read_csv('../data/interim/day_hour_train.csv')\n",
    "    start_row = train_summary[(train_summary['day'] == 8) & (train_summary['hour'] == 17)]['start'].values[0]\n",
    "    stop_row = train_summary[(train_summary['day'] == 9) & (train_summary['hour'] == 16)]['end'].values[0]\n",
    "    df_train = pd.read_hdf('../data/raw/train.hdf.compress', start=start_row, stop=stop_row)\n",
    "#     df_train = pd.read_hdf('../data/interim/downsampled/train_2017-11-07_1700_08_1600_0.hdf.compress')\n",
    "    df_train = combine_features(df_train, 'features_2017-11-08_1700', 'attributed2')\n",
    "    df_train.to_hdf(cache_train, 'train', mode='w', complib='blosc', fletcher32=True, complevel=9)\n",
    "else:\n",
    "    df_train = pd.read_hdf(cache_train)\n",
    "\n",
    "# cache_val = '../data/cache/validate_lgbm.hdf.compress'\n",
    "# if not Path(cache_val).exists() or force:\n",
    "#     print(\"Validation cache doesn't exist, creating\")\n",
    "#     train_summary = pd.read_csv('../data/interim/day_hour_train.csv')\n",
    "#     start_row = train_summary[(train_summary['day'] == 9) & (train_summary['hour'] == 4)]['start'].values[0]\n",
    "#     stop_row = train_summary[(train_summary['day'] == 9) & (train_summary['hour'] == 6)]['end'].values[0]\n",
    "#     df_val = pd.read_hdf('../data/raw/train.hdf.compress', start=start_row, stop=stop_row)\n",
    "#     df_val = combine_features(df_val, 'features_2017-11-08_1700', 'attributed2')\n",
    "#     df_val.to_hdf(cache_val, 'train', mode='w', complib='blosc', fletcher32=True, complevel=9)\n",
    "# else:\n",
    "#     df_val = pd.read_hdf(cache_val)"
   ]
  },
  {
   "cell_type": "code",
   "execution_count": 13,
   "metadata": {},
   "outputs": [],
   "source": [
    "params = {\n",
    "    'boosting_type': 'dart',\n",
    "    'objective': 'binary',\n",
    "    'metric': 'auc',\n",
    "    'learning_rate': 0.1,\n",
    "    'num_leaves': 100,\n",
    "    'max_depth': -1,\n",
    "    'min_child_samples': 100,\n",
    "#     'max_bin': 16,\n",
    "#     'subsample': 0.7,\n",
    "#     'subsample_freq': 1,\n",
    "#     'colsample_bytree': 0.7,\n",
    "#     'min_child_weight': 5,\n",
    "#     'subsample_for_bin': 200000,\n",
    "#     'min_split_gain': 0,\n",
    "#     'reg_alpha': 0.01,\n",
    "#     'reg_lambda': 0.01,\n",
    "   # 'nthread': 8,\n",
    "    'verbose': 0,\n",
    "    'is_unbalance': True,\n",
    "#     'scale_pos_weight':10 \n",
    "    }"
   ]
  },
  {
   "cell_type": "code",
   "execution_count": 18,
   "metadata": {},
   "outputs": [],
   "source": [
    "dtrain = lgb.Dataset(\n",
    "    df_train[predictors].values, \n",
    "    label=df_train['is_attributed'].values,\n",
    "    feature_name=predictors,\n",
    ")\n",
    "\n",
    "# dvalid = lgb.Dataset(\n",
    "#     df_val[predictors].values,\n",
    "#     label=df_val['is_attributed'].values,\n",
    "#     feature_name=predictors,\n",
    "#     reference=dtrain,\n",
    "# )"
   ]
  },
  {
   "cell_type": "code",
   "execution_count": 19,
   "metadata": {},
   "outputs": [
    {
     "name": "stdout",
     "output_type": "stream",
     "text": [
      "Training until validation scores don't improve for 30 rounds.\n",
      "[10]\ttrain's auc: 0.973122\tvalid's auc: 0.959908\n",
      "[20]\ttrain's auc: 0.974009\tvalid's auc: 0.960488\n",
      "[30]\ttrain's auc: 0.975213\tvalid's auc: 0.9614\n",
      "[40]\ttrain's auc: 0.975885\tvalid's auc: 0.96193\n",
      "[50]\ttrain's auc: 0.976249\tvalid's auc: 0.962057\n",
      "[60]\ttrain's auc: 0.976675\tvalid's auc: 0.962072\n",
      "[70]\ttrain's auc: 0.976925\tvalid's auc: 0.962177\n"
     ]
    },
    {
     "ename": "KeyboardInterrupt",
     "evalue": "",
     "output_type": "error",
     "traceback": [
      "\u001b[0;31m---------------------------------------------------------------------------\u001b[0m",
      "\u001b[0;31mKeyboardInterrupt\u001b[0m                         Traceback (most recent call last)",
      "\u001b[0;32m<ipython-input-19-0d7481bf5b72>\u001b[0m in \u001b[0;36m<module>\u001b[0;34m()\u001b[0m\n\u001b[1;32m      7\u001b[0m     \u001b[0mearly_stopping_rounds\u001b[0m\u001b[0;34m=\u001b[0m\u001b[0;36m30\u001b[0m\u001b[0;34m,\u001b[0m\u001b[0;34m\u001b[0m\u001b[0m\n\u001b[1;32m      8\u001b[0m     \u001b[0mverbose_eval\u001b[0m\u001b[0;34m=\u001b[0m\u001b[0;36m10\u001b[0m\u001b[0;34m,\u001b[0m\u001b[0;34m\u001b[0m\u001b[0m\n\u001b[0;32m----> 9\u001b[0;31m     \u001b[0mfeval\u001b[0m\u001b[0;34m=\u001b[0m\u001b[0;32mNone\u001b[0m\u001b[0;34m\u001b[0m\u001b[0m\n\u001b[0m\u001b[1;32m     10\u001b[0m )\n",
      "\u001b[0;32m/opt/conda/lib/python3.6/site-packages/lightgbm/engine.py\u001b[0m in \u001b[0;36mtrain\u001b[0;34m(params, train_set, num_boost_round, valid_sets, valid_names, fobj, feval, init_model, feature_name, categorical_feature, early_stopping_rounds, evals_result, verbose_eval, learning_rates, keep_training_booster, callbacks)\u001b[0m\n\u001b[1;32m    199\u001b[0m                                     evaluation_result_list=None))\n\u001b[1;32m    200\u001b[0m \u001b[0;34m\u001b[0m\u001b[0m\n\u001b[0;32m--> 201\u001b[0;31m         \u001b[0mbooster\u001b[0m\u001b[0;34m.\u001b[0m\u001b[0mupdate\u001b[0m\u001b[0;34m(\u001b[0m\u001b[0mfobj\u001b[0m\u001b[0;34m=\u001b[0m\u001b[0mfobj\u001b[0m\u001b[0;34m)\u001b[0m\u001b[0;34m\u001b[0m\u001b[0m\n\u001b[0m\u001b[1;32m    202\u001b[0m \u001b[0;34m\u001b[0m\u001b[0m\n\u001b[1;32m    203\u001b[0m         \u001b[0mevaluation_result_list\u001b[0m \u001b[0;34m=\u001b[0m \u001b[0;34m[\u001b[0m\u001b[0;34m]\u001b[0m\u001b[0;34m\u001b[0m\u001b[0m\n",
      "\u001b[0;32m/opt/conda/lib/python3.6/site-packages/lightgbm/basic.py\u001b[0m in \u001b[0;36mupdate\u001b[0;34m(self, train_set, fobj)\u001b[0m\n\u001b[1;32m   1519\u001b[0m             _safe_call(_LIB.LGBM_BoosterUpdateOneIter(\n\u001b[1;32m   1520\u001b[0m                 \u001b[0mself\u001b[0m\u001b[0;34m.\u001b[0m\u001b[0mhandle\u001b[0m\u001b[0;34m,\u001b[0m\u001b[0;34m\u001b[0m\u001b[0m\n\u001b[0;32m-> 1521\u001b[0;31m                 ctypes.byref(is_finished)))\n\u001b[0m\u001b[1;32m   1522\u001b[0m             \u001b[0mself\u001b[0m\u001b[0;34m.\u001b[0m\u001b[0m__is_predicted_cur_iter\u001b[0m \u001b[0;34m=\u001b[0m \u001b[0;34m[\u001b[0m\u001b[0;32mFalse\u001b[0m \u001b[0;32mfor\u001b[0m \u001b[0m_\u001b[0m \u001b[0;32min\u001b[0m \u001b[0mrange_\u001b[0m\u001b[0;34m(\u001b[0m\u001b[0mself\u001b[0m\u001b[0;34m.\u001b[0m\u001b[0m__num_dataset\u001b[0m\u001b[0;34m)\u001b[0m\u001b[0;34m]\u001b[0m\u001b[0;34m\u001b[0m\u001b[0m\n\u001b[1;32m   1523\u001b[0m             \u001b[0;32mreturn\u001b[0m \u001b[0mis_finished\u001b[0m\u001b[0;34m.\u001b[0m\u001b[0mvalue\u001b[0m \u001b[0;34m==\u001b[0m \u001b[0;36m1\u001b[0m\u001b[0;34m\u001b[0m\u001b[0m\n",
      "\u001b[0;31mKeyboardInterrupt\u001b[0m: "
     ]
    }
   ],
   "source": [
    "lgb_model = lgb.train(\n",
    "    params,\n",
    "    dtrain,\n",
    "    valid_sets=[dtrain, dvalid],\n",
    "    valid_names=['train','valid'],\n",
    "    num_boost_round=100,\n",
    "    early_stopping_rounds=30,\n",
    "    verbose_eval=10, \n",
    "    feval=None\n",
    ")"
   ]
  },
  {
   "cell_type": "code",
   "execution_count": null,
   "metadata": {},
   "outputs": [],
   "source": [
    "import matplotlib.pyplot as plt\n",
    "f, ax = plt.subplots(figsize=[7,10])\n",
    "lgb.plot_importance(lgb_model, ax=ax, max_num_features=len(predictors))\n",
    "plt.title(\"Light GBM Feature Importance\")"
   ]
  },
  {
   "cell_type": "code",
   "execution_count": null,
   "metadata": {},
   "outputs": [],
   "source": []
  }
 ],
 "metadata": {
  "kernelspec": {
   "display_name": "Python 3",
   "language": "python",
   "name": "python3"
  },
  "language_info": {
   "codemirror_mode": {
    "name": "ipython",
    "version": 3
   },
   "file_extension": ".py",
   "mimetype": "text/x-python",
   "name": "python",
   "nbconvert_exporter": "python",
   "pygments_lexer": "ipython3",
   "version": "3.6.4"
  }
 },
 "nbformat": 4,
 "nbformat_minor": 2
}

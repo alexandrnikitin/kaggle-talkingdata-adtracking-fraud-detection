{
 "cells": [
  {
   "cell_type": "code",
   "execution_count": 1,
   "metadata": {},
   "outputs": [],
   "source": [
    "import math\n",
    "import time\n",
    "import gc\n",
    "\n",
    "import wordbatch\n",
    "import numpy as np\n",
    "import pandas as pd\n",
    "\n",
    "from contextlib import contextmanager\n",
    "\n",
    "from sklearn.metrics import roc_auc_score\n",
    "from wordbatch.extractors import WordHash\n",
    "from wordbatch.models import FM_FTRL"
   ]
  },
  {
   "cell_type": "code",
   "execution_count": 2,
   "metadata": {},
   "outputs": [],
   "source": [
    "categorical_features = [\n",
    "    'ip', 'app', 'device', 'os', 'channel',\n",
    "]\n",
    "\n",
    "numerical_features_q = [\n",
    "    'PERCENT_TRUE(clicks.is_attributed)_app_1day',\n",
    "    'PERCENT_TRUE(clicks.is_attributed)_device_1day',\n",
    "    'PERCENT_TRUE(clicks.is_attributed)_os_1day',\n",
    "    'PERCENT_TRUE(clicks.is_attributed)_channel_1day',\n",
    "    'PERCENT_TRUE(clicks.is_attributed)_ip_1day',\n",
    "    'PERCENT_TRUE(clicks.is_attributed)_app_device_1day',\n",
    "    'PERCENT_TRUE(clicks.is_attributed)_app_os_1day',\n",
    "    'PERCENT_TRUE(clicks.is_attributed)_app_channel_1day',\n",
    "    'PERCENT_TRUE(clicks.is_attributed)_app_ip_1day',\n",
    "    'PERCENT_TRUE(clicks.is_attributed)_device_os_1day',\n",
    "    'PERCENT_TRUE(clicks.is_attributed)_device_channel_1day',\n",
    "    'PERCENT_TRUE(clicks.is_attributed)_device_ip_1day',\n",
    "    'PERCENT_TRUE(clicks.is_attributed)_os_channel_1day',\n",
    "    'PERCENT_TRUE(clicks.is_attributed)_os_ip_1day',\n",
    "]\n",
    "\n",
    "numerical_features_l = [\n",
    "#     'COUNT(clicks)_device_1day',\n",
    "#     'COUNT(clicks WHERE is_attributed = True)_device_1day',\n",
    "#     'COUNT(clicks)_os_1day',\n",
    "#     'COUNT(clicks WHERE is_attributed = True)_os_1day',\n",
    "#     'COUNT(clicks)_channel_1day',\n",
    "#     'COUNT(clicks WHERE is_attributed = True)_channel_1day',\n",
    "#     'COUNT(clicks)_app_1day',\n",
    "#     'COUNT(clicks WHERE is_attributed = True)_app_1day',\n",
    "]\n",
    "\n",
    "numerical_features = numerical_features_q + numerical_features_l\n",
    "\n",
    "interaction_features = [\n",
    "    ['app', 'channel'],\n",
    "    ['app', 'device'],\n",
    "    ['app', 'os'],\n",
    "    ['os', 'channel'],\n",
    "    ['ip', 'app'],\n",
    "#     ['device', 'PERCENT_TRUE(clicks.is_attributed)_device_1day'],\n",
    "#     ['app', 'PERCENT_TRUE(clicks.is_attributed)_app_1day'],\n",
    "#     ['os', 'PERCENT_TRUE(clicks.is_attributed)_os_1day'],\n",
    "#     ['channel', 'PERCENT_TRUE(clicks.is_attributed)_channel_1day'],\n",
    "    \n",
    "#     ['device', 'COUNT(clicks)_device_1day'],\n",
    "#     ['app', 'COUNT(clicks)_app_1day'],\n",
    "#     ['os', 'COUNT(clicks)_os_1day'],\n",
    "#     ['channel', 'COUNT(clicks)_channel_1day'],\n",
    "    \n",
    "#     ['device', 'COUNT(clicks WHERE is_attributed = True)_device_1day'],\n",
    "#     ['app', 'COUNT(clicks WHERE is_attributed = True)_app_1day'],\n",
    "#     ['os', 'COUNT(clicks WHERE is_attributed = True)_os_1day'],\n",
    "#     ['channel', 'COUNT(clicks WHERE is_attributed = True)_channel_1day'],\n",
    "\n",
    "]"
   ]
  },
  {
   "cell_type": "code",
   "execution_count": 3,
   "metadata": {},
   "outputs": [],
   "source": [
    "train_filenames = [\n",
    "    '../data/interim/combined/train_2017-11-07_1700_attributed2.hdf.compress',\n",
    "    '../data/interim/combined/train_2017-11-07_1800_attributed2.hdf.compress',\n",
    "    '../data/interim/combined/train_2017-11-07_1900_attributed2.hdf.compress',\n",
    "    '../data/interim/combined/train_2017-11-07_2000_attributed2.hdf.compress',\n",
    "    '../data/interim/combined/train_2017-11-07_2100_attributed2.hdf.compress',\n",
    "    '../data/interim/combined/train_2017-11-07_2200_attributed2.hdf.compress',\n",
    "    '../data/interim/combined/train_2017-11-07_2300_attributed2.hdf.compress',\n",
    "    '../data/interim/combined/train_2017-11-08_0000_attributed2.hdf.compress',\n",
    "    '../data/interim/combined/train_2017-11-08_0100_attributed2.hdf.compress',\n",
    "    '../data/interim/combined/train_2017-11-08_0200_attributed2.hdf.compress',\n",
    "    '../data/interim/combined/train_2017-11-08_0300_attributed2.hdf.compress',\n",
    "    '../data/interim/combined/train_2017-11-08_0400_attributed2.hdf.compress',\n",
    "    '../data/interim/combined/train_2017-11-08_0500_attributed2.hdf.compress',\n",
    "    '../data/interim/combined/train_2017-11-08_0600_attributed2.hdf.compress',\n",
    "    '../data/interim/combined/train_2017-11-08_0700_attributed2.hdf.compress',\n",
    "    '../data/interim/combined/train_2017-11-08_0800_attributed2.hdf.compress',\n",
    "    '../data/interim/combined/train_2017-11-08_0900_attributed2.hdf.compress',\n",
    "    '../data/interim/combined/train_2017-11-08_1000_attributed2.hdf.compress',\n",
    "    '../data/interim/combined/train_2017-11-08_1100_attributed2.hdf.compress',\n",
    "    '../data/interim/combined/train_2017-11-08_1200_attributed2.hdf.compress',\n",
    "    '../data/interim/combined/train_2017-11-08_1300_attributed2.hdf.compress',\n",
    "    '../data/interim/combined/train_2017-11-08_1400_attributed2.hdf.compress',\n",
    "    '../data/interim/combined/train_2017-11-08_1500_attributed2.hdf.compress',\n",
    "    '../data/interim/combined/train_2017-11-08_1600_attributed2.hdf.compress'\n",
    "]\n",
    "\n",
    "validation_filenames = [\n",
    "    '../data/interim/combined/train_2017-11-09_0400_attributed2.hdf.compress',\n",
    "    '../data/interim/combined/train_2017-11-09_0500_attributed2.hdf.compress',\n",
    "    '../data/interim/combined/train_2017-11-09_0600_attributed2.hdf.compress',\n",
    "]"
   ]
  },
  {
   "cell_type": "code",
   "execution_count": 4,
   "metadata": {},
   "outputs": [],
   "source": [
    "df = pd.read_hdf(train_filenames[0])"
   ]
  },
  {
   "cell_type": "code",
   "execution_count": 12,
   "metadata": {},
   "outputs": [
    {
     "name": "stdout",
     "output_type": "stream",
     "text": [
      "PERCENT_TRUE(clicks.is_attributed)_app_1day\n",
      "PERCENT_TRUE(clicks.is_attributed)_device_1day\n",
      "PERCENT_TRUE(clicks.is_attributed)_os_1day\n",
      "PERCENT_TRUE(clicks.is_attributed)_channel_1day\n",
      "PERCENT_TRUE(clicks.is_attributed)_ip_1day\n",
      "PERCENT_TRUE(clicks.is_attributed)_app_device_1day\n",
      "PERCENT_TRUE(clicks.is_attributed)_app_os_1day\n",
      "PERCENT_TRUE(clicks.is_attributed)_app_channel_1day\n",
      "PERCENT_TRUE(clicks.is_attributed)_app_ip_1day\n",
      "PERCENT_TRUE(clicks.is_attributed)_device_os_1day\n",
      "PERCENT_TRUE(clicks.is_attributed)_device_channel_1day\n",
      "PERCENT_TRUE(clicks.is_attributed)_device_ip_1day\n",
      "PERCENT_TRUE(clicks.is_attributed)_os_channel_1day\n",
      "PERCENT_TRUE(clicks.is_attributed)_os_ip_1day\n"
     ]
    }
   ],
   "source": [
    "for c in df.columns:\n",
    "    if c.startswith('PERCENT_TRUE'):\n",
    "        print(c)"
   ]
  },
  {
   "cell_type": "code",
   "execution_count": 4,
   "metadata": {},
   "outputs": [],
   "source": [
    "@contextmanager\n",
    "def timer(name):\n",
    "    t0 = time.time()\n",
    "    yield\n",
    "    print(f'[{name}] done in {time.time() - t0:.0f} s')"
   ]
  },
  {
   "cell_type": "code",
   "execution_count": 15,
   "metadata": {},
   "outputs": [],
   "source": [
    "D = 2 ** 25\n",
    "\n",
    "wb = wordbatch.WordBatch(\n",
    "    None, \n",
    "    extractor=(\n",
    "        WordHash, \n",
    "        {\n",
    "            \"ngram_range\": (1, 1), \n",
    "            \"analyzer\": \"word\",\n",
    "            \"lowercase\": False, \n",
    "            \"n_features\": D,\n",
    "            \"norm\": None, \n",
    "            \"binary\": True\n",
    "        }),\n",
    "#     minibatch_size=batchsize // 80,\n",
    "#     method='threading',\n",
    "    procs=24,\n",
    "    freeze=True,\n",
    "    timeout=1800,\n",
    "    verbose=0\n",
    ")\n",
    "\n",
    "clf = FM_FTRL(\n",
    "    alpha=0.05,\n",
    "    beta=0.1,\n",
    "    L1=0.0,\n",
    "    L2=0.0,\n",
    "    D=D,\n",
    "    alpha_fm=0.02,\n",
    "    L2_fm=0.0,\n",
    "    init_fm=0.01,\n",
    "    weight_fm=1.0,\n",
    "    D_fm=8,\n",
    "    e_noise=0.0,\n",
    "    iters=3,\n",
    "    inv_link=\"sigmoid\",\n",
    "    e_clip=1.0,\n",
    "    threads=24,\n",
    "    use_avx=1,\n",
    "    verbose=0\n",
    ")"
   ]
  },
  {
   "cell_type": "code",
   "execution_count": 6,
   "metadata": {},
   "outputs": [],
   "source": [
    "def discretize(df):\n",
    "    for c in numerical_features_q:\n",
    "        df[c] = pd.qcut(df[c], 10, labels=False, duplicates='drop')\n",
    "    for c in numerical_features_l:\n",
    "        df[c] = pd.qcut(df[c], 100, labels=False, duplicates='drop')\n",
    "    return df"
   ]
  },
  {
   "cell_type": "code",
   "execution_count": 7,
   "metadata": {},
   "outputs": [],
   "source": [
    "def df2csr3(df):\n",
    "    df.fillna(0)\n",
    "    df = discretize(df)\n",
    "    df.fillna(0)\n",
    "\n",
    "    for i, c in enumerate(categorical_features):\n",
    "        name = f\"C_{i}_\"\n",
    "        df[name] = name + df[c].astype(str) + \" \"\n",
    "\n",
    "    for i, c in enumerate(numerical_features):\n",
    "        name = f\"N_{i}_\"\n",
    "        df[name] = name + df[c].astype(str) + \" \"\n",
    "\n",
    "    for i, (c1, c2) in enumerate(interaction_features):\n",
    "        name = f\"X_{i}_\"\n",
    "        df[name] = name + df[c1].astype(str) + \"_\" + df[c2].astype(str) + \" \"\n",
    "\n",
    "    cols = [c for c in df.columns if c.startswith(('C_', 'N_', 'X_'))]\n",
    "    return df[cols].sum(axis=1).values"
   ]
  },
  {
   "cell_type": "code",
   "execution_count": 8,
   "metadata": {},
   "outputs": [],
   "source": [
    "def process_data(filename):\n",
    "    df = pd.read_hdf(filename)\n",
    "    y = df.pop('is_attributed')\n",
    "    w = np.multiply([1.0 if x == 1 else 0.2 for x in y], 1)\n",
    "    str_array = df2csr3(df)\n",
    "    X = wb.transform(str_array)\n",
    "    del df, str_array\n",
    "    gc.collect()\n",
    "    return X, y, w"
   ]
  },
  {
   "cell_type": "code",
   "execution_count": 13,
   "metadata": {},
   "outputs": [
    {
     "name": "stdout",
     "output_type": "stream",
     "text": [
      "CPU times: user 7min 14s, sys: 1min 53s, total: 9min 8s\n",
      "Wall time: 9min 8s\n"
     ]
    }
   ],
   "source": [
    "%%time\n",
    "X_val, y_val, _ = process_data(validation_filenames[0])"
   ]
  },
  {
   "cell_type": "code",
   "execution_count": null,
   "metadata": {},
   "outputs": [
    {
     "name": "stdout",
     "output_type": "stream",
     "text": [
      "[data] done in 154 s\n",
      "[partial_fit] done in 534 s\n",
      "[data] done in 89 s\n",
      "[partial_fit] done in 306 s\n",
      "[data] done in 60 s\n",
      "[partial_fit] done in 206 s\n",
      "[data] done in 50 s\n",
      "[partial_fit] done in 177 s\n"
     ]
    }
   ],
   "source": [
    "i = 0\n",
    "for train_filename in train_filenames:\n",
    "    with timer(\"data\"):\n",
    "        X_train, y_train, w_train = process_data(train_filename)\n",
    "    with timer(\"partial_fit\"):\n",
    "        clf.partial_fit(X_train, y_train, sample_weight=w_train)\n",
    "\n",
    "    i = i + 1\n",
    "    if i % 5 == 0:\n",
    "        print(\"Test:\")\n",
    "        with timer(\"evaluate_batch test\"):\n",
    "            print(i, \"ROC AUC:\", roc_auc_score(y_val, clf.predict(X_val)))\n",
    "\n",
    "\n",
    "    del X_train, y_train, w_train\n",
    "    gc.collect()\n",
    "    \n",
    "del X_val, y_val\n",
    "gc.collect()"
   ]
  },
  {
   "cell_type": "code",
   "execution_count": null,
   "metadata": {},
   "outputs": [],
   "source": []
  }
 ],
 "metadata": {
  "kernelspec": {
   "display_name": "Python 3",
   "language": "python",
   "name": "python3"
  },
  "language_info": {
   "codemirror_mode": {
    "name": "ipython",
    "version": 3
   },
   "file_extension": ".py",
   "mimetype": "text/x-python",
   "name": "python",
   "nbconvert_exporter": "python",
   "pygments_lexer": "ipython3",
   "version": "3.6.4"
  }
 },
 "nbformat": 4,
 "nbformat_minor": 2
}

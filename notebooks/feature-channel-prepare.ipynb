{
 "cells": [
  {
   "cell_type": "code",
   "execution_count": 34,
   "metadata": {},
   "outputs": [],
   "source": [
    "import gc\n",
    "\n",
    "import pandas as pd\n",
    "\n",
    "from glob import glob"
   ]
  },
  {
   "cell_type": "code",
   "execution_count": 35,
   "metadata": {},
   "outputs": [],
   "source": [
    "dtypes = {\n",
    "    'ip': 'uint32',\n",
    "    'app': 'uint16',\n",
    "    'device': 'uint16',\n",
    "    'os': 'uint16',\n",
    "    'channel': 'uint16',\n",
    "    'is_attributed': 'uint8'\n",
    "}\n",
    "to_read = ['app', 'device', 'os', 'channel', 'click_time', 'is_attributed']\n",
    "to_parse = ['click_time']"
   ]
  },
  {
   "cell_type": "code",
   "execution_count": 36,
   "metadata": {},
   "outputs": [],
   "source": [
    "train_files =  [\n",
    " '../data/interim/train_2017-11-08_0000.csv',\n",
    " '../data/interim/train_2017-11-08_0100.csv',\n",
    " '../data/interim/train_2017-11-08_0200.csv',\n",
    " '../data/interim/train_2017-11-08_0300.csv',\n",
    " '../data/interim/train_2017-11-08_0400.csv'\n",
    "]\n",
    "\n",
    "feature_files =  [\n",
    " '../data/interim/train_2017-11-08_0000_channel_features.csv',\n",
    " '../data/interim/train_2017-11-08_0100_channel_features.csv',\n",
    " '../data/interim/train_2017-11-08_0200_channel_features.csv',\n",
    " '../data/interim/train_2017-11-08_0300_channel_features.csv',\n",
    " '../data/interim/train_2017-11-08_0400_channel_features.csv'\n",
    "]"
   ]
  },
  {
   "cell_type": "code",
   "execution_count": 37,
   "metadata": {},
   "outputs": [
    {
     "name": "stdout",
     "output_type": "stream",
     "text": [
      "Writing ../data/interim/train_2017-11-08_0000_features.csv\n",
      "Writing ../data/interim/train_2017-11-08_0100_features.csv\n",
      "Writing ../data/interim/train_2017-11-08_0200_features.csv\n",
      "Writing ../data/interim/train_2017-11-08_0300_features.csv\n",
      "Writing ../data/interim/train_2017-11-08_0400_features.csv\n"
     ]
    }
   ],
   "source": [
    "for (train_file, feature_file) in zip(train_files, feature_files):\n",
    "    df_train = pd.read_csv(train_file, usecols=to_read, dtype=dtypes, parse_dates=to_parse)\n",
    "    df_feature = pd.read_csv(feature_file)\n",
    "    df_feature = df_feature.set_index('channel')\n",
    "    df_train = df_train.join(df_feature, on='channel')\n",
    "    to_drop = [\n",
    "        'click_time', \n",
    "        'NUM_UNIQUE(clicks.DAY(click_time))',\n",
    "        'NUM_UNIQUE(clicks.YEAR(click_time))',\n",
    "        'NUM_UNIQUE(clicks.MONTH(click_time))',\n",
    "        'NUM_UNIQUE(clicks.WEEKDAY(click_time))',\n",
    "        'MODE(clicks.DAY(click_time))',\n",
    "        'MODE(clicks.YEAR(click_time))',\n",
    "        'MODE(clicks.MONTH(click_time))',\n",
    "        'MODE(clicks.WEEKDAY(click_time))'\n",
    "    ]\n",
    "    df_train.drop(columns=to_drop, inplace=True)\n",
    "    \n",
    "    name, ext = os.path.splitext(train_file)\n",
    "    output_file = f\"{name}_features{ext}\"\n",
    "    print(f\"Writing {output_file}\")\n",
    "    df_train.to_csv(output_file, index=False)\n",
    "    del df_feature\n",
    "    del df_train\n",
    "    gc.collect()"
   ]
  },
  {
   "cell_type": "code",
   "execution_count": null,
   "metadata": {},
   "outputs": [],
   "source": []
  }
 ],
 "metadata": {
  "kernelspec": {
   "display_name": "Python 3",
   "language": "python",
   "name": "python3"
  },
  "language_info": {
   "codemirror_mode": {
    "name": "ipython",
    "version": 3
   },
   "file_extension": ".py",
   "mimetype": "text/x-python",
   "name": "python",
   "nbconvert_exporter": "python",
   "pygments_lexer": "ipython3",
   "version": "3.6.4"
  }
 },
 "nbformat": 4,
 "nbformat_minor": 2
}

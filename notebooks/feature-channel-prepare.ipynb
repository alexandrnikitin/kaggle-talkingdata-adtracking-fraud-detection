{
 "cells": [
  {
   "cell_type": "code",
   "execution_count": 11,
   "metadata": {},
   "outputs": [],
   "source": [
    "import gc\n",
    "import os\n",
    "\n",
    "import pandas as pd\n",
    "\n",
    "from glob import glob\n",
    "\n",
    "pd.set_option('display.max_rows', 500)"
   ]
  },
  {
   "cell_type": "code",
   "execution_count": 7,
   "metadata": {},
   "outputs": [
    {
     "data": {
      "text/plain": [
       "['../data/interim/features/train_2017-11-08_0000_channel_1hour_features.csv',\n",
       " '../data/interim/features/train_2017-11-08_0100_channel_1hour_features.csv',\n",
       " '../data/interim/features/train_2017-11-08_0200_channel_1hour_features.csv',\n",
       " '../data/interim/features/train_2017-11-08_0300_channel_1hour_features.csv',\n",
       " '../data/interim/features/train_2017-11-08_0400_channel_1hour_features.csv',\n",
       " '../data/interim/features/train_2017-11-08_0500_channel_1hour_features.csv',\n",
       " '../data/interim/features/train_2017-11-08_0600_channel_1hour_features.csv',\n",
       " '../data/interim/features/train_2017-11-08_0700_channel_1hour_features.csv',\n",
       " '../data/interim/features/train_2017-11-08_0800_channel_1hour_features.csv',\n",
       " '../data/interim/features/train_2017-11-08_0900_channel_1hour_features.csv']"
      ]
     },
     "execution_count": 7,
     "metadata": {},
     "output_type": "execute_result"
    }
   ],
   "source": [
    "sorted(glob(f\"../data/interim/features/train_2017-11-08_0*_channel_*_features.csv\"))"
   ]
  },
  {
   "cell_type": "code",
   "execution_count": 8,
   "metadata": {},
   "outputs": [
    {
     "data": {
      "text/plain": [
       "['../data/interim/train_2017-11-08_0000.csv',\n",
       " '../data/interim/train_2017-11-08_0100.csv',\n",
       " '../data/interim/train_2017-11-08_0200.csv',\n",
       " '../data/interim/train_2017-11-08_0300.csv',\n",
       " '../data/interim/train_2017-11-08_0400.csv',\n",
       " '../data/interim/train_2017-11-08_0500.csv',\n",
       " '../data/interim/train_2017-11-08_0600.csv',\n",
       " '../data/interim/train_2017-11-08_0700.csv',\n",
       " '../data/interim/train_2017-11-08_0800.csv',\n",
       " '../data/interim/train_2017-11-08_0900.csv']"
      ]
     },
     "execution_count": 8,
     "metadata": {},
     "output_type": "execute_result"
    }
   ],
   "source": [
    "sorted(glob(f\"../data/interim/train_2017-11-08_0*00.csv\"))"
   ]
  },
  {
   "cell_type": "code",
   "execution_count": 14,
   "metadata": {},
   "outputs": [],
   "source": [
    "dtypes = {\n",
    "    'ip': 'uint32',\n",
    "    'app': 'uint16',\n",
    "    'device': 'uint16',\n",
    "    'os': 'uint16',\n",
    "    'channel': 'uint16',\n",
    "    'is_attributed': 'uint8'\n",
    "}\n",
    "to_read = ['app', 'device', 'os', 'channel', 'click_time', 'is_attributed']\n",
    "to_parse = ['click_time']"
   ]
  },
  {
   "cell_type": "code",
   "execution_count": 15,
   "metadata": {},
   "outputs": [],
   "source": [
    "train_files =  ['../data/interim/train_2017-11-08_0000.csv',\n",
    " '../data/interim/train_2017-11-08_0100.csv',\n",
    " '../data/interim/train_2017-11-08_0200.csv',\n",
    " '../data/interim/train_2017-11-08_0300.csv',\n",
    " '../data/interim/train_2017-11-08_0400.csv']\n",
    "\n",
    "feature_files = ['../data/interim/features/train_2017-11-08_0000_channel_1hour_features.csv',\n",
    " '../data/interim/features/train_2017-11-08_0100_channel_1hour_features.csv',\n",
    " '../data/interim/features/train_2017-11-08_0200_channel_1hour_features.csv',\n",
    " '../data/interim/features/train_2017-11-08_0300_channel_1hour_features.csv',\n",
    " '../data/interim/features/train_2017-11-08_0400_channel_1hour_features.csv']"
   ]
  },
  {
   "cell_type": "code",
   "execution_count": 10,
   "metadata": {},
   "outputs": [],
   "source": [
    "df_train = pd.read_csv(train_files[0], usecols=to_read, dtype=dtypes, parse_dates=to_parse)\n",
    "df_feature = pd.read_csv(feature_files[0])\n",
    "df_feature = df_feature.set_index('channel')\n",
    "df_train = df_train.join(df_feature, on='channel')\n",
    "to_drop = ['click_time']\n",
    "for c in df_train.columns:\n",
    "    if c.startswith(to_drop_sw):\n",
    "        to_drop.append(c)\n",
    "\n",
    "df_train.drop(columns=to_drop, inplace=True)\n"
   ]
  },
  {
   "cell_type": "code",
   "execution_count": 16,
   "metadata": {},
   "outputs": [],
   "source": [
    "to_select_sw = tuple([\n",
    "    'COUNT(clicks)_',\n",
    "    'PERCENT_TRUE(clicks.is_attributed)_',\n",
    "    'NUM_UNIQUE(clicks.os)_',\n",
    "    'NUM_UNIQUE(clicks.app)_',\n",
    "    'NUM_UNIQUE(clicks.device)_',\n",
    "    'STD(clicks.device.NUM_UNIQUE(clicks.os))_',\n",
    "    'STD(clicks.os.NUM_UNIQUE(clicks.device))_',\n",
    "    'SKEW(clicks.os.COUNT(clicks))_',\n",
    "    'STD(clicks.app.PERCENT_TRUE(clicks.is_attribut',\n",
    "    'STD(clicks.device.PERCENT_TRUE(clicks.is_attri',\n",
    "    'SKEW(clicks.device.COUNT(clicks))_',\n",
    "    'SKEW(clicks.app.PERCENT_TRUE(clicks.is_attribu'\n",
    "])"
   ]
  },
  {
   "cell_type": "code",
   "execution_count": 6,
   "metadata": {},
   "outputs": [],
   "source": [
    "to_drop_sw = tuple([\n",
    "    'NUM_UNIQUE(clicks.DAY(click_time))',\n",
    "    'NUM_UNIQUE(clicks.YEAR(click_time))',\n",
    "    'NUM_UNIQUE(clicks.MONTH(click_time))',\n",
    "    'NUM_UNIQUE(clicks.WEEKDAY(click_time))',\n",
    "    'MODE(clicks.DAY(click_time))',\n",
    "    'MODE(clicks.YEAR(click_time))',\n",
    "    'MODE(clicks.MONTH(click_time))',\n",
    "    'MODE(clicks.WEEKDAY(click_time))'\n",
    "])"
   ]
  },
  {
   "cell_type": "code",
   "execution_count": 17,
   "metadata": {},
   "outputs": [
    {
     "name": "stdout",
     "output_type": "stream",
     "text": [
      "Writing ../data/interim/train_2017-11-08_0000_features.csv\n",
      "Writing ../data/interim/train_2017-11-08_0100_features.csv\n",
      "Writing ../data/interim/train_2017-11-08_0200_features.csv\n",
      "Writing ../data/interim/train_2017-11-08_0300_features.csv\n",
      "Writing ../data/interim/train_2017-11-08_0400_features.csv\n"
     ]
    }
   ],
   "source": [
    "for (train_file, feature_file) in zip(train_files, feature_files):\n",
    "    df_train = pd.read_csv(train_file, usecols=to_read, dtype=dtypes, parse_dates=to_parse)\n",
    "    df_feature = pd.read_csv(feature_file)\n",
    "    df_feature = df_feature.set_index('channel')\n",
    "    df_train = df_train.join(df_feature, on='channel')\n",
    "#     to_drop = [\n",
    "#         'click_time'\n",
    "#     ]\n",
    "#     for c in df_train.columns:\n",
    "#         if c.startswith(to_drop_sw):\n",
    "#             to_drop.append(c)\n",
    "        \n",
    "#     df_train.drop(columns=to_drop, inplace=True)\n",
    "    to_select = ['is_attributed', 'os', 'device', 'channel', 'app']\n",
    "    for c in df_train.columns:\n",
    "        if c.startswith(to_select_sw):\n",
    "            to_select.append(c)\n",
    "    df_train = df_train[to_select]\n",
    "    \n",
    "    name, ext = os.path.splitext(train_file)\n",
    "    output_file = f\"{name}_features{ext}\"\n",
    "    print(f\"Writing {output_file}\")\n",
    "    df_train.to_csv(output_file, index=False)\n",
    "    del df_feature\n",
    "    del df_train\n",
    "    gc.collect()"
   ]
  },
  {
   "cell_type": "code",
   "execution_count": null,
   "metadata": {},
   "outputs": [],
   "source": []
  }
 ],
 "metadata": {
  "kernelspec": {
   "display_name": "Python 3",
   "language": "python",
   "name": "python3"
  },
  "language_info": {
   "codemirror_mode": {
    "name": "ipython",
    "version": 3
   },
   "file_extension": ".py",
   "mimetype": "text/x-python",
   "name": "python",
   "nbconvert_exporter": "python",
   "pygments_lexer": "ipython3",
   "version": "3.6.4"
  }
 },
 "nbformat": 4,
 "nbformat_minor": 2
}

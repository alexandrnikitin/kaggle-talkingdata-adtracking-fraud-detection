{
 "cells": [
  {
   "cell_type": "code",
   "execution_count": 1,
   "metadata": {},
   "outputs": [],
   "source": [
    "import os\n",
    "import gc\n",
    "from glob import glob\n",
    "from itertools import combinations\n",
    "import pandas as pd"
   ]
  },
  {
   "cell_type": "code",
   "execution_count": 2,
   "metadata": {},
   "outputs": [],
   "source": [
    "input_file = \"../data/raw/train_test.hdf.compress\"\n",
    "output_dir = \"../data/interim/partitioned_all\"\n",
    "\n",
    "def partition_by(df, column, npartitions):\n",
    "    directory = f\"{output_dir}/{column}\"\n",
    "    if not os.path.exists(directory): os.makedirs(directory)\n",
    "    to_write=list(df.columns)\n",
    "    \n",
    "    df['npartition'] = df[column].apply(hash) % npartitions\n",
    "    df.groupby('npartition').apply(lambda x: x[to_write].to_hdf(f\"{directory}/train_{x.name}.hdf.compress\", 'train', mode='w', complib='blosc', fletcher32=True, complevel=9))\n",
    "    del df['npartition']\n",
    "\n",
    "def partition_by2(df, t, npartitions):\n",
    "    column = f\"{t[0]}_{t[1]}\"\n",
    "    directory = f\"{output_dir}/{column}\"\n",
    "    if not os.path.exists(directory): os.makedirs(directory)\n",
    "    to_write=list(df.columns)\n",
    "    to_write.append(column)\n",
    "\n",
    "    df[column] = df[t[0]].astype(str) + \"_\" + df[t[1]].astype(str)\n",
    "    df['npartition'] = df[column].apply(hash) % npartitions\n",
    "    df.groupby('npartition').apply(lambda x: x[to_write].to_hdf(f\"{directory}/train_{x.name}.hdf.compress\", 'train', mode='w', complib='blosc', fletcher32=True, complevel=9))\n",
    "    del df['npartition'], df[column]\n",
    "\n",
    "def partition_by3(df, t, npartitions):\n",
    "    column = f\"{t[0]}_{t[1]}_{t[2]}\"\n",
    "    directory = f\"{output_dir}/{column}\"\n",
    "    if not os.path.exists(directory): os.makedirs(directory)\n",
    "    to_write=list(df.columns)\n",
    "    to_write.append(column)\n",
    "    \n",
    "    df[column] = df[t[0]].astype(str) + \"_\" + df[t[1]].astype(str) + \"_\" + df[t[2]].astype(str)\n",
    "    df['npartition'] = df[column].apply(hash) % npartitions\n",
    "    df.groupby('npartition').apply(lambda x: x[to_write].to_hdf(f\"{directory}/train_{x.name}.hdf.compress\", 'train', mode='w', complib='blosc', fletcher32=True, complevel=9))\n",
    "    del df['npartition'], df[column]"
   ]
  },
  {
   "cell_type": "code",
   "execution_count": 3,
   "metadata": {},
   "outputs": [
    {
     "name": "stdout",
     "output_type": "stream",
     "text": [
      "Processing ('app',)\n",
      "Processing ('os',)\n",
      "Processing ('channel',)\n",
      "Processing ('ip',)\n",
      "Processing ('hour',)\n",
      "Processing ('app', 'device')\n",
      "Processing ('app', 'os')\n",
      "Processing ('app', 'channel')\n",
      "Processing ('app', 'hour')\n",
      "Processing ('device', 'os')\n",
      "Processing ('device', 'channel')\n",
      "Processing ('device', 'hour')\n",
      "Processing ('os', 'channel')\n",
      "Processing ('os', 'hour')\n",
      "Processing ('channel', 'hour')\n",
      "Processing ('app', 'device', 'os')\n",
      "Processing ('app', 'device', 'channel')\n",
      "Processing ('app', 'device', 'hour')\n",
      "Processing ('app', 'os', 'channel')\n",
      "Processing ('app', 'os', 'hour')\n",
      "Processing ('app', 'channel', 'hour')\n",
      "Processing ('device', 'os', 'channel')\n",
      "Processing ('device', 'os', 'hour')\n",
      "Processing ('device', 'channel', 'hour')\n",
      "Processing ('os', 'channel', 'hour')\n"
     ]
    }
   ],
   "source": [
    "npartitions = 128\n",
    "target_entities = ['app', 'device', 'os', 'channel', 'ip', 'hour']\n",
    "\n",
    "df = pd.read_hdf(input_file)\n",
    "df['hour'] = df['click_time'].dt.hour\n",
    "\n",
    "for t in combinations(target_entities, 1):\n",
    "    if 'device' in t: continue\n",
    "    print(f\"Processing {t}\")\n",
    "    partition_by(df, t[0], npartitions)\n",
    "    gc.collect()\n",
    "\n",
    "for t in combinations(target_entities, 2):\n",
    "    if 'ip' in t: continue\n",
    "    print(f\"Processing {t}\")\n",
    "    partition_by2(df, t, npartitions)\n",
    "    gc.collect()\n",
    "\n",
    "for t in combinations(target_entities, 3):\n",
    "    if 'ip' in t: continue\n",
    "    print(f\"Processing {t}\")\n",
    "    partition_by3(df, t, npartitions)\n",
    "    gc.collect()"
   ]
  },
  {
   "cell_type": "code",
   "execution_count": 6,
   "metadata": {},
   "outputs": [
    {
     "data": {
      "text/plain": [
       "8"
      ]
     },
     "execution_count": 6,
     "metadata": {},
     "output_type": "execute_result"
    }
   ],
   "source": [
    "len(pd.read_hdf('../data/interim/partitioned2/channel_ip/train_0.hdf.compress'))"
   ]
  },
  {
   "cell_type": "code",
   "execution_count": null,
   "metadata": {},
   "outputs": [],
   "source": []
  }
 ],
 "metadata": {
  "kernelspec": {
   "display_name": "Python 3",
   "language": "python",
   "name": "python3"
  },
  "language_info": {
   "codemirror_mode": {
    "name": "ipython",
    "version": 3
   },
   "file_extension": ".py",
   "mimetype": "text/x-python",
   "name": "python",
   "nbconvert_exporter": "python",
   "pygments_lexer": "ipython3",
   "version": "3.6.4"
  }
 },
 "nbformat": 4,
 "nbformat_minor": 2
}

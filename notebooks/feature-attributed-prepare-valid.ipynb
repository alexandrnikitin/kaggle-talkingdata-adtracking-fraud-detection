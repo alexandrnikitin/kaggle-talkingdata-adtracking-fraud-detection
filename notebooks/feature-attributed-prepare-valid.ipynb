{
 "cells": [
  {
   "cell_type": "code",
   "execution_count": 1,
   "metadata": {},
   "outputs": [],
   "source": [
    "import gc\n",
    "import os\n",
    "\n",
    "import pandas as pd\n",
    "\n",
    "from glob import glob\n",
    "\n",
    "pd.set_option('display.max_rows', 500)"
   ]
  },
  {
   "cell_type": "code",
   "execution_count": 7,
   "metadata": {},
   "outputs": [
    {
     "data": {
      "text/plain": [
       "['../data/interim/features/app/features_2017-11-08_1700_1day_attributed.csv',\n",
       " '../data/interim/features/channel/features_2017-11-08_1700_1day_attributed.csv',\n",
       " '../data/interim/features/device/features_2017-11-08_1700_1day_attributed.csv',\n",
       " '../data/interim/features/os/features_2017-11-08_1700_1day_attributed.csv']"
      ]
     },
     "execution_count": 7,
     "metadata": {},
     "output_type": "execute_result"
    }
   ],
   "source": [
    "sorted(glob(f\"../data/interim/features/*/features_2017-11-08_*.csv\"))"
   ]
  },
  {
   "cell_type": "code",
   "execution_count": 6,
   "metadata": {},
   "outputs": [
    {
     "data": {
      "text/plain": [
       "['../data/interim/train_2017-11-06_1400.csv',\n",
       " '../data/interim/train_2017-11-06_1500.csv',\n",
       " '../data/interim/train_2017-11-06_1600.csv',\n",
       " '../data/interim/train_2017-11-06_1700.csv',\n",
       " '../data/interim/train_2017-11-06_1800.csv',\n",
       " '../data/interim/train_2017-11-06_1900.csv',\n",
       " '../data/interim/train_2017-11-06_2000.csv',\n",
       " '../data/interim/train_2017-11-06_2100.csv',\n",
       " '../data/interim/train_2017-11-06_2200.csv',\n",
       " '../data/interim/train_2017-11-06_2300.csv',\n",
       " '../data/interim/train_2017-11-07_0000.csv',\n",
       " '../data/interim/train_2017-11-07_0100.csv',\n",
       " '../data/interim/train_2017-11-07_0200.csv',\n",
       " '../data/interim/train_2017-11-07_0300.csv',\n",
       " '../data/interim/train_2017-11-07_0400.csv',\n",
       " '../data/interim/train_2017-11-07_0500.csv',\n",
       " '../data/interim/train_2017-11-07_0600.csv',\n",
       " '../data/interim/train_2017-11-07_0700.csv',\n",
       " '../data/interim/train_2017-11-07_0800.csv',\n",
       " '../data/interim/train_2017-11-07_0900.csv',\n",
       " '../data/interim/train_2017-11-07_1000.csv',\n",
       " '../data/interim/train_2017-11-07_1100.csv',\n",
       " '../data/interim/train_2017-11-07_1200.csv',\n",
       " '../data/interim/train_2017-11-07_1300.csv',\n",
       " '../data/interim/train_2017-11-07_1400.csv',\n",
       " '../data/interim/train_2017-11-07_1500.csv',\n",
       " '../data/interim/train_2017-11-07_1600.csv',\n",
       " '../data/interim/train_2017-11-07_1700.csv',\n",
       " '../data/interim/train_2017-11-07_1800.csv',\n",
       " '../data/interim/train_2017-11-07_1900.csv',\n",
       " '../data/interim/train_2017-11-07_2000.csv',\n",
       " '../data/interim/train_2017-11-07_2100.csv',\n",
       " '../data/interim/train_2017-11-07_2200.csv',\n",
       " '../data/interim/train_2017-11-07_2300.csv',\n",
       " '../data/interim/train_2017-11-08_0000.csv',\n",
       " '../data/interim/train_2017-11-08_0100.csv',\n",
       " '../data/interim/train_2017-11-08_0200.csv',\n",
       " '../data/interim/train_2017-11-08_0300.csv',\n",
       " '../data/interim/train_2017-11-08_0400.csv',\n",
       " '../data/interim/train_2017-11-08_0500.csv',\n",
       " '../data/interim/train_2017-11-08_0600.csv',\n",
       " '../data/interim/train_2017-11-08_0700.csv',\n",
       " '../data/interim/train_2017-11-08_0800.csv',\n",
       " '../data/interim/train_2017-11-08_0900.csv',\n",
       " '../data/interim/train_2017-11-08_1000.csv',\n",
       " '../data/interim/train_2017-11-08_1100.csv',\n",
       " '../data/interim/train_2017-11-08_1200.csv',\n",
       " '../data/interim/train_2017-11-08_1300.csv',\n",
       " '../data/interim/train_2017-11-08_1400.csv',\n",
       " '../data/interim/train_2017-11-08_1500.csv',\n",
       " '../data/interim/train_2017-11-08_1600.csv',\n",
       " '../data/interim/train_2017-11-08_1700.csv',\n",
       " '../data/interim/train_2017-11-08_1800.csv',\n",
       " '../data/interim/train_2017-11-08_1900.csv',\n",
       " '../data/interim/train_2017-11-08_2000.csv',\n",
       " '../data/interim/train_2017-11-08_2100.csv',\n",
       " '../data/interim/train_2017-11-08_2200.csv',\n",
       " '../data/interim/train_2017-11-08_2300.csv',\n",
       " '../data/interim/train_2017-11-09_0000.csv',\n",
       " '../data/interim/train_2017-11-09_0100.csv',\n",
       " '../data/interim/train_2017-11-09_0200.csv',\n",
       " '../data/interim/train_2017-11-09_0300.csv',\n",
       " '../data/interim/train_2017-11-09_0400.csv',\n",
       " '../data/interim/train_2017-11-09_0500.csv',\n",
       " '../data/interim/train_2017-11-09_0600.csv',\n",
       " '../data/interim/train_2017-11-09_0700.csv',\n",
       " '../data/interim/train_2017-11-09_0800.csv',\n",
       " '../data/interim/train_2017-11-09_0900.csv',\n",
       " '../data/interim/train_2017-11-09_1000.csv',\n",
       " '../data/interim/train_2017-11-09_1100.csv',\n",
       " '../data/interim/train_2017-11-09_1200.csv',\n",
       " '../data/interim/train_2017-11-09_1300.csv',\n",
       " '../data/interim/train_2017-11-09_1400.csv',\n",
       " '../data/interim/train_2017-11-09_1500.csv',\n",
       " '../data/interim/train_2017-11-09_1600.csv']"
      ]
     },
     "execution_count": 6,
     "metadata": {},
     "output_type": "execute_result"
    }
   ],
   "source": [
    "sorted(glob(f\"../data/interim/train_2017-11-0*00.csv\"))"
   ]
  },
  {
   "cell_type": "code",
   "execution_count": 3,
   "metadata": {},
   "outputs": [],
   "source": [
    "dtypes = {\n",
    "    'ip': 'uint32',\n",
    "    'app': 'uint16',\n",
    "    'device': 'uint16',\n",
    "    'os': 'uint16',\n",
    "    'channel': 'uint16',\n",
    "    'is_attributed': 'uint8'\n",
    "}\n",
    "to_read = ['app', 'device', 'os', 'channel', 'is_attributed']\n",
    "\n",
    "target_entities = ['app', 'device', 'os', 'channel']"
   ]
  },
  {
   "cell_type": "code",
   "execution_count": 8,
   "metadata": {},
   "outputs": [],
   "source": [
    "train_files = [\n",
    "    '../data/interim/train_2017-11-09_0400.csv'\n",
    "]"
   ]
  },
  {
   "cell_type": "code",
   "execution_count": 9,
   "metadata": {},
   "outputs": [
    {
     "name": "stdout",
     "output_type": "stream",
     "text": [
      "Writing ../data/interim/combined/train_2017-11-09_0400_attributed.csv\n"
     ]
    }
   ],
   "source": [
    "for train_file in train_files:\n",
    "    df_train = pd.read_csv(train_file, usecols=to_read, dtype=dtypes)\n",
    "    name, ext = os.path.splitext(os.path.basename(train_file))\n",
    "    for target_entity in target_entities:\n",
    "        feature_files = sorted(glob(f\"../data/interim/features/{target_entity}/features_2017-11-08_*.csv\"))\n",
    "        for feature_file in feature_files:\n",
    "            df_feature = pd.read_csv(feature_file)\n",
    "            df_feature = df_feature.set_index(target_entity)\n",
    "            df_train = df_train.join(df_feature, on=target_entity)\n",
    "            del df_feature\n",
    "            \n",
    "    print(f\"Writing ../data/interim/combined/{name}_attributed{ext}.gz\")\n",
    "    df_train.to_csv(f\"../data/interim/combined/{name}_attributed{ext}.gz\", index=False, compression='gzip')\n",
    "    del df_train\n",
    "    gc.collect()"
   ]
  },
  {
   "cell_type": "code",
   "execution_count": null,
   "metadata": {},
   "outputs": [],
   "source": [
    "df = pd.read_csv('../data/interim/combined/train_2017-11-09_0400_attributed.csv.gz')\n",
    "df.head()"
   ]
  },
  {
   "cell_type": "code",
   "execution_count": 10,
   "metadata": {},
   "outputs": [],
   "source": [
    "train_feature_files = [\n",
    "    '../data/interim/combined/train_2017-11-07_1700.csv',\n",
    "    '../data/interim/combined/train_2017-11-07_1800.csv',\n",
    "    '../data/interim/combined/train_2017-11-07_1900.csv',\n",
    "    '../data/interim/combined/train_2017-11-07_2000.csv',\n",
    "    '../data/interim/combined/train_2017-11-07_2100.csv',\n",
    "    '../data/interim/combined/train_2017-11-07_2200.csv',\n",
    "    '../data/interim/combined/train_2017-11-07_2300.csv',\n",
    "    '../data/interim/combined/train_2017-11-08_0000.csv',\n",
    "    '../data/interim/combined/train_2017-11-08_0100.csv',\n",
    "    '../data/interim/combined/train_2017-11-08_0200.csv',\n",
    "    '../data/interim/combined/train_2017-11-08_0300.csv',\n",
    "    '../data/interim/combined/train_2017-11-08_0400.csv',\n",
    "    '../data/interim/combined/train_2017-11-08_0500.csv',\n",
    "    '../data/interim/combined/train_2017-11-08_0600.csv',\n",
    "    '../data/interim/combined/train_2017-11-08_0700.csv',\n",
    "    '../data/interim/combined/train_2017-11-08_0800.csv',\n",
    "    '../data/interim/combined/train_2017-11-08_0900.csv',\n",
    "    '../data/interim/combined/train_2017-11-08_1000.csv',\n",
    "    '../data/interim/combined/train_2017-11-08_1100.csv',\n",
    "    '../data/interim/combined/train_2017-11-08_1200.csv',\n",
    "    '../data/interim/combined/train_2017-11-08_1300.csv',\n",
    "    '../data/interim/combined/train_2017-11-08_1400.csv',\n",
    "    '../data/interim/combined/train_2017-11-08_1500.csv',\n",
    "    '../data/interim/combined/train_2017-11-08_1600.csv'\n",
    "]"
   ]
  },
  {
   "cell_type": "code",
   "execution_count": 11,
   "metadata": {},
   "outputs": [],
   "source": [
    "df_train = pd.concat([pd.read_csv(f, dtype=dtypes) for f in train_feature_files], ignore_index=True)"
   ]
  },
  {
   "cell_type": "code",
   "execution_count": null,
   "metadata": {},
   "outputs": [
    {
     "data": {
      "text/plain": [
       "Index(['app', 'device', 'os', 'channel', 'is_attributed',\n",
       "       'PERCENT_TRUE(clicks.is_attributed)_app_1day',\n",
       "       'TIME_SINCE_LAST(clicks.click_time)_app_1day',\n",
       "       'AVG_TIME_BETWEEN(clicks.click_time)_app_1day',\n",
       "       'MODE(clicks.ip)_app_1day', 'MODE(clicks.device)_app_1day',\n",
       "       'MODE(clicks.os)_app_1day', 'MODE(clicks.channel)_app_1day',\n",
       "       'COUNT(clicks)_app_1day',\n",
       "       'TIME_SINCE_LAST(clicks.click_time WHERE is_attributed = True)_app_1day',\n",
       "       'AVG_TIME_BETWEEN(clicks.click_time WHERE is_attributed = True)_app_1day',\n",
       "       'MODE(clicks.ip WHERE is_attributed = True)_app_1day',\n",
       "       'MODE(clicks.device WHERE is_attributed = True)_app_1day',\n",
       "       'MODE(clicks.os WHERE is_attributed = True)_app_1day',\n",
       "       'MODE(clicks.channel WHERE is_attributed = True)_app_1day',\n",
       "       'MODE(clicks.HOUR(click_time))_app_1day',\n",
       "       'MODE(clicks.HOUR(click_time) WHERE is_attributed = True)_app_1day',\n",
       "       'COUNT(clicks WHERE is_attributed = True)_app_1day',\n",
       "       'PERCENT_TRUE(clicks.is_attributed)_device_1day',\n",
       "       'TIME_SINCE_LAST(clicks.click_time)_device_1day',\n",
       "       'AVG_TIME_BETWEEN(clicks.click_time)_device_1day',\n",
       "       'MODE(clicks.ip)_device_1day', 'MODE(clicks.app)_device_1day',\n",
       "       'MODE(clicks.os)_device_1day', 'MODE(clicks.channel)_device_1day',\n",
       "       'COUNT(clicks)_device_1day',\n",
       "       'TIME_SINCE_LAST(clicks.click_time WHERE is_attributed = True)_device_1day',\n",
       "       'AVG_TIME_BETWEEN(clicks.click_time WHERE is_attributed = True)_device_1day',\n",
       "       'MODE(clicks.ip WHERE is_attributed = True)_device_1day',\n",
       "       'MODE(clicks.app WHERE is_attributed = True)_device_1day',\n",
       "       'MODE(clicks.os WHERE is_attributed = True)_device_1day',\n",
       "       'MODE(clicks.channel WHERE is_attributed = True)_device_1day',\n",
       "       'MODE(clicks.HOUR(click_time))_device_1day',\n",
       "       'MODE(clicks.HOUR(click_time) WHERE is_attributed = True)_device_1day',\n",
       "       'COUNT(clicks WHERE is_attributed = True)_device_1day',\n",
       "       'PERCENT_TRUE(clicks.is_attributed)_os_1day',\n",
       "       'TIME_SINCE_LAST(clicks.click_time)_os_1day',\n",
       "       'AVG_TIME_BETWEEN(clicks.click_time)_os_1day',\n",
       "       'MODE(clicks.ip)_os_1day', 'MODE(clicks.app)_os_1day',\n",
       "       'MODE(clicks.device)_os_1day', 'MODE(clicks.channel)_os_1day',\n",
       "       'COUNT(clicks)_os_1day',\n",
       "       'TIME_SINCE_LAST(clicks.click_time WHERE is_attributed = True)_os_1day',\n",
       "       'AVG_TIME_BETWEEN(clicks.click_time WHERE is_attributed = True)_os_1day',\n",
       "       'MODE(clicks.ip WHERE is_attributed = True)_os_1day',\n",
       "       'MODE(clicks.app WHERE is_attributed = True)_os_1day',\n",
       "       'MODE(clicks.device WHERE is_attributed = True)_os_1day',\n",
       "       'MODE(clicks.channel WHERE is_attributed = True)_os_1day',\n",
       "       'MODE(clicks.HOUR(click_time))_os_1day',\n",
       "       'MODE(clicks.HOUR(click_time) WHERE is_attributed = True)_os_1day',\n",
       "       'COUNT(clicks WHERE is_attributed = True)_os_1day',\n",
       "       'PERCENT_TRUE(clicks.is_attributed)_channel_1day',\n",
       "       'TIME_SINCE_LAST(clicks.click_time)_channel_1day',\n",
       "       'AVG_TIME_BETWEEN(clicks.click_time)_channel_1day',\n",
       "       'MODE(clicks.ip)_channel_1day', 'MODE(clicks.app)_channel_1day',\n",
       "       'MODE(clicks.device)_channel_1day', 'MODE(clicks.os)_channel_1day',\n",
       "       'COUNT(clicks)_channel_1day',\n",
       "       'TIME_SINCE_LAST(clicks.click_time WHERE is_attributed = True)_channel_1day',\n",
       "       'AVG_TIME_BETWEEN(clicks.click_time WHERE is_attributed = True)_channel_1day',\n",
       "       'MODE(clicks.ip WHERE is_attributed = True)_channel_1day',\n",
       "       'MODE(clicks.app WHERE is_attributed = True)_channel_1day',\n",
       "       'MODE(clicks.device WHERE is_attributed = True)_channel_1day',\n",
       "       'MODE(clicks.os WHERE is_attributed = True)_channel_1day',\n",
       "       'MODE(clicks.HOUR(click_time))_channel_1day',\n",
       "       'MODE(clicks.HOUR(click_time) WHERE is_attributed = True)_channel_1day',\n",
       "       'COUNT(clicks WHERE is_attributed = True)_channel_1day'],\n",
       "      dtype='object')"
      ]
     },
     "execution_count": 12,
     "metadata": {},
     "output_type": "execute_result"
    }
   ],
   "source": [
    "df_train.columns"
   ]
  },
  {
   "cell_type": "code",
   "execution_count": null,
   "metadata": {},
   "outputs": [],
   "source": [
    "df_train.to_csv('../data/processed/train_2017-11-08_1600.csv', index=False)"
   ]
  },
  {
   "cell_type": "code",
   "execution_count": null,
   "metadata": {},
   "outputs": [],
   "source": []
  }
 ],
 "metadata": {
  "kernelspec": {
   "display_name": "Python 3",
   "language": "python",
   "name": "python3"
  },
  "language_info": {
   "codemirror_mode": {
    "name": "ipython",
    "version": 3
   },
   "file_extension": ".py",
   "mimetype": "text/x-python",
   "name": "python",
   "nbconvert_exporter": "python",
   "pygments_lexer": "ipython3",
   "version": "3.6.4"
  }
 },
 "nbformat": 4,
 "nbformat_minor": 2
}

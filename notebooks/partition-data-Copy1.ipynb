{
 "cells": [
  {
   "cell_type": "code",
   "execution_count": 4,
   "metadata": {},
   "outputs": [],
   "source": [
    "from itertools import combinations"
   ]
  },
  {
   "cell_type": "code",
   "execution_count": 16,
   "metadata": {},
   "outputs": [
    {
     "name": "stdout",
     "output_type": "stream",
     "text": [
      "('ip',)\n",
      "('channel',)\n",
      "('app',)\n",
      "('device',)\n",
      "('os',)\n"
     ]
    }
   ],
   "source": [
    "target_entities = ['ip', 'channel', 'app', 'device', 'os']\n",
    "for p in combinations(target_entities, 1):\n",
    "    print(p)"
   ]
  },
  {
   "cell_type": "code",
   "execution_count": 2,
   "metadata": {},
   "outputs": [],
   "source": [
    "input_file = \"../data/raw/train.hdf.compress\"\n",
    "output_dir = \"../data/interim/partitioned2\"\n",
    "\n",
    "dtypes = {\n",
    "    'ip': 'uint32',\n",
    "    'app': 'uint16',\n",
    "    'device': 'uint16',\n",
    "    'os': 'uint16',\n",
    "    'channel': 'uint16',\n",
    "    'is_attributed': 'uint8'\n",
    "}\n",
    "\n",
    "def partition_by(df, column, npartitions):\n",
    "    directory = f\"{output_dir}/{column}\"\n",
    "    to_write=list(df)\n",
    "    if not os.path.exists(directory):\n",
    "        os.makedirs(directory)\n",
    "    df['npartition'] = df[column] % npartitions\n",
    "    df.groupby('npartition').apply(lambda x: x[to_write].to_hdf(f\"{directory}/train_{x.name}.hdf.compress\", 'train', mode='w', complib='blosc', fletcher32=True))\n",
    "    del df['npartition']"
   ]
  },
  {
   "cell_type": "code",
   "execution_count": null,
   "metadata": {},
   "outputs": [],
   "source": [
    "df = pd.read_hdf(input_file)"
   ]
  },
  {
   "cell_type": "code",
   "execution_count": null,
   "metadata": {},
   "outputs": [],
   "source": [
    "%%time\n",
    "# partition_by(df, 'ip', 64)\n",
    "# partition_by(df, 'app', 64)\n",
    "# partition_by(df, 'device', 64)\n",
    "# partition_by(df, 'os', 64)\n",
    "partition_by(df, 'channel', 64)"
   ]
  },
  {
   "cell_type": "code",
   "execution_count": null,
   "metadata": {},
   "outputs": [],
   "source": [
    "target_entities = ['ip', 'channel', 'app', 'device', 'os']"
   ]
  }
 ],
 "metadata": {
  "kernelspec": {
   "display_name": "Python 3",
   "language": "python",
   "name": "python3"
  },
  "language_info": {
   "codemirror_mode": {
    "name": "ipython",
    "version": 3
   },
   "file_extension": ".py",
   "mimetype": "text/x-python",
   "name": "python",
   "nbconvert_exporter": "python",
   "pygments_lexer": "ipython3",
   "version": "3.6.4"
  }
 },
 "nbformat": 4,
 "nbformat_minor": 2
}

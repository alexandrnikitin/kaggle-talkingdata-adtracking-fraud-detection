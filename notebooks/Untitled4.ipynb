{
 "cells": [
  {
   "cell_type": "code",
   "execution_count": 2,
   "metadata": {},
   "outputs": [],
   "source": [
    "import pandas as pd\n",
    "from glob import glob"
   ]
  },
  {
   "cell_type": "code",
   "execution_count": 3,
   "metadata": {},
   "outputs": [
    {
     "data": {
      "text/plain": [
       "['../data/interim/features/app/features_2017-11-07_1700_7day_attributed5.hdf.compress',\n",
       " '../data/interim/features/app/features_2017-11-08_1700_7day_attributed5.hdf.compress',\n",
       " '../data/interim/features/app/features_2017-11-09_1700_7day_attributed5.hdf.compress',\n",
       " '../data/interim/features/app_channel/features_2017-11-07_1700_7day_attributed5.hdf.compress',\n",
       " '../data/interim/features/app_channel/features_2017-11-08_1700_7day_attributed5.hdf.compress',\n",
       " '../data/interim/features/app_channel/features_2017-11-09_1700_7day_attributed5.hdf.compress',\n",
       " '../data/interim/features/app_device/features_2017-11-07_1700_7day_attributed5.hdf.compress',\n",
       " '../data/interim/features/app_device/features_2017-11-08_1700_7day_attributed5.hdf.compress',\n",
       " '../data/interim/features/app_device/features_2017-11-09_1700_7day_attributed5.hdf.compress',\n",
       " '../data/interim/features/app_device_channel/features_2017-11-07_1700_7day_attributed5.hdf.compress',\n",
       " '../data/interim/features/app_device_channel/features_2017-11-08_1700_7day_attributed5.hdf.compress',\n",
       " '../data/interim/features/app_device_channel/features_2017-11-09_1700_7day_attributed5.hdf.compress',\n",
       " '../data/interim/features/app_device_os/features_2017-11-07_1700_7day_attributed5.hdf.compress',\n",
       " '../data/interim/features/app_device_os/features_2017-11-08_1700_7day_attributed5.hdf.compress',\n",
       " '../data/interim/features/app_device_os/features_2017-11-09_1700_7day_attributed5.hdf.compress',\n",
       " '../data/interim/features/app_os/features_2017-11-07_1700_7day_attributed5.hdf.compress',\n",
       " '../data/interim/features/app_os/features_2017-11-08_1700_7day_attributed5.hdf.compress',\n",
       " '../data/interim/features/app_os/features_2017-11-09_1700_7day_attributed5.hdf.compress',\n",
       " '../data/interim/features/app_os_channel/features_2017-11-07_1700_7day_attributed5.hdf.compress',\n",
       " '../data/interim/features/app_os_channel/features_2017-11-08_1700_7day_attributed5.hdf.compress',\n",
       " '../data/interim/features/app_os_channel/features_2017-11-09_1700_7day_attributed5.hdf.compress',\n",
       " '../data/interim/features/channel/features_2017-11-07_1700_7day_attributed5.hdf.compress',\n",
       " '../data/interim/features/channel/features_2017-11-08_1700_7day_attributed5.hdf.compress',\n",
       " '../data/interim/features/channel/features_2017-11-09_1700_7day_attributed5.hdf.compress',\n",
       " '../data/interim/features/device/features_2017-11-07_1700_7day_attributed5.hdf.compress',\n",
       " '../data/interim/features/device_channel/features_2017-11-07_1700_7day_attributed5.hdf.compress',\n",
       " '../data/interim/features/device_channel/features_2017-11-08_1700_7day_attributed5.hdf.compress',\n",
       " '../data/interim/features/device_channel/features_2017-11-09_1700_7day_attributed5.hdf.compress',\n",
       " '../data/interim/features/device_os/features_2017-11-07_1700_7day_attributed5.hdf.compress',\n",
       " '../data/interim/features/device_os/features_2017-11-08_1700_7day_attributed5.hdf.compress',\n",
       " '../data/interim/features/device_os/features_2017-11-09_1700_7day_attributed5.hdf.compress',\n",
       " '../data/interim/features/device_os_channel/features_2017-11-07_1700_7day_attributed5.hdf.compress',\n",
       " '../data/interim/features/device_os_channel/features_2017-11-08_1700_7day_attributed5.hdf.compress',\n",
       " '../data/interim/features/device_os_channel/features_2017-11-09_1700_7day_attributed5.hdf.compress',\n",
       " '../data/interim/features/ip/features_2017-11-07_1700_7day_attributed5.hdf.compress',\n",
       " '../data/interim/features/ip/features_2017-11-08_1700_7day_attributed5.hdf.compress',\n",
       " '../data/interim/features/ip/features_2017-11-09_1700_7day_attributed5.hdf.compress',\n",
       " '../data/interim/features/os/features_2017-11-07_1700_7day_attributed5.hdf.compress',\n",
       " '../data/interim/features/os/features_2017-11-08_1700_7day_attributed5.hdf.compress',\n",
       " '../data/interim/features/os/features_2017-11-09_1700_7day_attributed5.hdf.compress',\n",
       " '../data/interim/features/os_channel/features_2017-11-07_1700_7day_attributed5.hdf.compress',\n",
       " '../data/interim/features/os_channel/features_2017-11-08_1700_7day_attributed5.hdf.compress',\n",
       " '../data/interim/features/os_channel/features_2017-11-09_1700_7day_attributed5.hdf.compress']"
      ]
     },
     "execution_count": 3,
     "metadata": {},
     "output_type": "execute_result"
    }
   ],
   "source": [
    "sorted(glob(\"../data/interim/features/*/*attributed5.hdf.compress\"))"
   ]
  },
  {
   "cell_type": "code",
   "execution_count": 4,
   "metadata": {},
   "outputs": [],
   "source": [
    "df = pd.read_hdf('../data/interim/features/app/features_2017-11-07_1700_7day_attributed5.hdf.compress')"
   ]
  },
  {
   "cell_type": "code",
   "execution_count": 6,
   "metadata": {},
   "outputs": [
    {
     "data": {
      "text/plain": [
       "Index(['COUNT(clicks)_app_7days',\n",
       "       'PERCENT_TRUE(clicks.is_attributed)_app_7days',\n",
       "       'AVG_TIME_BETWEEN(clicks.click_time)_app_7days',\n",
       "       'COUNT(clicks WHERE hour = 11)_app_7days',\n",
       "       'COUNT(clicks WHERE hour = 23)_app_7days',\n",
       "       'COUNT(clicks WHERE hour = 0)_app_7days',\n",
       "       'COUNT(clicks WHERE hour = 2)_app_7days',\n",
       "       'COUNT(clicks WHERE hour = 13)_app_7days',\n",
       "       'COUNT(clicks WHERE hour = 6)_app_7days',\n",
       "       'COUNT(clicks WHERE hour = 15)_app_7days',\n",
       "       'COUNT(clicks WHERE hour = 21)_app_7days',\n",
       "       'COUNT(clicks WHERE hour = 19)_app_7days',\n",
       "       'COUNT(clicks WHERE hour = 22)_app_7days',\n",
       "       'COUNT(clicks WHERE hour = 8)_app_7days',\n",
       "       'COUNT(clicks WHERE is_attributed = True)_app_7days',\n",
       "       'COUNT(clicks WHERE hour = 20)_app_7days',\n",
       "       'COUNT(clicks WHERE hour = 5)_app_7days',\n",
       "       'COUNT(clicks WHERE hour = 9)_app_7days',\n",
       "       'COUNT(clicks WHERE hour = 7)_app_7days',\n",
       "       'COUNT(clicks WHERE hour = 18)_app_7days',\n",
       "       'COUNT(clicks WHERE hour = 17)_app_7days',\n",
       "       'COUNT(clicks WHERE hour = 10)_app_7days',\n",
       "       'COUNT(clicks WHERE hour = 1)_app_7days',\n",
       "       'COUNT(clicks WHERE hour = 16)_app_7days',\n",
       "       'COUNT(clicks WHERE hour = 4)_app_7days',\n",
       "       'COUNT(clicks WHERE hour = 14)_app_7days',\n",
       "       'COUNT(clicks WHERE hour = 3)_app_7days',\n",
       "       'COUNT(clicks WHERE hour = 12)_app_7days',\n",
       "       'PERCENT_TRUE(clicks.is_attributed WHERE hour = 11)_app_7days',\n",
       "       'PERCENT_TRUE(clicks.is_attributed WHERE hour = 23)_app_7days',\n",
       "       'PERCENT_TRUE(clicks.is_attributed WHERE hour = 0)_app_7days',\n",
       "       'PERCENT_TRUE(clicks.is_attributed WHERE hour = 2)_app_7days',\n",
       "       'PERCENT_TRUE(clicks.is_attributed WHERE hour = 13)_app_7days',\n",
       "       'PERCENT_TRUE(clicks.is_attributed WHERE hour = 6)_app_7days',\n",
       "       'PERCENT_TRUE(clicks.is_attributed WHERE hour = 15)_app_7days',\n",
       "       'PERCENT_TRUE(clicks.is_attributed WHERE hour = 21)_app_7days',\n",
       "       'PERCENT_TRUE(clicks.is_attributed WHERE hour = 19)_app_7days',\n",
       "       'PERCENT_TRUE(clicks.is_attributed WHERE hour = 22)_app_7days',\n",
       "       'PERCENT_TRUE(clicks.is_attributed WHERE hour = 8)_app_7days',\n",
       "       'PERCENT_TRUE(clicks.is_attributed WHERE hour = 20)_app_7days',\n",
       "       'PERCENT_TRUE(clicks.is_attributed WHERE hour = 5)_app_7days',\n",
       "       'PERCENT_TRUE(clicks.is_attributed WHERE hour = 9)_app_7days',\n",
       "       'PERCENT_TRUE(clicks.is_attributed WHERE hour = 7)_app_7days',\n",
       "       'PERCENT_TRUE(clicks.is_attributed WHERE hour = 18)_app_7days',\n",
       "       'PERCENT_TRUE(clicks.is_attributed WHERE hour = 17)_app_7days',\n",
       "       'PERCENT_TRUE(clicks.is_attributed WHERE hour = 10)_app_7days',\n",
       "       'PERCENT_TRUE(clicks.is_attributed WHERE hour = 1)_app_7days',\n",
       "       'PERCENT_TRUE(clicks.is_attributed WHERE hour = 16)_app_7days',\n",
       "       'PERCENT_TRUE(clicks.is_attributed WHERE hour = 4)_app_7days',\n",
       "       'PERCENT_TRUE(clicks.is_attributed WHERE hour = 14)_app_7days',\n",
       "       'PERCENT_TRUE(clicks.is_attributed WHERE hour = 3)_app_7days',\n",
       "       'PERCENT_TRUE(clicks.is_attributed WHERE hour = 12)_app_7days',\n",
       "       'AVG_TIME_BETWEEN(clicks.click_time WHERE hour = 11)_app_7days',\n",
       "       'AVG_TIME_BETWEEN(clicks.click_time WHERE hour = 23)_app_7days',\n",
       "       'AVG_TIME_BETWEEN(clicks.click_time WHERE hour = 0)_app_7days',\n",
       "       'AVG_TIME_BETWEEN(clicks.click_time WHERE hour = 2)_app_7days',\n",
       "       'AVG_TIME_BETWEEN(clicks.click_time WHERE hour = 13)_app_7days',\n",
       "       'AVG_TIME_BETWEEN(clicks.click_time WHERE hour = 6)_app_7days',\n",
       "       'AVG_TIME_BETWEEN(clicks.click_time WHERE hour = 15)_app_7days',\n",
       "       'AVG_TIME_BETWEEN(clicks.click_time WHERE hour = 21)_app_7days',\n",
       "       'AVG_TIME_BETWEEN(clicks.click_time WHERE hour = 19)_app_7days',\n",
       "       'AVG_TIME_BETWEEN(clicks.click_time WHERE hour = 22)_app_7days',\n",
       "       'AVG_TIME_BETWEEN(clicks.click_time WHERE hour = 8)_app_7days',\n",
       "       'AVG_TIME_BETWEEN(clicks.click_time WHERE is_attributed = True)_app_7days',\n",
       "       'AVG_TIME_BETWEEN(clicks.click_time WHERE hour = 20)_app_7days',\n",
       "       'AVG_TIME_BETWEEN(clicks.click_time WHERE hour = 5)_app_7days',\n",
       "       'AVG_TIME_BETWEEN(clicks.click_time WHERE hour = 9)_app_7days',\n",
       "       'AVG_TIME_BETWEEN(clicks.click_time WHERE hour = 7)_app_7days',\n",
       "       'AVG_TIME_BETWEEN(clicks.click_time WHERE hour = 18)_app_7days',\n",
       "       'AVG_TIME_BETWEEN(clicks.click_time WHERE hour = 17)_app_7days',\n",
       "       'AVG_TIME_BETWEEN(clicks.click_time WHERE hour = 10)_app_7days',\n",
       "       'AVG_TIME_BETWEEN(clicks.click_time WHERE hour = 1)_app_7days',\n",
       "       'AVG_TIME_BETWEEN(clicks.click_time WHERE hour = 16)_app_7days',\n",
       "       'AVG_TIME_BETWEEN(clicks.click_time WHERE hour = 4)_app_7days',\n",
       "       'AVG_TIME_BETWEEN(clicks.click_time WHERE hour = 14)_app_7days',\n",
       "       'AVG_TIME_BETWEEN(clicks.click_time WHERE hour = 3)_app_7days',\n",
       "       'AVG_TIME_BETWEEN(clicks.click_time WHERE hour = 12)_app_7days',\n",
       "       'SKEW(clicks.hour.COUNT(clicks))_app_7days',\n",
       "       'SKEW(clicks.hour.PERCENT_TRUE(clicks.is_attributed))_app_7days',\n",
       "       'SKEW(clicks.hour.AVG_TIME_BETWEEN(clicks.click_time))_app_7days',\n",
       "       'STD(clicks.hour.COUNT(clicks))_app_7days',\n",
       "       'STD(clicks.hour.PERCENT_TRUE(clicks.is_attributed))_app_7days',\n",
       "       'STD(clicks.hour.AVG_TIME_BETWEEN(clicks.click_time))_app_7days',\n",
       "       'MEDIAN(clicks.hour.COUNT(clicks))_app_7days',\n",
       "       'MEDIAN(clicks.hour.PERCENT_TRUE(clicks.is_attributed))_app_7days',\n",
       "       'MEDIAN(clicks.hour.AVG_TIME_BETWEEN(clicks.click_time))_app_7days'],\n",
       "      dtype='object')"
      ]
     },
     "execution_count": 6,
     "metadata": {},
     "output_type": "execute_result"
    }
   ],
   "source": [
    "df.columns"
   ]
  },
  {
   "cell_type": "code",
   "execution_count": 4,
   "metadata": {},
   "outputs": [],
   "source": [
    "train_summary = pd.read_csv('../data/interim/day_hour_train.csv')"
   ]
  },
  {
   "cell_type": "code",
   "execution_count": 24,
   "metadata": {},
   "outputs": [
    {
     "data": {
      "text/plain": [
       "[datetime.datetime(2017, 11, 7, 17, 0),\n",
       " datetime.datetime(2017, 11, 7, 18, 0),\n",
       " datetime.datetime(2017, 11, 7, 19, 0),\n",
       " datetime.datetime(2017, 11, 7, 20, 0),\n",
       " datetime.datetime(2017, 11, 7, 21, 0),\n",
       " datetime.datetime(2017, 11, 7, 22, 0),\n",
       " datetime.datetime(2017, 11, 7, 23, 0),\n",
       " datetime.datetime(2017, 11, 8, 0, 0),\n",
       " datetime.datetime(2017, 11, 8, 1, 0),\n",
       " datetime.datetime(2017, 11, 8, 2, 0),\n",
       " datetime.datetime(2017, 11, 8, 3, 0),\n",
       " datetime.datetime(2017, 11, 8, 4, 0),\n",
       " datetime.datetime(2017, 11, 8, 5, 0),\n",
       " datetime.datetime(2017, 11, 8, 6, 0),\n",
       " datetime.datetime(2017, 11, 8, 7, 0),\n",
       " datetime.datetime(2017, 11, 8, 8, 0),\n",
       " datetime.datetime(2017, 11, 8, 9, 0),\n",
       " datetime.datetime(2017, 11, 8, 10, 0),\n",
       " datetime.datetime(2017, 11, 8, 11, 0),\n",
       " datetime.datetime(2017, 11, 8, 12, 0),\n",
       " datetime.datetime(2017, 11, 8, 13, 0),\n",
       " datetime.datetime(2017, 11, 8, 14, 0),\n",
       " datetime.datetime(2017, 11, 8, 15, 0),\n",
       " datetime.datetime(2017, 11, 8, 16, 0),\n",
       " datetime.datetime(2017, 11, 8, 17, 0),\n",
       " datetime.datetime(2017, 11, 8, 18, 0),\n",
       " datetime.datetime(2017, 11, 8, 19, 0),\n",
       " datetime.datetime(2017, 11, 8, 20, 0),\n",
       " datetime.datetime(2017, 11, 8, 21, 0),\n",
       " datetime.datetime(2017, 11, 8, 22, 0),\n",
       " datetime.datetime(2017, 11, 8, 23, 0),\n",
       " datetime.datetime(2017, 11, 9, 0, 0),\n",
       " datetime.datetime(2017, 11, 9, 1, 0),\n",
       " datetime.datetime(2017, 11, 9, 2, 0),\n",
       " datetime.datetime(2017, 11, 9, 3, 0),\n",
       " datetime.datetime(2017, 11, 9, 4, 0),\n",
       " datetime.datetime(2017, 11, 9, 5, 0),\n",
       " datetime.datetime(2017, 11, 9, 6, 0),\n",
       " datetime.datetime(2017, 11, 9, 7, 0),\n",
       " datetime.datetime(2017, 11, 9, 8, 0),\n",
       " datetime.datetime(2017, 11, 9, 9, 0),\n",
       " datetime.datetime(2017, 11, 9, 10, 0),\n",
       " datetime.datetime(2017, 11, 9, 11, 0),\n",
       " datetime.datetime(2017, 11, 9, 12, 0),\n",
       " datetime.datetime(2017, 11, 9, 13, 0),\n",
       " datetime.datetime(2017, 11, 9, 14, 0),\n",
       " datetime.datetime(2017, 11, 9, 15, 0),\n",
       " datetime.datetime(2017, 11, 9, 16, 0)]"
      ]
     },
     "execution_count": 24,
     "metadata": {},
     "output_type": "execute_result"
    }
   ],
   "source": [
    "import datetime\n",
    "\n",
    "cutoff_times"
   ]
  },
  {
   "cell_type": "code",
   "execution_count": 17,
   "metadata": {},
   "outputs": [
    {
     "data": {
      "text/plain": [
       "75"
      ]
     },
     "execution_count": 17,
     "metadata": {},
     "output_type": "execute_result"
    }
   ],
   "source": []
  },
  {
   "cell_type": "code",
   "execution_count": 10,
   "metadata": {},
   "outputs": [
    {
     "ename": "IndexError",
     "evalue": "tuple index out of range",
     "output_type": "error",
     "traceback": [
      "\u001b[0;31m---------------------------------------------------------------------------\u001b[0m",
      "\u001b[0;31mIndexError\u001b[0m                                Traceback (most recent call last)",
      "\u001b[0;32m<ipython-input-10-039e42d52a00>\u001b[0m in \u001b[0;36m<module>\u001b[0;34m()\u001b[0m\n\u001b[1;32m      1\u001b[0m \u001b[0;32mfor\u001b[0m \u001b[0mrow\u001b[0m \u001b[0;32min\u001b[0m \u001b[0mtrain_summary\u001b[0m\u001b[0;34m.\u001b[0m\u001b[0miterrows\u001b[0m\u001b[0;34m(\u001b[0m\u001b[0;34m)\u001b[0m\u001b[0;34m:\u001b[0m\u001b[0;34m\u001b[0m\u001b[0m\n\u001b[0;32m----> 2\u001b[0;31m     \u001b[0mprint\u001b[0m\u001b[0;34m(\u001b[0m\u001b[0mrow\u001b[0m\u001b[0;34m[\u001b[0m\u001b[0;36m2\u001b[0m\u001b[0;34m]\u001b[0m\u001b[0;34m)\u001b[0m\u001b[0;34m\u001b[0m\u001b[0m\n\u001b[0m",
      "\u001b[0;31mIndexError\u001b[0m: tuple index out of range"
     ]
    }
   ],
   "source": [
    "for row in train_summary:\n",
    "    print(row[1])"
   ]
  },
  {
   "cell_type": "code",
   "execution_count": 1,
   "metadata": {},
   "outputs": [
    {
     "data": {
      "text/plain": [
       "['app',\n",
       " 'device',\n",
       " 'os',\n",
       " 'channel',\n",
       " 'ip',\n",
       " ['app', 'device'],\n",
       " ['app', 'os'],\n",
       " ['app', 'channel'],\n",
       " ['app', 'ip'],\n",
       " ['device', 'os'],\n",
       " ['device', 'channel'],\n",
       " ['device', 'ip'],\n",
       " ['os', 'channel'],\n",
       " ['os', 'ip']]"
      ]
     },
     "execution_count": 1,
     "metadata": {},
     "output_type": "execute_result"
    }
   ],
   "source": [
    "from itertools import combinations\n",
    "\n",
    "target_entities_init = ['app', 'device', 'os', 'channel', 'ip']\n",
    "target_entities = []\n",
    "\n",
    "for t in combinations(target_entities_init, 1):\n",
    "    target_entities.append(t[0])\n",
    "for t in combinations(target_entities_init, 2):\n",
    "    target_entities.append(list(t))\n",
    "# for t in combinations(target_entities_init, 3):\n",
    "#     target_entities.append(list(t))\n",
    "# for t in combinations(target_entities_init, 4):\n",
    "#     target_entities.append(list(t))\n",
    "\n",
    "target_entities.remove(['channel', 'ip'])\n",
    "target_entities"
   ]
  },
  {
   "cell_type": "code",
   "execution_count": null,
   "metadata": {},
   "outputs": [],
   "source": []
  }
 ],
 "metadata": {
  "kernelspec": {
   "display_name": "Python 3",
   "language": "python",
   "name": "python3"
  },
  "language_info": {
   "codemirror_mode": {
    "name": "ipython",
    "version": 3
   },
   "file_extension": ".py",
   "mimetype": "text/x-python",
   "name": "python",
   "nbconvert_exporter": "python",
   "pygments_lexer": "ipython3",
   "version": "3.6.4"
  }
 },
 "nbformat": 4,
 "nbformat_minor": 2
}

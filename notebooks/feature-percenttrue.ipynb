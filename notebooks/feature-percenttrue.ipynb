{
 "cells": [
  {
   "cell_type": "code",
   "execution_count": 1,
   "metadata": {},
   "outputs": [],
   "source": [
    "import os\n",
    "\n",
    "import numpy as np\n",
    "import pandas as pd\n",
    "import featuretools as ft\n",
    "from featuretools.primitives import *"
   ]
  },
  {
   "cell_type": "code",
   "execution_count": 2,
   "metadata": {},
   "outputs": [],
   "source": [
    "input_feature_file = '../data/interim/train_2017-11-08_0300.csv'\n",
    "input_train_file = '../data/interim/train_2017-11-08_0400.csv'\n",
    "output_train_file = '../data/interim/train_2017-11-08_0400_percent.csv'\n",
    "\n",
    "dtypes = {\n",
    "    'ip': 'uint32',\n",
    "    'app': 'uint16',\n",
    "    'device': 'uint16',\n",
    "    'os': 'uint16',\n",
    "    'channel': 'uint16',\n",
    "    'is_attributed': 'uint8'\n",
    "}\n",
    "to_read = ['ip', 'app', 'device', 'os', 'channel', 'is_attributed', 'click_time']\n",
    "to_parse = ['click_time']\n",
    "df_train_feature = pd.read_csv(input_feature_file, usecols=to_read, dtype=dtypes, parse_dates=to_parse)\n",
    "df_train_feature['id'] = range(len(df_train_feature))"
   ]
  },
  {
   "cell_type": "code",
   "execution_count": 3,
   "metadata": {},
   "outputs": [],
   "source": [
    "es = ft.EntitySet(id='clicks')\n",
    "es = es.entity_from_dataframe(\n",
    "    entity_id='clicks',\n",
    "    dataframe=df_train_feature,\n",
    "    index='id',\n",
    "    time_index='click_time',\n",
    "    variable_types={\n",
    "        'ip': ft.variable_types.Categorical,\n",
    "        'app': ft.variable_types.Categorical,\n",
    "        'device': ft.variable_types.Categorical,\n",
    "        'os': ft.variable_types.Categorical,\n",
    "        'channel': ft.variable_types.Categorical,\n",
    "        'is_attributed': ft.variable_types.Boolean,\n",
    "    }\n",
    ")\n",
    "\n",
    "es = es.normalize_entity(base_entity_id='clicks', new_entity_id='ips', index='ip')\n",
    "es = es.normalize_entity(base_entity_id='clicks', new_entity_id='apps', index='app')\n",
    "es = es.normalize_entity(base_entity_id='clicks', new_entity_id='devices', index='device')\n",
    "es = es.normalize_entity(base_entity_id='clicks', new_entity_id='oses', index='os')\n",
    "es = es.normalize_entity(base_entity_id='clicks', new_entity_id='channels', index='channel')"
   ]
  },
  {
   "cell_type": "code",
   "execution_count": 4,
   "metadata": {},
   "outputs": [],
   "source": [
    "df_train = pd.read_csv(input_train_file, usecols=to_read, dtype=dtypes)"
   ]
  },
  {
   "cell_type": "code",
   "execution_count": 5,
   "metadata": {},
   "outputs": [],
   "source": [
    "def add_percenttrue(df, entity_id, index):\n",
    "    feature_matrix, feature_defs = ft.dfs(\n",
    "        entityset=es,\n",
    "        target_entity=entity_id,\n",
    "        agg_primitives=[PercentTrue],\n",
    "        trans_primitives=[],\n",
    "        max_depth=1)\n",
    "\n",
    "    feature_matrix.columns = [str(col) + f\"_{entity_id}\" for col in feature_matrix.columns]\n",
    "\n",
    "    return df.join(feature_matrix, on=index)"
   ]
  },
  {
   "cell_type": "code",
   "execution_count": 6,
   "metadata": {},
   "outputs": [],
   "source": [
    "df_train = add_percenttrue(df_train, entity_id='ips', index='ip')\n",
    "df_train = add_percenttrue(df_train, entity_id='apps', index='app')\n",
    "df_train = add_percenttrue(df_train, entity_id='devices', index='device')\n",
    "df_train = add_percenttrue(df_train, entity_id='oses', index='os')\n",
    "df_train = add_percenttrue(df_train, entity_id='channels', index='channel')"
   ]
  },
  {
   "cell_type": "code",
   "execution_count": 7,
   "metadata": {},
   "outputs": [],
   "source": [
    "df_train.to_csv(output_train_file, index=False)"
   ]
  },
  {
   "cell_type": "code",
   "execution_count": null,
   "metadata": {},
   "outputs": [],
   "source": []
  }
 ],
 "metadata": {
  "kernelspec": {
   "display_name": "Python 3",
   "language": "python",
   "name": "python3"
  },
  "language_info": {
   "codemirror_mode": {
    "name": "ipython",
    "version": 3
   },
   "file_extension": ".py",
   "mimetype": "text/x-python",
   "name": "python",
   "nbconvert_exporter": "python",
   "pygments_lexer": "ipython3",
   "version": "3.6.4"
  }
 },
 "nbformat": 4,
 "nbformat_minor": 2
}

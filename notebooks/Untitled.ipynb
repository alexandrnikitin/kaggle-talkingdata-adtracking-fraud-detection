{
 "cells": [
  {
   "cell_type": "code",
   "execution_count": 6,
   "metadata": {},
   "outputs": [],
   "source": [
    "import pandas as pd\n",
    "from glob import glob"
   ]
  },
  {
   "cell_type": "code",
   "execution_count": 7,
   "metadata": {},
   "outputs": [
    {
     "data": {
      "text/plain": [
       "['../data/interim/train_2017-11-08_0200_channel_features.csv',\n",
       " '../data/interim/train_2017-11-07_0900_channel_features.csv']"
      ]
     },
     "execution_count": 7,
     "metadata": {},
     "output_type": "execute_result"
    }
   ],
   "source": [
    "glob('../data/interim/train_2017-*_features.csv')"
   ]
  },
  {
   "cell_type": "code",
   "execution_count": 8,
   "metadata": {},
   "outputs": [],
   "source": [
    "df = pd.read_csv('../data/interim/train_2017-11-08_0200_channel_features.csv')"
   ]
  },
  {
   "cell_type": "code",
   "execution_count": 9,
   "metadata": {},
   "outputs": [
    {
     "data": {
      "text/html": [
       "<div>\n",
       "<style scoped>\n",
       "    .dataframe tbody tr th:only-of-type {\n",
       "        vertical-align: middle;\n",
       "    }\n",
       "\n",
       "    .dataframe tbody tr th {\n",
       "        vertical-align: top;\n",
       "    }\n",
       "\n",
       "    .dataframe thead th {\n",
       "        text-align: right;\n",
       "    }\n",
       "</style>\n",
       "<table border=\"1\" class=\"dataframe\">\n",
       "  <thead>\n",
       "    <tr style=\"text-align: right;\">\n",
       "      <th></th>\n",
       "      <th>app</th>\n",
       "      <th>device</th>\n",
       "      <th>os</th>\n",
       "      <th>channel</th>\n",
       "      <th>click_time</th>\n",
       "      <th>is_attributed</th>\n",
       "      <th>COUNT(clicks)</th>\n",
       "      <th>PERCENT_TRUE(clicks.is_attributed)</th>\n",
       "      <th>NUM_UNIQUE(clicks.app)</th>\n",
       "      <th>NUM_UNIQUE(clicks.device)</th>\n",
       "      <th>NUM_UNIQUE(clicks.os)</th>\n",
       "      <th>MODE(clicks.app)</th>\n",
       "      <th>MODE(clicks.device)</th>\n",
       "      <th>MODE(clicks.os)</th>\n",
       "    </tr>\n",
       "  </thead>\n",
       "  <tbody>\n",
       "    <tr>\n",
       "      <th>0</th>\n",
       "      <td>9</td>\n",
       "      <td>1</td>\n",
       "      <td>19</td>\n",
       "      <td>442</td>\n",
       "      <td>2017-11-08 02:00:00</td>\n",
       "      <td>0</td>\n",
       "      <td>54815</td>\n",
       "      <td>0.000511</td>\n",
       "      <td>3.0</td>\n",
       "      <td>2.0</td>\n",
       "      <td>84.0</td>\n",
       "      <td>3.0</td>\n",
       "      <td>1.0</td>\n",
       "      <td>19.0</td>\n",
       "    </tr>\n",
       "    <tr>\n",
       "      <th>1</th>\n",
       "      <td>15</td>\n",
       "      <td>1</td>\n",
       "      <td>19</td>\n",
       "      <td>278</td>\n",
       "      <td>2017-11-08 02:00:00</td>\n",
       "      <td>0</td>\n",
       "      <td>10996</td>\n",
       "      <td>0.000182</td>\n",
       "      <td>1.0</td>\n",
       "      <td>2.0</td>\n",
       "      <td>67.0</td>\n",
       "      <td>15.0</td>\n",
       "      <td>1.0</td>\n",
       "      <td>19.0</td>\n",
       "    </tr>\n",
       "    <tr>\n",
       "      <th>2</th>\n",
       "      <td>9</td>\n",
       "      <td>1</td>\n",
       "      <td>27</td>\n",
       "      <td>244</td>\n",
       "      <td>2017-11-08 02:00:00</td>\n",
       "      <td>0</td>\n",
       "      <td>20441</td>\n",
       "      <td>0.002984</td>\n",
       "      <td>1.0</td>\n",
       "      <td>3.0</td>\n",
       "      <td>70.0</td>\n",
       "      <td>9.0</td>\n",
       "      <td>1.0</td>\n",
       "      <td>19.0</td>\n",
       "    </tr>\n",
       "    <tr>\n",
       "      <th>3</th>\n",
       "      <td>8</td>\n",
       "      <td>1</td>\n",
       "      <td>13</td>\n",
       "      <td>145</td>\n",
       "      <td>2017-11-08 02:00:00</td>\n",
       "      <td>0</td>\n",
       "      <td>48995</td>\n",
       "      <td>0.001061</td>\n",
       "      <td>2.0</td>\n",
       "      <td>3.0</td>\n",
       "      <td>69.0</td>\n",
       "      <td>8.0</td>\n",
       "      <td>1.0</td>\n",
       "      <td>19.0</td>\n",
       "    </tr>\n",
       "    <tr>\n",
       "      <th>4</th>\n",
       "      <td>12</td>\n",
       "      <td>1</td>\n",
       "      <td>20</td>\n",
       "      <td>145</td>\n",
       "      <td>2017-11-08 02:00:00</td>\n",
       "      <td>0</td>\n",
       "      <td>48995</td>\n",
       "      <td>0.001061</td>\n",
       "      <td>2.0</td>\n",
       "      <td>3.0</td>\n",
       "      <td>69.0</td>\n",
       "      <td>8.0</td>\n",
       "      <td>1.0</td>\n",
       "      <td>19.0</td>\n",
       "    </tr>\n",
       "  </tbody>\n",
       "</table>\n",
       "</div>"
      ],
      "text/plain": [
       "   app  device  os  channel           click_time  is_attributed  \\\n",
       "0    9       1  19      442  2017-11-08 02:00:00              0   \n",
       "1   15       1  19      278  2017-11-08 02:00:00              0   \n",
       "2    9       1  27      244  2017-11-08 02:00:00              0   \n",
       "3    8       1  13      145  2017-11-08 02:00:00              0   \n",
       "4   12       1  20      145  2017-11-08 02:00:00              0   \n",
       "\n",
       "   COUNT(clicks)  PERCENT_TRUE(clicks.is_attributed)  NUM_UNIQUE(clicks.app)  \\\n",
       "0          54815                            0.000511                     3.0   \n",
       "1          10996                            0.000182                     1.0   \n",
       "2          20441                            0.002984                     1.0   \n",
       "3          48995                            0.001061                     2.0   \n",
       "4          48995                            0.001061                     2.0   \n",
       "\n",
       "   NUM_UNIQUE(clicks.device)  NUM_UNIQUE(clicks.os)  MODE(clicks.app)  \\\n",
       "0                        2.0                   84.0               3.0   \n",
       "1                        2.0                   67.0              15.0   \n",
       "2                        3.0                   70.0               9.0   \n",
       "3                        3.0                   69.0               8.0   \n",
       "4                        3.0                   69.0               8.0   \n",
       "\n",
       "   MODE(clicks.device)  MODE(clicks.os)  \n",
       "0                  1.0             19.0  \n",
       "1                  1.0             19.0  \n",
       "2                  1.0             19.0  \n",
       "3                  1.0             19.0  \n",
       "4                  1.0             19.0  "
      ]
     },
     "execution_count": 9,
     "metadata": {},
     "output_type": "execute_result"
    }
   ],
   "source": [
    "df.head()"
   ]
  },
  {
   "cell_type": "code",
   "execution_count": 1,
   "metadata": {},
   "outputs": [],
   "source": [
    "import pickle\n"
   ]
  },
  {
   "cell_type": "code",
   "execution_count": 3,
   "metadata": {},
   "outputs": [],
   "source": []
  },
  {
   "cell_type": "code",
   "execution_count": 4,
   "metadata": {},
   "outputs": [
    {
     "data": {
      "text/plain": [
       "4"
      ]
     },
     "execution_count": 4,
     "metadata": {},
     "output_type": "execute_result"
    }
   ],
   "source": [
    "pickle.DEFAULT_PROTOCOL"
   ]
  },
  {
   "cell_type": "code",
   "execution_count": null,
   "metadata": {},
   "outputs": [],
   "source": []
  }
 ],
 "metadata": {
  "kernelspec": {
   "display_name": "Python 3",
   "language": "python",
   "name": "python3"
  },
  "language_info": {
   "codemirror_mode": {
    "name": "ipython",
    "version": 3
   },
   "file_extension": ".py",
   "mimetype": "text/x-python",
   "name": "python",
   "nbconvert_exporter": "python",
   "pygments_lexer": "ipython3",
   "version": "3.6.4"
  }
 },
 "nbformat": 4,
 "nbformat_minor": 2
}
